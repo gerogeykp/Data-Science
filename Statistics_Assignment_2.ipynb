{
  "nbformat": 4,
  "nbformat_minor": 0,
  "metadata": {
    "colab": {
      "name": "Statistics Assignment-2.ipynb",
      "provenance": [],
      "collapsed_sections": [],
      "include_colab_link": true
    },
    "kernelspec": {
      "name": "python3",
      "display_name": "Python 3"
    }
  },
  "cells": [
    {
      "cell_type": "markdown",
      "metadata": {
        "id": "view-in-github",
        "colab_type": "text"
      },
      "source": [
        "<a href=\"https://colab.research.google.com/github/gerogeykp/Data-Science/blob/main/Statistics_Assignment_2.ipynb\" target=\"_parent\"><img src=\"https://colab.research.google.com/assets/colab-badge.svg\" alt=\"Open In Colab\"/></a>"
      ]
    },
    {
      "cell_type": "markdown",
      "metadata": {
        "id": "K7S4cEyZLTp7"
      },
      "source": [
        "## Descriptive Statistics"
      ]
    },
    {
      "cell_type": "markdown",
      "metadata": {
        "id": "vZRYVyc8H7hi"
      },
      "source": [
        " Import **NumPy**, **SciPy**, and **Pandas**"
      ]
    },
    {
      "cell_type": "code",
      "metadata": {
        "id": "7ShN0klrHIk3"
      },
      "source": [
        "import numpy as np\n",
        "import matplotlib.pyplot as plt\n",
        "import seaborn as sns\n",
        "from scipy import stats"
      ],
      "execution_count": 1,
      "outputs": []
    },
    {
      "cell_type": "markdown",
      "metadata": {
        "id": "_SaQURIqIA6d"
      },
      "source": [
        " Randomly generate 1,000 samples from the normal distribution using `np.random.normal()`(mean = 100, standard deviation = 15)"
      ]
    },
    {
      "cell_type": "code",
      "metadata": {
        "id": "Jyw_FMX0IRkm"
      },
      "source": [
        "samples = np.random.normal(100,15,1000)\n",
        "samples"
      ],
      "execution_count": null,
      "outputs": []
    },
    {
      "cell_type": "markdown",
      "metadata": {
        "id": "CDF8m3a4IYOC"
      },
      "source": [
        "Compute the **mean**, **median**, and **mode**"
      ]
    },
    {
      "cell_type": "code",
      "metadata": {
        "id": "ZKbeqxaKIoNs"
      },
      "source": [
        "mean = np.mean(samples)\n",
        "median =np.median(samples)\n",
        "mode = stats.mode(samples)"
      ],
      "execution_count": 5,
      "outputs": []
    },
    {
      "cell_type": "markdown",
      "metadata": {
        "id": "skT8m39XI60w"
      },
      "source": [
        "Compute the **min**, **max**, **Q1**, **Q3**, and **interquartile range**"
      ]
    },
    {
      "cell_type": "code",
      "metadata": {
        "id": "VaiDphm8It0O",
        "outputId": "7e1f1291-ce7c-49ef-b906-4f2e1541fcec",
        "colab": {
          "base_uri": "https://localhost:8080/"
        }
      },
      "source": [
        "min = np.min(samples)\n",
        "max = np.max(samples)\n",
        "q1 = np.percentile(samples,25)\n",
        "q3 = np.percentile(samples,75)\n",
        "iqr = q3-q1\n",
        "print(\"min\",min,\"max\",max,\"q1\",q1,\"q3\",q3,\"iqr\",iqr ,\"stats_iqr\",stats.iqr(samples),sep=\"\\n\")"
      ],
      "execution_count": 18,
      "outputs": [
        {
          "output_type": "stream",
          "text": [
            "min\n",
            "56.98973781793425\n",
            "max\n",
            "144.5164552645859\n",
            "q1\n",
            "90.22220844278122\n",
            "q3\n",
            "109.4317326307872\n",
            "iqr\n",
            "19.20952418800597\n",
            "stats_iqr\n",
            "19.20952418800597\n"
          ],
          "name": "stdout"
        }
      ]
    },
    {
      "cell_type": "markdown",
      "metadata": {
        "id": "m53Dv3n5JHQi"
      },
      "source": [
        "Compute the **variance** and **standard deviation**"
      ]
    },
    {
      "cell_type": "code",
      "metadata": {
        "id": "6JFaAYdrJbeN",
        "outputId": "16e06946-36c4-4033-fa0d-935041298df3",
        "colab": {
          "base_uri": "https://localhost:8080/"
        }
      },
      "source": [
        "variance = np.var(samples)\n",
        "std_dev = np.sqrt(variance)\n",
        "print(\"variance\",variance,\"std_dev\",std_dev,\"stats_iqr\",stats.iqr(samples),sep=\"\\n\")"
      ],
      "execution_count": 17,
      "outputs": [
        {
          "output_type": "stream",
          "text": [
            "variance\n",
            "204.73350217921427\n",
            "std_dev\n",
            "14.308511529128886\n",
            "stats_iqr\n",
            "19.20952418800597\n"
          ],
          "name": "stdout"
        }
      ]
    },
    {
      "cell_type": "markdown",
      "metadata": {
        "id": "5eup4hI1JzqX"
      },
      "source": [
        "Compute the **skewness** and **kurtosis**"
      ]
    },
    {
      "cell_type": "code",
      "metadata": {
        "id": "YO3obyDnJ3_D",
        "outputId": "2dfbded9-0ccb-4ae9-ced9-d84958f9cf72",
        "colab": {
          "base_uri": "https://localhost:8080/"
        }
      },
      "source": [
        "skewness = stats.skew(samples)\n",
        "kurtosis = stats.kurtosis(samples)\n",
        "print(\"skewness\",skewness,\"kurtosis\",kurtosis,sep=\"\\n\")"
      ],
      "execution_count": 23,
      "outputs": [
        {
          "output_type": "stream",
          "text": [
            "skewness\n",
            "0.10455580439625135\n",
            "kurtosis\n",
            "-0.1230496632895055\n"
          ],
          "name": "stdout"
        }
      ]
    },
    {
      "cell_type": "code",
      "metadata": {
        "id": "xOKBFVB-n47a",
        "outputId": "63a29206-c3de-4896-8a22-b9ddec86860e",
        "colab": {
          "base_uri": "https://localhost:8080/",
          "height": 350
        }
      },
      "source": [
        "plt.hist(samples)"
      ],
      "execution_count": 24,
      "outputs": [
        {
          "output_type": "execute_result",
          "data": {
            "text/plain": [
              "(array([  6.,  27.,  89., 168., 242., 220., 140.,  72.,  30.,   6.]),\n",
              " array([ 56.98973782,  65.74240956,  74.49508131,  83.24775305,\n",
              "         92.0004248 , 100.75309654, 109.50576829, 118.25844003,\n",
              "        127.01111178, 135.76378352, 144.51645526]),\n",
              " <a list of 10 Patch objects>)"
            ]
          },
          "metadata": {
            "tags": []
          },
          "execution_count": 24
        },
        {
          "output_type": "display_data",
          "data": {
            "image/png": "[encoded data removed]",
            "text/plain": [
              "<Figure size 432x288 with 1 Axes>"
            ]
          },
          "metadata": {
            "tags": [],
            "needs_background": "light"
          }
        }
      ]
    },
    {
      "cell_type": "markdown",
      "metadata": {
        "id": "a5UNc8PUKnbU"
      },
      "source": [
        "## NumPy Correlation Calculation"
      ]
    },
    {
      "cell_type": "markdown",
      "metadata": {
        "id": "cLiqxE1CMNTg"
      },
      "source": [
        "Create an array x of integers between 10 (inclusive) and 20 (exclusive). Use `np.arange()`"
      ]
    },
    {
      "cell_type": "code",
      "metadata": {
        "id": "5LAaQ6w5L-2L"
      },
      "source": [
        "x = "
      ],
      "execution_count": null,
      "outputs": []
    },
    {
      "cell_type": "markdown",
      "metadata": {
        "id": "qyCIaukNMZPf"
      },
      "source": [
        "Then use `np.array()` to create a second array y containing 10 arbitrary integers."
      ]
    },
    {
      "cell_type": "code",
      "metadata": {
        "id": "p27eW__gNMdh"
      },
      "source": [
        "y = "
      ],
      "execution_count": null,
      "outputs": []
    },
    {
      "cell_type": "markdown",
      "metadata": {
        "id": "Kh_VeKwINSqS"
      },
      "source": [
        "Once you have two arrays of the same length, you can compute the **correlation coefficient** between x and y"
      ]
    },
    {
      "cell_type": "code",
      "metadata": {
        "id": "yrtC6rPkNSDC"
      },
      "source": [
        "r = "
      ],
      "execution_count": null,
      "outputs": []
    },
    {
      "cell_type": "markdown",
      "metadata": {
        "id": "vXieLjYiNtPi"
      },
      "source": [
        "## Pandas Correlation Calculation"
      ]
    },
    {
      "cell_type": "markdown",
      "metadata": {
        "id": "z56t0k0qNvkr"
      },
      "source": [
        "Run the code below"
      ]
    },
    {
      "cell_type": "code",
      "metadata": {
        "id": "9AVBMJCyNuwb"
      },
      "source": [
        "x = pd.Series(range(10, 20))\n",
        "y = pd.Series([2, 1, 4, 5, 8, 12, 18, 25, 96, 48])"
      ],
      "execution_count": null,
      "outputs": []
    },
    {
      "cell_type": "markdown",
      "metadata": {
        "id": "ZajVXYe2OCih"
      },
      "source": [
        "Call the relevant method  to calculate Pearson's r correlation."
      ]
    },
    {
      "cell_type": "code",
      "metadata": {
        "id": "Ak_rkzbLOafj"
      },
      "source": [
        "r ="
      ],
      "execution_count": null,
      "outputs": []
    },
    {
      "cell_type": "markdown",
      "metadata": {
        "id": "1CygSbnROb9V"
      },
      "source": [
        "OPTIONAL. Call the relevant method to calculate Spearman's rho correlation."
      ]
    },
    {
      "cell_type": "code",
      "metadata": {
        "id": "xp_QkXwmOlYY"
      },
      "source": [
        "rho ="
      ],
      "execution_count": null,
      "outputs": []
    },
    {
      "cell_type": "markdown",
      "metadata": {
        "id": "we7pg7kdOo7y"
      },
      "source": [
        "## Seaborn Dataset Tips"
      ]
    },
    {
      "cell_type": "markdown",
      "metadata": {
        "id": "VlzgFKN7OvqX"
      },
      "source": [
        "Import Seaborn Library"
      ]
    },
    {
      "cell_type": "code",
      "metadata": {
        "id": "t-49JRRqO4pw"
      },
      "source": [
        "import "
      ],
      "execution_count": null,
      "outputs": []
    },
    {
      "cell_type": "markdown",
      "metadata": {
        "id": "0INVBB4tO4y4"
      },
      "source": [
        "Load \"tips\" dataset from Seaborn"
      ]
    },
    {
      "cell_type": "code",
      "metadata": {
        "id": "kieLvcM1PBv7"
      },
      "source": [
        "tips = sns.load_dataset(\"tips\")"
      ],
      "execution_count": null,
      "outputs": []
    },
    {
      "cell_type": "markdown",
      "metadata": {
        "id": "o2ISqVQrPh5S"
      },
      "source": [
        "Generate descriptive statistics include those that summarize the central tendency, dispersion"
      ]
    },
    {
      "cell_type": "code",
      "metadata": {
        "id": "FyFvmdbJPVg6"
      },
      "source": [
        ""
      ],
      "execution_count": null,
      "outputs": []
    },
    {
      "cell_type": "markdown",
      "metadata": {
        "id": "3yCRK4VJPzRo"
      },
      "source": [
        "Call the relevant method to calculate pairwise Pearson's r correlation of columns"
      ]
    },
    {
      "cell_type": "code",
      "metadata": {
        "id": "qwvGzDU8PGnM"
      },
      "source": [
        ""
      ],
      "execution_count": null,
      "outputs": []
    }
  ]
}