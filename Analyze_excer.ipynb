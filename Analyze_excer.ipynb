{
  "nbformat": 4,
  "nbformat_minor": 5,
  "metadata": {
    "kernelspec": {
      "display_name": "Python 3",
      "language": "python",
      "name": "python3"
    },
    "language_info": {
      "codemirror_mode": {
        "name": "ipython",
        "version": 3
      },
      "file_extension": ".py",
      "mimetype": "text/x-python",
      "name": "python",
      "nbconvert_exporter": "python",
      "pygments_lexer": "ipython3",
      "version": "3.7.8"
    },
    "colab": {
      "name": "DS_KaanHoca_Exercise4.ipynb",
      "provenance": [],
      "include_colab_link": true
    }
  },
  "cells": [
    {
      "cell_type": "markdown",
      "metadata": {
        "id": "view-in-github",
        "colab_type": "text"
      },
      "source": [
        "<a href=\"https://colab.research.google.com/github/gerogeykp/Data-Science/blob/main/Analyze_excer.ipynb\" target=\"_parent\"><img src=\"https://colab.research.google.com/assets/colab-badge.svg\" alt=\"Open In Colab\"/></a>"
      ]
    },
    {
      "cell_type": "code",
      "metadata": {
        "id": "0498dcd1-db5d-488c-8ed1-a2a1fc09b35c"
      },
      "source": [
        "import numpy as np\n",
        "import pandas as pd"
      ],
      "id": "0498dcd1-db5d-488c-8ed1-a2a1fc09b35c",
      "execution_count": null,
      "outputs": []
    },
    {
      "cell_type": "markdown",
      "metadata": {
        "id": "115ac735-ab1b-4069-9447-c8942aa0d840"
      },
      "source": [
        "# **PANDAS**"
      ],
      "id": "115ac735-ab1b-4069-9447-c8942aa0d840"
    },
    {
      "cell_type": "markdown",
      "metadata": {
        "id": "26d0958e-ca05-48be-8b9b-d15dd7ac9700"
      },
      "source": [
        "### **Today's Agenda**:\n",
        "#### **Exercise**  \n",
        "#### **Replace**   \n",
        "#### **str methods**   \n",
        "#### **Missing Data**  \n",
        "\n"
      ],
      "id": "26d0958e-ca05-48be-8b9b-d15dd7ac9700"
    },
    {
      "cell_type": "code",
      "metadata": {
        "id": "9dbc3b83-a6b9-4082-ba41-777acefb8e40"
      },
      "source": [
        "df = pd.read_csv('world-happiness-report-2021.csv')"
      ],
      "id": "9dbc3b83-a6b9-4082-ba41-777acefb8e40",
      "execution_count": null,
      "outputs": []
    },
    {
      "cell_type": "code",
      "metadata": {
        "scrolled": true,
        "id": "b167c284-47ad-4a66-9391-335aa19222eb",
        "outputId": "6c56660a-bacc-4347-9223-c4e20e0471d7"
      },
      "source": [
        "df1 = df[['Country name', 'Regional indicator', 'Ladder score',\n",
        "       'Logged GDP per capita', 'Social support', 'Healthy life expectancy',\n",
        "       'Freedom to make life choices', 'Generosity',\n",
        "       'Perceptions of corruption']].copy()\n",
        "df1.set_index('Country name', inplace=True)\n",
        "df1.head(2)"
      ],
      "id": "b167c284-47ad-4a66-9391-335aa19222eb",
      "execution_count": null,
      "outputs": [
        {
          "data": {
            "text/html": [
              "<div>\n",
              "<style scoped>\n",
              "    .dataframe tbody tr th:only-of-type {\n",
              "        vertical-align: middle;\n",
              "    }\n",
              "\n",
              "    .dataframe tbody tr th {\n",
              "        vertical-align: top;\n",
              "    }\n",
              "\n",
              "    .dataframe thead th {\n",
              "        text-align: right;\n",
              "    }\n",
              "</style>\n",
              "<table border=\"1\" class=\"dataframe\">\n",
              "  <thead>\n",
              "    <tr style=\"text-align: right;\">\n",
              "      <th></th>\n",
              "      <th>Regional indicator</th>\n",
              "      <th>Ladder score</th>\n",
              "      <th>Logged GDP per capita</th>\n",
              "      <th>Social support</th>\n",
              "      <th>Healthy life expectancy</th>\n",
              "      <th>Freedom to make life choices</th>\n",
              "      <th>Generosity</th>\n",
              "      <th>Perceptions of corruption</th>\n",
              "    </tr>\n",
              "    <tr>\n",
              "      <th>Country name</th>\n",
              "      <th></th>\n",
              "      <th></th>\n",
              "      <th></th>\n",
              "      <th></th>\n",
              "      <th></th>\n",
              "      <th></th>\n",
              "      <th></th>\n",
              "      <th></th>\n",
              "    </tr>\n",
              "  </thead>\n",
              "  <tbody>\n",
              "    <tr>\n",
              "      <th>Finland</th>\n",
              "      <td>Western Europe</td>\n",
              "      <td>7.842</td>\n",
              "      <td>10.775</td>\n",
              "      <td>0.954</td>\n",
              "      <td>72.0</td>\n",
              "      <td>0.949</td>\n",
              "      <td>-0.098</td>\n",
              "      <td>0.186</td>\n",
              "    </tr>\n",
              "    <tr>\n",
              "      <th>Denmark</th>\n",
              "      <td>Western Europe</td>\n",
              "      <td>7.620</td>\n",
              "      <td>10.933</td>\n",
              "      <td>0.954</td>\n",
              "      <td>72.7</td>\n",
              "      <td>0.946</td>\n",
              "      <td>0.030</td>\n",
              "      <td>0.179</td>\n",
              "    </tr>\n",
              "  </tbody>\n",
              "</table>\n",
              "</div>"
            ],
            "text/plain": [
              "             Regional indicator  Ladder score  Logged GDP per capita  \\\n",
              "Country name                                                           \n",
              "Finland          Western Europe         7.842                 10.775   \n",
              "Denmark          Western Europe         7.620                 10.933   \n",
              "\n",
              "              Social support  Healthy life expectancy  \\\n",
              "Country name                                            \n",
              "Finland                0.954                     72.0   \n",
              "Denmark                0.954                     72.7   \n",
              "\n",
              "              Freedom to make life choices  Generosity  \\\n",
              "Country name                                             \n",
              "Finland                              0.949      -0.098   \n",
              "Denmark                              0.946       0.030   \n",
              "\n",
              "              Perceptions of corruption  \n",
              "Country name                             \n",
              "Finland                           0.186  \n",
              "Denmark                           0.179  "
            ]
          },
          "execution_count": 3,
          "metadata": {},
          "output_type": "execute_result"
        }
      ]
    },
    {
      "cell_type": "markdown",
      "metadata": {
        "id": "26314b96-95d9-43b8-a261-88df5bcaf5aa"
      },
      "source": [
        "**Exercise** : We are working as a Data Scientist at an internationally well-known infrastructure company, \n",
        "which makes projects all over the world. Right now, our company's focus areas are: 'Southeast Asia' and 'South Asia'.\n",
        "\n",
        "In the first place, our boss wants us to prepare a descriptive report on the institutional integrity and citizens to trust their governments to see whether it is worthed to start a project idea to invest huge amount of money and time to those regions.\n",
        "\n",
        "We are preparing a descriptive report for our boss, who does not have much knowledge of statistics or reading statistical results. As data scientists, we should prepare something concise and understandable.\n",
        "\n",
        "Let's start with the following steps:\n",
        "\n",
        "-First, decide on which variable would be a good choice to work on \n",
        "\n",
        "-Second give our boss both numbers and also kind of explanatory side (like we did before)\n",
        "\n",
        "-Make a comparison between two regions in the text \n",
        "\n",
        "-Our report should contain \n",
        "\n",
        "--overall regions, \n",
        "\n",
        "--'Southeast Asia' and 'South Asia'\n",
        "\n",
        "--variable and modified version of the variable"
      ],
      "id": "26314b96-95d9-43b8-a261-88df5bcaf5aa"
    },
    {
      "cell_type": "code",
      "metadata": {
        "id": "a685db55-87ce-4686-ba36-a92ce2864480",
        "outputId": "efb2adc6-05a5-468b-fdfd-56d958ce4b52"
      },
      "source": [
        "df1.groupby('Regional indicator')['Perceptions of corruption'].agg(['mean','max','min']).sort_values(by='mean', ascending=False)"
      ],
      "id": "a685db55-87ce-4686-ba36-a92ce2864480",
      "execution_count": null,
      "outputs": [
        {
          "data": {
            "text/html": [
              "<div>\n",
              "<style scoped>\n",
              "    .dataframe tbody tr th:only-of-type {\n",
              "        vertical-align: middle;\n",
              "    }\n",
              "\n",
              "    .dataframe tbody tr th {\n",
              "        vertical-align: top;\n",
              "    }\n",
              "\n",
              "    .dataframe thead th {\n",
              "        text-align: right;\n",
              "    }\n",
              "</style>\n",
              "<table border=\"1\" class=\"dataframe\">\n",
              "  <thead>\n",
              "    <tr style=\"text-align: right;\">\n",
              "      <th></th>\n",
              "      <th>mean</th>\n",
              "      <th>max</th>\n",
              "      <th>min</th>\n",
              "    </tr>\n",
              "    <tr>\n",
              "      <th>Regional indicator</th>\n",
              "      <th></th>\n",
              "      <th></th>\n",
              "      <th></th>\n",
              "    </tr>\n",
              "  </thead>\n",
              "  <tbody>\n",
              "    <tr>\n",
              "      <th>Central and Eastern Europe</th>\n",
              "      <td>0.850529</td>\n",
              "      <td>0.939</td>\n",
              "      <td>0.527</td>\n",
              "    </tr>\n",
              "    <tr>\n",
              "      <th>South Asia</th>\n",
              "      <td>0.797429</td>\n",
              "      <td>0.924</td>\n",
              "      <td>0.682</td>\n",
              "    </tr>\n",
              "    <tr>\n",
              "      <th>Latin America and Caribbean</th>\n",
              "      <td>0.792600</td>\n",
              "      <td>0.891</td>\n",
              "      <td>0.590</td>\n",
              "    </tr>\n",
              "    <tr>\n",
              "      <th>Sub-Saharan Africa</th>\n",
              "      <td>0.765944</td>\n",
              "      <td>0.915</td>\n",
              "      <td>0.167</td>\n",
              "    </tr>\n",
              "    <tr>\n",
              "      <th>Middle East and North Africa</th>\n",
              "      <td>0.762235</td>\n",
              "      <td>0.898</td>\n",
              "      <td>0.589</td>\n",
              "    </tr>\n",
              "    <tr>\n",
              "      <th>Commonwealth of Independent States</th>\n",
              "      <td>0.725083</td>\n",
              "      <td>0.924</td>\n",
              "      <td>0.506</td>\n",
              "    </tr>\n",
              "    <tr>\n",
              "      <th>Southeast Asia</th>\n",
              "      <td>0.709111</td>\n",
              "      <td>0.895</td>\n",
              "      <td>0.082</td>\n",
              "    </tr>\n",
              "    <tr>\n",
              "      <th>East Asia</th>\n",
              "      <td>0.683333</td>\n",
              "      <td>0.856</td>\n",
              "      <td>0.403</td>\n",
              "    </tr>\n",
              "    <tr>\n",
              "      <th>Western Europe</th>\n",
              "      <td>0.523095</td>\n",
              "      <td>0.887</td>\n",
              "      <td>0.179</td>\n",
              "    </tr>\n",
              "    <tr>\n",
              "      <th>North America and ANZ</th>\n",
              "      <td>0.449250</td>\n",
              "      <td>0.698</td>\n",
              "      <td>0.242</td>\n",
              "    </tr>\n",
              "  </tbody>\n",
              "</table>\n",
              "</div>"
            ],
            "text/plain": [
              "                                        mean    max    min\n",
              "Regional indicator                                        \n",
              "Central and Eastern Europe          0.850529  0.939  0.527\n",
              "South Asia                          0.797429  0.924  0.682\n",
              "Latin America and Caribbean         0.792600  0.891  0.590\n",
              "Sub-Saharan Africa                  0.765944  0.915  0.167\n",
              "Middle East and North Africa        0.762235  0.898  0.589\n",
              "Commonwealth of Independent States  0.725083  0.924  0.506\n",
              "Southeast Asia                      0.709111  0.895  0.082\n",
              "East Asia                           0.683333  0.856  0.403\n",
              "Western Europe                      0.523095  0.887  0.179\n",
              "North America and ANZ               0.449250  0.698  0.242"
            ]
          },
          "execution_count": 6,
          "metadata": {},
          "output_type": "execute_result"
        }
      ]
    },
    {
      "cell_type": "markdown",
      "metadata": {
        "id": "dEvK7wzb7xKo"
      },
      "source": [
        ""
      ],
      "id": "dEvK7wzb7xKo"
    },
    {
      "cell_type": "code",
      "metadata": {
        "id": "64d9b1f4-f6ee-4a5f-8ede-2cd299536bf3",
        "outputId": "3433f96a-d88a-46a4-bdb0-11f638994443"
      },
      "source": [
        "df1.groupby('Regional indicator').get_group('Southeast Asia')['Perceptions of corruption'].sort_values(ascending=False)"
      ],
      "id": "64d9b1f4-f6ee-4a5f-8ede-2cd299536bf3",
      "execution_count": null,
      "outputs": [
        {
          "data": {
            "text/plain": [
              "Country name\n",
              "Thailand       0.895\n",
              "Indonesia      0.867\n",
              "Cambodia       0.843\n",
              "Malaysia       0.839\n",
              "Vietnam        0.796\n",
              "Philippines    0.742\n",
              "Myanmar        0.660\n",
              "Laos           0.658\n",
              "Singapore      0.082\n",
              "Name: Perceptions of corruption, dtype: float64"
            ]
          },
          "execution_count": 7,
          "metadata": {},
          "output_type": "execute_result"
        }
      ]
    },
    {
      "cell_type": "code",
      "metadata": {
        "id": "878a7dab-117d-4bba-97a3-f5aa876ddcc5",
        "outputId": "cb3cee5e-4e01-4bd7-deea-939e0beff848"
      },
      "source": [
        "df1.groupby('Regional indicator').get_group('South Asia')['Perceptions of corruption'].sort_values(ascending=False)"
      ],
      "id": "878a7dab-117d-4bba-97a3-f5aa876ddcc5",
      "execution_count": null,
      "outputs": [
        {
          "data": {
            "text/plain": [
              "Country name\n",
              "Afghanistan    0.924\n",
              "Sri Lanka      0.863\n",
              "Maldives       0.825\n",
              "Pakistan       0.787\n",
              "India          0.774\n",
              "Nepal          0.727\n",
              "Bangladesh     0.682\n",
              "Name: Perceptions of corruption, dtype: float64"
            ]
          },
          "execution_count": 8,
          "metadata": {},
          "output_type": "execute_result"
        }
      ]
    },
    {
      "cell_type": "code",
      "metadata": {
        "id": "b731b0db-338a-4fd2-900c-699e8ee80b60",
        "outputId": "ba03c1a0-356a-419e-f448-95b70a8fe6ef"
      },
      "source": [
        "df1['Perceptions of corruption'].describe()"
      ],
      "id": "b731b0db-338a-4fd2-900c-699e8ee80b60",
      "execution_count": null,
      "outputs": [
        {
          "data": {
            "text/plain": [
              "count    149.000000\n",
              "mean       0.727450\n",
              "std        0.179226\n",
              "min        0.082000\n",
              "25%        0.667000\n",
              "50%        0.781000\n",
              "75%        0.845000\n",
              "max        0.939000\n",
              "Name: Perceptions of corruption, dtype: float64"
            ]
          },
          "execution_count": 9,
          "metadata": {},
          "output_type": "execute_result"
        }
      ]
    },
    {
      "cell_type": "code",
      "metadata": {
        "id": "16e579ed-5fa9-45be-9ca2-cf9f7db48e88"
      },
      "source": [
        "def trust(corrupt):\n",
        "    if corrupt >= 0.845000:\n",
        "        return 'Low trust in institutions'\n",
        "    elif corrupt > 0.781000 and corrupt < 0.845000:\n",
        "        return 'Lower than normal level trust in institutions'\n",
        "    elif corrupt > 0.667000 and corrupt <= 0.781000:\n",
        "        return 'About the normal level trust in institutions'\n",
        "    else:\n",
        "        return 'High level trust in institutions'\n",
        "    "
      ],
      "id": "16e579ed-5fa9-45be-9ca2-cf9f7db48e88",
      "execution_count": null,
      "outputs": []
    },
    {
      "cell_type": "code",
      "metadata": {
        "id": "24d28b78-b70a-4418-b33c-e6553f574044",
        "outputId": "bb280f87-7427-437d-ff53-1a3065595d8b"
      },
      "source": [
        "df1['trust in institutions'] = df1['Perceptions of corruption'].apply(trust)\n",
        "df1['trust in institutions'].head(2)"
      ],
      "id": "24d28b78-b70a-4418-b33c-e6553f574044",
      "execution_count": null,
      "outputs": [
        {
          "data": {
            "text/plain": [
              "Country name\n",
              "Finland    High level trust in institutions\n",
              "Denmark    High level trust in institutions\n",
              "Name: trust in institutions, dtype: object"
            ]
          },
          "execution_count": 11,
          "metadata": {},
          "output_type": "execute_result"
        }
      ]
    },
    {
      "cell_type": "code",
      "metadata": {
        "id": "2590abc7-d0ac-4ffd-9331-9ead7044ffdb",
        "outputId": "1fe92d35-f037-42e8-9b4d-c30cc92df108"
      },
      "source": [
        "df1.groupby('Regional indicator').get_group('South Asia')['trust in institutions']"
      ],
      "id": "2590abc7-d0ac-4ffd-9331-9ead7044ffdb",
      "execution_count": null,
      "outputs": [
        {
          "data": {
            "text/plain": [
              "Country name\n",
              "Nepal           About the normal level trust in institutions\n",
              "Maldives       Lower than normal level trust in institutions\n",
              "Bangladesh      About the normal level trust in institutions\n",
              "Pakistan       Lower than normal level trust in institutions\n",
              "Sri Lanka                          Low trust in institutions\n",
              "India           About the normal level trust in institutions\n",
              "Afghanistan                        Low trust in institutions\n",
              "Name: trust in institutions, dtype: object"
            ]
          },
          "execution_count": 12,
          "metadata": {},
          "output_type": "execute_result"
        }
      ]
    },
    {
      "cell_type": "code",
      "metadata": {
        "id": "d0015437-9611-4334-aa73-b015bad8613d",
        "outputId": "d6269a37-02c9-4a5a-8444-e537c4e171c8"
      },
      "source": [
        "df1.groupby('Regional indicator').get_group('Southeast Asia')['trust in institutions']"
      ],
      "id": "d0015437-9611-4334-aa73-b015bad8613d",
      "execution_count": null,
      "outputs": [
        {
          "data": {
            "text/plain": [
              "Country name\n",
              "Singapore                   High level trust in institutions\n",
              "Thailand                           Low trust in institutions\n",
              "Philippines     About the normal level trust in institutions\n",
              "Vietnam        Lower than normal level trust in institutions\n",
              "Malaysia       Lower than normal level trust in institutions\n",
              "Indonesia                          Low trust in institutions\n",
              "Laos                        High level trust in institutions\n",
              "Cambodia       Lower than normal level trust in institutions\n",
              "Myanmar                     High level trust in institutions\n",
              "Name: trust in institutions, dtype: object"
            ]
          },
          "execution_count": 13,
          "metadata": {},
          "output_type": "execute_result"
        }
      ]
    },
    {
      "cell_type": "code",
      "metadata": {
        "id": "3746cfb3-7fde-4b78-bb3e-976a354f95cd",
        "outputId": "f69a6752-9150-41f3-b3e9-928b0e7db37c"
      },
      "source": [
        "invest_df= df1[(df1['Regional indicator']=='Southeast Asia') | (df1['Regional indicator']=='South Asia')]\n",
        "invest_df.head(2)"
      ],
      "id": "3746cfb3-7fde-4b78-bb3e-976a354f95cd",
      "execution_count": null,
      "outputs": [
        {
          "data": {
            "text/html": [
              "<div>\n",
              "<style scoped>\n",
              "    .dataframe tbody tr th:only-of-type {\n",
              "        vertical-align: middle;\n",
              "    }\n",
              "\n",
              "    .dataframe tbody tr th {\n",
              "        vertical-align: top;\n",
              "    }\n",
              "\n",
              "    .dataframe thead th {\n",
              "        text-align: right;\n",
              "    }\n",
              "</style>\n",
              "<table border=\"1\" class=\"dataframe\">\n",
              "  <thead>\n",
              "    <tr style=\"text-align: right;\">\n",
              "      <th></th>\n",
              "      <th>Regional indicator</th>\n",
              "      <th>Ladder score</th>\n",
              "      <th>Logged GDP per capita</th>\n",
              "      <th>Social support</th>\n",
              "      <th>Healthy life expectancy</th>\n",
              "      <th>Freedom to make life choices</th>\n",
              "      <th>Generosity</th>\n",
              "      <th>Perceptions of corruption</th>\n",
              "      <th>trust in institutions</th>\n",
              "    </tr>\n",
              "    <tr>\n",
              "      <th>Country name</th>\n",
              "      <th></th>\n",
              "      <th></th>\n",
              "      <th></th>\n",
              "      <th></th>\n",
              "      <th></th>\n",
              "      <th></th>\n",
              "      <th></th>\n",
              "      <th></th>\n",
              "      <th></th>\n",
              "    </tr>\n",
              "  </thead>\n",
              "  <tbody>\n",
              "    <tr>\n",
              "      <th>Singapore</th>\n",
              "      <td>Southeast Asia</td>\n",
              "      <td>6.377</td>\n",
              "      <td>11.488</td>\n",
              "      <td>0.915</td>\n",
              "      <td>76.953</td>\n",
              "      <td>0.927</td>\n",
              "      <td>-0.018</td>\n",
              "      <td>0.082</td>\n",
              "      <td>High level trust in institutions</td>\n",
              "    </tr>\n",
              "    <tr>\n",
              "      <th>Thailand</th>\n",
              "      <td>Southeast Asia</td>\n",
              "      <td>5.985</td>\n",
              "      <td>9.805</td>\n",
              "      <td>0.888</td>\n",
              "      <td>67.401</td>\n",
              "      <td>0.884</td>\n",
              "      <td>0.287</td>\n",
              "      <td>0.895</td>\n",
              "      <td>Low trust in institutions</td>\n",
              "    </tr>\n",
              "  </tbody>\n",
              "</table>\n",
              "</div>"
            ],
            "text/plain": [
              "             Regional indicator  Ladder score  Logged GDP per capita  \\\n",
              "Country name                                                           \n",
              "Singapore        Southeast Asia         6.377                 11.488   \n",
              "Thailand         Southeast Asia         5.985                  9.805   \n",
              "\n",
              "              Social support  Healthy life expectancy  \\\n",
              "Country name                                            \n",
              "Singapore              0.915                   76.953   \n",
              "Thailand               0.888                   67.401   \n",
              "\n",
              "              Freedom to make life choices  Generosity  \\\n",
              "Country name                                             \n",
              "Singapore                            0.927      -0.018   \n",
              "Thailand                             0.884       0.287   \n",
              "\n",
              "              Perceptions of corruption             trust in institutions  \n",
              "Country name                                                               \n",
              "Singapore                         0.082  High level trust in institutions  \n",
              "Thailand                          0.895         Low trust in institutions  "
            ]
          },
          "execution_count": 14,
          "metadata": {},
          "output_type": "execute_result"
        }
      ]
    },
    {
      "cell_type": "code",
      "metadata": {
        "id": "5506d594-dce0-4a90-9f75-93999c2937ec",
        "outputId": "da0927f1-eaa4-42e2-d470-542df4b65405"
      },
      "source": [
        "#1\n",
        "invest_df[['Regional indicator','Perceptions of corruption','trust in institutions']].sort_values(by='Regional indicator')"
      ],
      "id": "5506d594-dce0-4a90-9f75-93999c2937ec",
      "execution_count": null,
      "outputs": [
        {
          "data": {
            "text/html": [
              "<div>\n",
              "<style scoped>\n",
              "    .dataframe tbody tr th:only-of-type {\n",
              "        vertical-align: middle;\n",
              "    }\n",
              "\n",
              "    .dataframe tbody tr th {\n",
              "        vertical-align: top;\n",
              "    }\n",
              "\n",
              "    .dataframe thead th {\n",
              "        text-align: right;\n",
              "    }\n",
              "</style>\n",
              "<table border=\"1\" class=\"dataframe\">\n",
              "  <thead>\n",
              "    <tr style=\"text-align: right;\">\n",
              "      <th></th>\n",
              "      <th>Regional indicator</th>\n",
              "      <th>Perceptions of corruption</th>\n",
              "      <th>trust in institutions</th>\n",
              "    </tr>\n",
              "    <tr>\n",
              "      <th>Country name</th>\n",
              "      <th></th>\n",
              "      <th></th>\n",
              "      <th></th>\n",
              "    </tr>\n",
              "  </thead>\n",
              "  <tbody>\n",
              "    <tr>\n",
              "      <th>Nepal</th>\n",
              "      <td>South Asia</td>\n",
              "      <td>0.727</td>\n",
              "      <td>About the normal level trust in institutions</td>\n",
              "    </tr>\n",
              "    <tr>\n",
              "      <th>Maldives</th>\n",
              "      <td>South Asia</td>\n",
              "      <td>0.825</td>\n",
              "      <td>Lower than normal level trust in institutions</td>\n",
              "    </tr>\n",
              "    <tr>\n",
              "      <th>Bangladesh</th>\n",
              "      <td>South Asia</td>\n",
              "      <td>0.682</td>\n",
              "      <td>About the normal level trust in institutions</td>\n",
              "    </tr>\n",
              "    <tr>\n",
              "      <th>Pakistan</th>\n",
              "      <td>South Asia</td>\n",
              "      <td>0.787</td>\n",
              "      <td>Lower than normal level trust in institutions</td>\n",
              "    </tr>\n",
              "    <tr>\n",
              "      <th>Sri Lanka</th>\n",
              "      <td>South Asia</td>\n",
              "      <td>0.863</td>\n",
              "      <td>Low trust in institutions</td>\n",
              "    </tr>\n",
              "    <tr>\n",
              "      <th>India</th>\n",
              "      <td>South Asia</td>\n",
              "      <td>0.774</td>\n",
              "      <td>About the normal level trust in institutions</td>\n",
              "    </tr>\n",
              "    <tr>\n",
              "      <th>Afghanistan</th>\n",
              "      <td>South Asia</td>\n",
              "      <td>0.924</td>\n",
              "      <td>Low trust in institutions</td>\n",
              "    </tr>\n",
              "    <tr>\n",
              "      <th>Singapore</th>\n",
              "      <td>Southeast Asia</td>\n",
              "      <td>0.082</td>\n",
              "      <td>High level trust in institutions</td>\n",
              "    </tr>\n",
              "    <tr>\n",
              "      <th>Thailand</th>\n",
              "      <td>Southeast Asia</td>\n",
              "      <td>0.895</td>\n",
              "      <td>Low trust in institutions</td>\n",
              "    </tr>\n",
              "    <tr>\n",
              "      <th>Philippines</th>\n",
              "      <td>Southeast Asia</td>\n",
              "      <td>0.742</td>\n",
              "      <td>About the normal level trust in institutions</td>\n",
              "    </tr>\n",
              "    <tr>\n",
              "      <th>Vietnam</th>\n",
              "      <td>Southeast Asia</td>\n",
              "      <td>0.796</td>\n",
              "      <td>Lower than normal level trust in institutions</td>\n",
              "    </tr>\n",
              "    <tr>\n",
              "      <th>Malaysia</th>\n",
              "      <td>Southeast Asia</td>\n",
              "      <td>0.839</td>\n",
              "      <td>Lower than normal level trust in institutions</td>\n",
              "    </tr>\n",
              "    <tr>\n",
              "      <th>Indonesia</th>\n",
              "      <td>Southeast Asia</td>\n",
              "      <td>0.867</td>\n",
              "      <td>Low trust in institutions</td>\n",
              "    </tr>\n",
              "    <tr>\n",
              "      <th>Laos</th>\n",
              "      <td>Southeast Asia</td>\n",
              "      <td>0.658</td>\n",
              "      <td>High level trust in institutions</td>\n",
              "    </tr>\n",
              "    <tr>\n",
              "      <th>Cambodia</th>\n",
              "      <td>Southeast Asia</td>\n",
              "      <td>0.843</td>\n",
              "      <td>Lower than normal level trust in institutions</td>\n",
              "    </tr>\n",
              "    <tr>\n",
              "      <th>Myanmar</th>\n",
              "      <td>Southeast Asia</td>\n",
              "      <td>0.660</td>\n",
              "      <td>High level trust in institutions</td>\n",
              "    </tr>\n",
              "  </tbody>\n",
              "</table>\n",
              "</div>"
            ],
            "text/plain": [
              "             Regional indicator  Perceptions of corruption  \\\n",
              "Country name                                                 \n",
              "Nepal                South Asia                      0.727   \n",
              "Maldives             South Asia                      0.825   \n",
              "Bangladesh           South Asia                      0.682   \n",
              "Pakistan             South Asia                      0.787   \n",
              "Sri Lanka            South Asia                      0.863   \n",
              "India                South Asia                      0.774   \n",
              "Afghanistan          South Asia                      0.924   \n",
              "Singapore        Southeast Asia                      0.082   \n",
              "Thailand         Southeast Asia                      0.895   \n",
              "Philippines      Southeast Asia                      0.742   \n",
              "Vietnam          Southeast Asia                      0.796   \n",
              "Malaysia         Southeast Asia                      0.839   \n",
              "Indonesia        Southeast Asia                      0.867   \n",
              "Laos             Southeast Asia                      0.658   \n",
              "Cambodia         Southeast Asia                      0.843   \n",
              "Myanmar          Southeast Asia                      0.660   \n",
              "\n",
              "                                      trust in institutions  \n",
              "Country name                                                 \n",
              "Nepal          About the normal level trust in institutions  \n",
              "Maldives      Lower than normal level trust in institutions  \n",
              "Bangladesh     About the normal level trust in institutions  \n",
              "Pakistan      Lower than normal level trust in institutions  \n",
              "Sri Lanka                         Low trust in institutions  \n",
              "India          About the normal level trust in institutions  \n",
              "Afghanistan                       Low trust in institutions  \n",
              "Singapore                  High level trust in institutions  \n",
              "Thailand                          Low trust in institutions  \n",
              "Philippines    About the normal level trust in institutions  \n",
              "Vietnam       Lower than normal level trust in institutions  \n",
              "Malaysia      Lower than normal level trust in institutions  \n",
              "Indonesia                         Low trust in institutions  \n",
              "Laos                       High level trust in institutions  \n",
              "Cambodia      Lower than normal level trust in institutions  \n",
              "Myanmar                    High level trust in institutions  "
            ]
          },
          "execution_count": 15,
          "metadata": {},
          "output_type": "execute_result"
        }
      ]
    },
    {
      "cell_type": "code",
      "metadata": {
        "id": "92b4d147-4537-4fc8-b866-4b2b6d3d205f",
        "outputId": "acb2d78c-17d8-4ee7-b094-1c6794848f2c"
      },
      "source": [
        "#2\n",
        "invest_df.groupby('Regional indicator')[['Perceptions of corruption','trust in institutions']].describe()"
      ],
      "id": "92b4d147-4537-4fc8-b866-4b2b6d3d205f",
      "execution_count": null,
      "outputs": [
        {
          "data": {
            "text/html": [
              "<div>\n",
              "<style scoped>\n",
              "    .dataframe tbody tr th:only-of-type {\n",
              "        vertical-align: middle;\n",
              "    }\n",
              "\n",
              "    .dataframe tbody tr th {\n",
              "        vertical-align: top;\n",
              "    }\n",
              "\n",
              "    .dataframe thead tr th {\n",
              "        text-align: left;\n",
              "    }\n",
              "\n",
              "    .dataframe thead tr:last-of-type th {\n",
              "        text-align: right;\n",
              "    }\n",
              "</style>\n",
              "<table border=\"1\" class=\"dataframe\">\n",
              "  <thead>\n",
              "    <tr>\n",
              "      <th></th>\n",
              "      <th colspan=\"8\" halign=\"left\">Perceptions of corruption</th>\n",
              "    </tr>\n",
              "    <tr>\n",
              "      <th></th>\n",
              "      <th>count</th>\n",
              "      <th>mean</th>\n",
              "      <th>std</th>\n",
              "      <th>min</th>\n",
              "      <th>25%</th>\n",
              "      <th>50%</th>\n",
              "      <th>75%</th>\n",
              "      <th>max</th>\n",
              "    </tr>\n",
              "    <tr>\n",
              "      <th>Regional indicator</th>\n",
              "      <th></th>\n",
              "      <th></th>\n",
              "      <th></th>\n",
              "      <th></th>\n",
              "      <th></th>\n",
              "      <th></th>\n",
              "      <th></th>\n",
              "      <th></th>\n",
              "    </tr>\n",
              "  </thead>\n",
              "  <tbody>\n",
              "    <tr>\n",
              "      <th>South Asia</th>\n",
              "      <td>7.0</td>\n",
              "      <td>0.797429</td>\n",
              "      <td>0.081672</td>\n",
              "      <td>0.682</td>\n",
              "      <td>0.7505</td>\n",
              "      <td>0.787</td>\n",
              "      <td>0.844</td>\n",
              "      <td>0.924</td>\n",
              "    </tr>\n",
              "    <tr>\n",
              "      <th>Southeast Asia</th>\n",
              "      <td>9.0</td>\n",
              "      <td>0.709111</td>\n",
              "      <td>0.250301</td>\n",
              "      <td>0.082</td>\n",
              "      <td>0.6600</td>\n",
              "      <td>0.796</td>\n",
              "      <td>0.843</td>\n",
              "      <td>0.895</td>\n",
              "    </tr>\n",
              "  </tbody>\n",
              "</table>\n",
              "</div>"
            ],
            "text/plain": [
              "                   Perceptions of corruption                             \\\n",
              "                                       count      mean       std    min   \n",
              "Regional indicator                                                        \n",
              "South Asia                               7.0  0.797429  0.081672  0.682   \n",
              "Southeast Asia                           9.0  0.709111  0.250301  0.082   \n",
              "\n",
              "                                                 \n",
              "                       25%    50%    75%    max  \n",
              "Regional indicator                               \n",
              "South Asia          0.7505  0.787  0.844  0.924  \n",
              "Southeast Asia      0.6600  0.796  0.843  0.895  "
            ]
          },
          "execution_count": 16,
          "metadata": {},
          "output_type": "execute_result"
        }
      ]
    },
    {
      "cell_type": "code",
      "metadata": {
        "id": "2af849bb-9e59-4f17-acdf-11c3eb1f2104"
      },
      "source": [
        "#3\n",
        "invest_df= invest_df.reset_index()\n",
        "invest_df= invest_df.set_index(['Regional indicator'])\n",
        "invest_df.sort_index(inplace=True)"
      ],
      "id": "2af849bb-9e59-4f17-acdf-11c3eb1f2104",
      "execution_count": null,
      "outputs": []
    },
    {
      "cell_type": "code",
      "metadata": {
        "id": "f65a838e-cb10-4e71-ba22-b3a88fe243e9",
        "outputId": "57659bc2-446a-4bf6-8ace-e68740591e19"
      },
      "source": [
        "invest_df[['Country name','Perceptions of corruption','trust in institutions']]"
      ],
      "id": "f65a838e-cb10-4e71-ba22-b3a88fe243e9",
      "execution_count": null,
      "outputs": [
        {
          "data": {
            "text/html": [
              "<div>\n",
              "<style scoped>\n",
              "    .dataframe tbody tr th:only-of-type {\n",
              "        vertical-align: middle;\n",
              "    }\n",
              "\n",
              "    .dataframe tbody tr th {\n",
              "        vertical-align: top;\n",
              "    }\n",
              "\n",
              "    .dataframe thead th {\n",
              "        text-align: right;\n",
              "    }\n",
              "</style>\n",
              "<table border=\"1\" class=\"dataframe\">\n",
              "  <thead>\n",
              "    <tr style=\"text-align: right;\">\n",
              "      <th></th>\n",
              "      <th>Country name</th>\n",
              "      <th>Perceptions of corruption</th>\n",
              "      <th>trust in institutions</th>\n",
              "    </tr>\n",
              "    <tr>\n",
              "      <th>Regional indicator</th>\n",
              "      <th></th>\n",
              "      <th></th>\n",
              "      <th></th>\n",
              "    </tr>\n",
              "  </thead>\n",
              "  <tbody>\n",
              "    <tr>\n",
              "      <th>South Asia</th>\n",
              "      <td>Nepal</td>\n",
              "      <td>0.727</td>\n",
              "      <td>About the normal level trust in institutions</td>\n",
              "    </tr>\n",
              "    <tr>\n",
              "      <th>South Asia</th>\n",
              "      <td>Maldives</td>\n",
              "      <td>0.825</td>\n",
              "      <td>Lower than normal level trust in institutions</td>\n",
              "    </tr>\n",
              "    <tr>\n",
              "      <th>South Asia</th>\n",
              "      <td>Bangladesh</td>\n",
              "      <td>0.682</td>\n",
              "      <td>About the normal level trust in institutions</td>\n",
              "    </tr>\n",
              "    <tr>\n",
              "      <th>South Asia</th>\n",
              "      <td>Pakistan</td>\n",
              "      <td>0.787</td>\n",
              "      <td>Lower than normal level trust in institutions</td>\n",
              "    </tr>\n",
              "    <tr>\n",
              "      <th>South Asia</th>\n",
              "      <td>Sri Lanka</td>\n",
              "      <td>0.863</td>\n",
              "      <td>Low trust in institutions</td>\n",
              "    </tr>\n",
              "    <tr>\n",
              "      <th>South Asia</th>\n",
              "      <td>India</td>\n",
              "      <td>0.774</td>\n",
              "      <td>About the normal level trust in institutions</td>\n",
              "    </tr>\n",
              "    <tr>\n",
              "      <th>South Asia</th>\n",
              "      <td>Afghanistan</td>\n",
              "      <td>0.924</td>\n",
              "      <td>Low trust in institutions</td>\n",
              "    </tr>\n",
              "    <tr>\n",
              "      <th>Southeast Asia</th>\n",
              "      <td>Singapore</td>\n",
              "      <td>0.082</td>\n",
              "      <td>High level trust in institutions</td>\n",
              "    </tr>\n",
              "    <tr>\n",
              "      <th>Southeast Asia</th>\n",
              "      <td>Thailand</td>\n",
              "      <td>0.895</td>\n",
              "      <td>Low trust in institutions</td>\n",
              "    </tr>\n",
              "    <tr>\n",
              "      <th>Southeast Asia</th>\n",
              "      <td>Philippines</td>\n",
              "      <td>0.742</td>\n",
              "      <td>About the normal level trust in institutions</td>\n",
              "    </tr>\n",
              "    <tr>\n",
              "      <th>Southeast Asia</th>\n",
              "      <td>Vietnam</td>\n",
              "      <td>0.796</td>\n",
              "      <td>Lower than normal level trust in institutions</td>\n",
              "    </tr>\n",
              "    <tr>\n",
              "      <th>Southeast Asia</th>\n",
              "      <td>Malaysia</td>\n",
              "      <td>0.839</td>\n",
              "      <td>Lower than normal level trust in institutions</td>\n",
              "    </tr>\n",
              "    <tr>\n",
              "      <th>Southeast Asia</th>\n",
              "      <td>Indonesia</td>\n",
              "      <td>0.867</td>\n",
              "      <td>Low trust in institutions</td>\n",
              "    </tr>\n",
              "    <tr>\n",
              "      <th>Southeast Asia</th>\n",
              "      <td>Laos</td>\n",
              "      <td>0.658</td>\n",
              "      <td>High level trust in institutions</td>\n",
              "    </tr>\n",
              "    <tr>\n",
              "      <th>Southeast Asia</th>\n",
              "      <td>Cambodia</td>\n",
              "      <td>0.843</td>\n",
              "      <td>Lower than normal level trust in institutions</td>\n",
              "    </tr>\n",
              "    <tr>\n",
              "      <th>Southeast Asia</th>\n",
              "      <td>Myanmar</td>\n",
              "      <td>0.660</td>\n",
              "      <td>High level trust in institutions</td>\n",
              "    </tr>\n",
              "  </tbody>\n",
              "</table>\n",
              "</div>"
            ],
            "text/plain": [
              "                   Country name  Perceptions of corruption  \\\n",
              "Regional indicator                                           \n",
              "South Asia                Nepal                      0.727   \n",
              "South Asia             Maldives                      0.825   \n",
              "South Asia           Bangladesh                      0.682   \n",
              "South Asia             Pakistan                      0.787   \n",
              "South Asia            Sri Lanka                      0.863   \n",
              "South Asia                India                      0.774   \n",
              "South Asia          Afghanistan                      0.924   \n",
              "Southeast Asia        Singapore                      0.082   \n",
              "Southeast Asia         Thailand                      0.895   \n",
              "Southeast Asia      Philippines                      0.742   \n",
              "Southeast Asia          Vietnam                      0.796   \n",
              "Southeast Asia         Malaysia                      0.839   \n",
              "Southeast Asia        Indonesia                      0.867   \n",
              "Southeast Asia             Laos                      0.658   \n",
              "Southeast Asia         Cambodia                      0.843   \n",
              "Southeast Asia          Myanmar                      0.660   \n",
              "\n",
              "                                            trust in institutions  \n",
              "Regional indicator                                                 \n",
              "South Asia           About the normal level trust in institutions  \n",
              "South Asia          Lower than normal level trust in institutions  \n",
              "South Asia           About the normal level trust in institutions  \n",
              "South Asia          Lower than normal level trust in institutions  \n",
              "South Asia                              Low trust in institutions  \n",
              "South Asia           About the normal level trust in institutions  \n",
              "South Asia                              Low trust in institutions  \n",
              "Southeast Asia                   High level trust in institutions  \n",
              "Southeast Asia                          Low trust in institutions  \n",
              "Southeast Asia       About the normal level trust in institutions  \n",
              "Southeast Asia      Lower than normal level trust in institutions  \n",
              "Southeast Asia      Lower than normal level trust in institutions  \n",
              "Southeast Asia                          Low trust in institutions  \n",
              "Southeast Asia                   High level trust in institutions  \n",
              "Southeast Asia      Lower than normal level trust in institutions  \n",
              "Southeast Asia                   High level trust in institutions  "
            ]
          },
          "execution_count": 22,
          "metadata": {},
          "output_type": "execute_result"
        }
      ]
    },
    {
      "cell_type": "code",
      "metadata": {
        "id": "dd4caa15-bec0-4de5-b455-4537d996f1a0"
      },
      "source": [
        "#4\n",
        "invest_df= invest_df.reset_index()\n",
        "invest_df= invest_df.set_index(['Regional indicator','Country name'])\n",
        "invest_df.sort_index(inplace=True)"
      ],
      "id": "dd4caa15-bec0-4de5-b455-4537d996f1a0",
      "execution_count": null,
      "outputs": []
    },
    {
      "cell_type": "code",
      "metadata": {
        "id": "3db9e908-5f96-4753-89d3-dff9e218a988",
        "outputId": "8616ed29-733a-4755-edbe-9bbfa6b551e5"
      },
      "source": [
        "invest_df[['Perceptions of corruption','trust in institutions']]"
      ],
      "id": "3db9e908-5f96-4753-89d3-dff9e218a988",
      "execution_count": null,
      "outputs": [
        {
          "data": {
            "text/html": [
              "<div>\n",
              "<style scoped>\n",
              "    .dataframe tbody tr th:only-of-type {\n",
              "        vertical-align: middle;\n",
              "    }\n",
              "\n",
              "    .dataframe tbody tr th {\n",
              "        vertical-align: top;\n",
              "    }\n",
              "\n",
              "    .dataframe thead th {\n",
              "        text-align: right;\n",
              "    }\n",
              "</style>\n",
              "<table border=\"1\" class=\"dataframe\">\n",
              "  <thead>\n",
              "    <tr style=\"text-align: right;\">\n",
              "      <th></th>\n",
              "      <th></th>\n",
              "      <th>Perceptions of corruption</th>\n",
              "      <th>trust in institutions</th>\n",
              "    </tr>\n",
              "    <tr>\n",
              "      <th>Regional indicator</th>\n",
              "      <th>Country name</th>\n",
              "      <th></th>\n",
              "      <th></th>\n",
              "    </tr>\n",
              "  </thead>\n",
              "  <tbody>\n",
              "    <tr>\n",
              "      <th rowspan=\"7\" valign=\"top\">South Asia</th>\n",
              "      <th>Afghanistan</th>\n",
              "      <td>0.924</td>\n",
              "      <td>Low trust in institutions</td>\n",
              "    </tr>\n",
              "    <tr>\n",
              "      <th>Bangladesh</th>\n",
              "      <td>0.682</td>\n",
              "      <td>About the normal level trust in institutions</td>\n",
              "    </tr>\n",
              "    <tr>\n",
              "      <th>India</th>\n",
              "      <td>0.774</td>\n",
              "      <td>About the normal level trust in institutions</td>\n",
              "    </tr>\n",
              "    <tr>\n",
              "      <th>Maldives</th>\n",
              "      <td>0.825</td>\n",
              "      <td>Lower than normal level trust in institutions</td>\n",
              "    </tr>\n",
              "    <tr>\n",
              "      <th>Nepal</th>\n",
              "      <td>0.727</td>\n",
              "      <td>About the normal level trust in institutions</td>\n",
              "    </tr>\n",
              "    <tr>\n",
              "      <th>Pakistan</th>\n",
              "      <td>0.787</td>\n",
              "      <td>Lower than normal level trust in institutions</td>\n",
              "    </tr>\n",
              "    <tr>\n",
              "      <th>Sri Lanka</th>\n",
              "      <td>0.863</td>\n",
              "      <td>Low trust in institutions</td>\n",
              "    </tr>\n",
              "    <tr>\n",
              "      <th rowspan=\"9\" valign=\"top\">Southeast Asia</th>\n",
              "      <th>Cambodia</th>\n",
              "      <td>0.843</td>\n",
              "      <td>Lower than normal level trust in institutions</td>\n",
              "    </tr>\n",
              "    <tr>\n",
              "      <th>Indonesia</th>\n",
              "      <td>0.867</td>\n",
              "      <td>Low trust in institutions</td>\n",
              "    </tr>\n",
              "    <tr>\n",
              "      <th>Laos</th>\n",
              "      <td>0.658</td>\n",
              "      <td>High level trust in institutions</td>\n",
              "    </tr>\n",
              "    <tr>\n",
              "      <th>Malaysia</th>\n",
              "      <td>0.839</td>\n",
              "      <td>Lower than normal level trust in institutions</td>\n",
              "    </tr>\n",
              "    <tr>\n",
              "      <th>Myanmar</th>\n",
              "      <td>0.660</td>\n",
              "      <td>High level trust in institutions</td>\n",
              "    </tr>\n",
              "    <tr>\n",
              "      <th>Philippines</th>\n",
              "      <td>0.742</td>\n",
              "      <td>About the normal level trust in institutions</td>\n",
              "    </tr>\n",
              "    <tr>\n",
              "      <th>Singapore</th>\n",
              "      <td>0.082</td>\n",
              "      <td>High level trust in institutions</td>\n",
              "    </tr>\n",
              "    <tr>\n",
              "      <th>Thailand</th>\n",
              "      <td>0.895</td>\n",
              "      <td>Low trust in institutions</td>\n",
              "    </tr>\n",
              "    <tr>\n",
              "      <th>Vietnam</th>\n",
              "      <td>0.796</td>\n",
              "      <td>Lower than normal level trust in institutions</td>\n",
              "    </tr>\n",
              "  </tbody>\n",
              "</table>\n",
              "</div>"
            ],
            "text/plain": [
              "                                 Perceptions of corruption  \\\n",
              "Regional indicator Country name                              \n",
              "South Asia         Afghanistan                       0.924   \n",
              "                   Bangladesh                        0.682   \n",
              "                   India                             0.774   \n",
              "                   Maldives                          0.825   \n",
              "                   Nepal                             0.727   \n",
              "                   Pakistan                          0.787   \n",
              "                   Sri Lanka                         0.863   \n",
              "Southeast Asia     Cambodia                          0.843   \n",
              "                   Indonesia                         0.867   \n",
              "                   Laos                              0.658   \n",
              "                   Malaysia                          0.839   \n",
              "                   Myanmar                           0.660   \n",
              "                   Philippines                       0.742   \n",
              "                   Singapore                         0.082   \n",
              "                   Thailand                          0.895   \n",
              "                   Vietnam                           0.796   \n",
              "\n",
              "                                                         trust in institutions  \n",
              "Regional indicator Country name                                                 \n",
              "South Asia         Afghanistan                       Low trust in institutions  \n",
              "                   Bangladesh     About the normal level trust in institutions  \n",
              "                   India          About the normal level trust in institutions  \n",
              "                   Maldives      Lower than normal level trust in institutions  \n",
              "                   Nepal          About the normal level trust in institutions  \n",
              "                   Pakistan      Lower than normal level trust in institutions  \n",
              "                   Sri Lanka                         Low trust in institutions  \n",
              "Southeast Asia     Cambodia      Lower than normal level trust in institutions  \n",
              "                   Indonesia                         Low trust in institutions  \n",
              "                   Laos                       High level trust in institutions  \n",
              "                   Malaysia      Lower than normal level trust in institutions  \n",
              "                   Myanmar                    High level trust in institutions  \n",
              "                   Philippines    About the normal level trust in institutions  \n",
              "                   Singapore                  High level trust in institutions  \n",
              "                   Thailand                          Low trust in institutions  \n",
              "                   Vietnam       Lower than normal level trust in institutions  "
            ]
          },
          "execution_count": 24,
          "metadata": {},
          "output_type": "execute_result"
        }
      ]
    },
    {
      "cell_type": "code",
      "metadata": {
        "id": "7d3050f9-52c2-4704-a5f1-5c35571f399d"
      },
      "source": [
        ""
      ],
      "id": "7d3050f9-52c2-4704-a5f1-5c35571f399d",
      "execution_count": null,
      "outputs": []
    },
    {
      "cell_type": "code",
      "metadata": {
        "id": "91336e78-df2f-469e-8d0e-1a17d2d9e31c"
      },
      "source": [
        ""
      ],
      "id": "91336e78-df2f-469e-8d0e-1a17d2d9e31c",
      "execution_count": null,
      "outputs": []
    },
    {
      "cell_type": "code",
      "metadata": {
        "id": "12567bc9-c727-4ff1-b150-2ae54f881393"
      },
      "source": [
        ""
      ],
      "id": "12567bc9-c727-4ff1-b150-2ae54f881393",
      "execution_count": null,
      "outputs": []
    },
    {
      "cell_type": "code",
      "metadata": {
        "id": "b79fe417-5f4d-4ac9-b0f7-0bb46ae9fff4"
      },
      "source": [
        ""
      ],
      "id": "b79fe417-5f4d-4ac9-b0f7-0bb46ae9fff4",
      "execution_count": null,
      "outputs": []
    },
    {
      "cell_type": "code",
      "metadata": {
        "id": "e8aeb0ca-4714-44db-9b24-d55c0a63b731"
      },
      "source": [
        ""
      ],
      "id": "e8aeb0ca-4714-44db-9b24-d55c0a63b731",
      "execution_count": null,
      "outputs": []
    },
    {
      "cell_type": "code",
      "metadata": {
        "id": "d50f1c54-0004-4898-aeba-16beb5fcfb83"
      },
      "source": [
        ""
      ],
      "id": "d50f1c54-0004-4898-aeba-16beb5fcfb83",
      "execution_count": null,
      "outputs": []
    },
    {
      "cell_type": "markdown",
      "metadata": {
        "id": "525345c3-572b-4b8b-9027-bccd285710b8"
      },
      "source": [
        "##### **replace()**"
      ],
      "id": "525345c3-572b-4b8b-9027-bccd285710b8"
    },
    {
      "cell_type": "code",
      "metadata": {
        "id": "189edda7-efde-48d2-ae77-75e8f63748ab",
        "outputId": "58e85a9a-d686-4291-f083-cfaf3ed15627"
      },
      "source": [
        "df1.head(2)"
      ],
      "id": "189edda7-efde-48d2-ae77-75e8f63748ab",
      "execution_count": null,
      "outputs": [
        {
          "data": {
            "text/html": [
              "<div>\n",
              "<style scoped>\n",
              "    .dataframe tbody tr th:only-of-type {\n",
              "        vertical-align: middle;\n",
              "    }\n",
              "\n",
              "    .dataframe tbody tr th {\n",
              "        vertical-align: top;\n",
              "    }\n",
              "\n",
              "    .dataframe thead th {\n",
              "        text-align: right;\n",
              "    }\n",
              "</style>\n",
              "<table border=\"1\" class=\"dataframe\">\n",
              "  <thead>\n",
              "    <tr style=\"text-align: right;\">\n",
              "      <th></th>\n",
              "      <th>Regional indicator</th>\n",
              "      <th>Ladder score</th>\n",
              "      <th>Logged GDP per capita</th>\n",
              "      <th>Social support</th>\n",
              "      <th>Healthy life expectancy</th>\n",
              "      <th>Freedom to make life choices</th>\n",
              "      <th>Generosity</th>\n",
              "      <th>Perceptions of corruption</th>\n",
              "      <th>trust in institutions</th>\n",
              "    </tr>\n",
              "    <tr>\n",
              "      <th>Country name</th>\n",
              "      <th></th>\n",
              "      <th></th>\n",
              "      <th></th>\n",
              "      <th></th>\n",
              "      <th></th>\n",
              "      <th></th>\n",
              "      <th></th>\n",
              "      <th></th>\n",
              "      <th></th>\n",
              "    </tr>\n",
              "  </thead>\n",
              "  <tbody>\n",
              "    <tr>\n",
              "      <th>Finland</th>\n",
              "      <td>Western Europe</td>\n",
              "      <td>7.842</td>\n",
              "      <td>10.775</td>\n",
              "      <td>0.954</td>\n",
              "      <td>72.0</td>\n",
              "      <td>0.949</td>\n",
              "      <td>-0.098</td>\n",
              "      <td>0.186</td>\n",
              "      <td>High level trust in institutions</td>\n",
              "    </tr>\n",
              "    <tr>\n",
              "      <th>Denmark</th>\n",
              "      <td>Western Europe</td>\n",
              "      <td>7.620</td>\n",
              "      <td>10.933</td>\n",
              "      <td>0.954</td>\n",
              "      <td>72.7</td>\n",
              "      <td>0.946</td>\n",
              "      <td>0.030</td>\n",
              "      <td>0.179</td>\n",
              "      <td>High level trust in institutions</td>\n",
              "    </tr>\n",
              "  </tbody>\n",
              "</table>\n",
              "</div>"
            ],
            "text/plain": [
              "             Regional indicator  Ladder score  Logged GDP per capita  \\\n",
              "Country name                                                           \n",
              "Finland          Western Europe         7.842                 10.775   \n",
              "Denmark          Western Europe         7.620                 10.933   \n",
              "\n",
              "              Social support  Healthy life expectancy  \\\n",
              "Country name                                            \n",
              "Finland                0.954                     72.0   \n",
              "Denmark                0.954                     72.7   \n",
              "\n",
              "              Freedom to make life choices  Generosity  \\\n",
              "Country name                                             \n",
              "Finland                              0.949      -0.098   \n",
              "Denmark                              0.946       0.030   \n",
              "\n",
              "              Perceptions of corruption             trust in institutions  \n",
              "Country name                                                               \n",
              "Finland                           0.186  High level trust in institutions  \n",
              "Denmark                           0.179  High level trust in institutions  "
            ]
          },
          "execution_count": 25,
          "metadata": {},
          "output_type": "execute_result"
        }
      ]
    },
    {
      "cell_type": "code",
      "metadata": {
        "id": "914f78a6-36b7-46d0-bddf-81b24eae8fae",
        "outputId": "c47bede0-e124-490f-9874-9bbd551ecd19"
      },
      "source": [
        "df1['Regional indicator'].value_counts()"
      ],
      "id": "914f78a6-36b7-46d0-bddf-81b24eae8fae",
      "execution_count": null,
      "outputs": [
        {
          "data": {
            "text/plain": [
              "Sub-Saharan Africa                    36\n",
              "Western Europe                        21\n",
              "Latin America and Caribbean           20\n",
              "Middle East and North Africa          17\n",
              "Central and Eastern Europe            17\n",
              "Commonwealth of Independent States    12\n",
              "Southeast Asia                         9\n",
              "South Asia                             7\n",
              "East Asia                              6\n",
              "North America and ANZ                  4\n",
              "Name: Regional indicator, dtype: int64"
            ]
          },
          "execution_count": 26,
          "metadata": {},
          "output_type": "execute_result"
        }
      ]
    },
    {
      "cell_type": "code",
      "metadata": {
        "id": "2feafdf3-8359-4520-bbba-6650f4112f3b",
        "outputId": "94c133b6-adbc-426b-efc6-a2f44396096e"
      },
      "source": [
        "df1['Regional indicator'].replace({'Western Europe':'West Europe'})"
      ],
      "id": "2feafdf3-8359-4520-bbba-6650f4112f3b",
      "execution_count": null,
      "outputs": [
        {
          "data": {
            "text/plain": [
              "Country name\n",
              "Finland               West Europe\n",
              "Denmark               West Europe\n",
              "Switzerland           West Europe\n",
              "Iceland               West Europe\n",
              "Netherlands           West Europe\n",
              "                      ...        \n",
              "Lesotho        Sub-Saharan Africa\n",
              "Botswana       Sub-Saharan Africa\n",
              "Rwanda         Sub-Saharan Africa\n",
              "Zimbabwe       Sub-Saharan Africa\n",
              "Afghanistan            South Asia\n",
              "Name: Regional indicator, Length: 149, dtype: object"
            ]
          },
          "execution_count": 27,
          "metadata": {},
          "output_type": "execute_result"
        }
      ]
    },
    {
      "cell_type": "markdown",
      "metadata": {
        "id": "f941934b-9677-47c6-846b-961c64f22857"
      },
      "source": [
        "#### **str()**"
      ],
      "id": "f941934b-9677-47c6-846b-961c64f22857"
    },
    {
      "cell_type": "code",
      "metadata": {
        "id": "ec353781-228f-4e8c-93ac-e105a85596c7"
      },
      "source": [
        "# long method:\n",
        "df2 = df1.copy()"
      ],
      "id": "ec353781-228f-4e8c-93ac-e105a85596c7",
      "execution_count": null,
      "outputs": []
    },
    {
      "cell_type": "code",
      "metadata": {
        "id": "3e339d52-9c0c-4ce3-afa1-68450afba811",
        "outputId": "9ad3e877-5cab-4edf-92b5-b9d98083d02e"
      },
      "source": [
        "df2.columns"
      ],
      "id": "3e339d52-9c0c-4ce3-afa1-68450afba811",
      "execution_count": null,
      "outputs": [
        {
          "data": {
            "text/plain": [
              "Index(['Regional indicator', 'Ladder score', 'Logged GDP per capita',\n",
              "       'Social support', 'Healthy life expectancy',\n",
              "       'Freedom to make life choices', 'Generosity',\n",
              "       'Perceptions of corruption', 'trust in institutions'],\n",
              "      dtype='object')"
            ]
          },
          "execution_count": 29,
          "metadata": {},
          "output_type": "execute_result"
        }
      ]
    },
    {
      "cell_type": "code",
      "metadata": {
        "id": "7fdd7b65-a6fc-47e9-b440-65d6e1601ea1",
        "outputId": "a72599f8-13f7-4a7a-d234-d86e67c9a7d5"
      },
      "source": [
        "df2.columns=[x.upper() for x in df2.columns]\n",
        "df2.head(2)"
      ],
      "id": "7fdd7b65-a6fc-47e9-b440-65d6e1601ea1",
      "execution_count": null,
      "outputs": [
        {
          "data": {
            "text/html": [
              "<div>\n",
              "<style scoped>\n",
              "    .dataframe tbody tr th:only-of-type {\n",
              "        vertical-align: middle;\n",
              "    }\n",
              "\n",
              "    .dataframe tbody tr th {\n",
              "        vertical-align: top;\n",
              "    }\n",
              "\n",
              "    .dataframe thead th {\n",
              "        text-align: right;\n",
              "    }\n",
              "</style>\n",
              "<table border=\"1\" class=\"dataframe\">\n",
              "  <thead>\n",
              "    <tr style=\"text-align: right;\">\n",
              "      <th></th>\n",
              "      <th>REGIONAL INDICATOR</th>\n",
              "      <th>LADDER SCORE</th>\n",
              "      <th>LOGGED GDP PER CAPITA</th>\n",
              "      <th>SOCIAL SUPPORT</th>\n",
              "      <th>HEALTHY LIFE EXPECTANCY</th>\n",
              "      <th>FREEDOM TO MAKE LIFE CHOICES</th>\n",
              "      <th>GENEROSITY</th>\n",
              "      <th>PERCEPTIONS OF CORRUPTION</th>\n",
              "      <th>TRUST IN INSTITUTIONS</th>\n",
              "    </tr>\n",
              "    <tr>\n",
              "      <th>Country name</th>\n",
              "      <th></th>\n",
              "      <th></th>\n",
              "      <th></th>\n",
              "      <th></th>\n",
              "      <th></th>\n",
              "      <th></th>\n",
              "      <th></th>\n",
              "      <th></th>\n",
              "      <th></th>\n",
              "    </tr>\n",
              "  </thead>\n",
              "  <tbody>\n",
              "    <tr>\n",
              "      <th>Finland</th>\n",
              "      <td>Western Europe</td>\n",
              "      <td>7.842</td>\n",
              "      <td>10.775</td>\n",
              "      <td>0.954</td>\n",
              "      <td>72.0</td>\n",
              "      <td>0.949</td>\n",
              "      <td>-0.098</td>\n",
              "      <td>0.186</td>\n",
              "      <td>High level trust in institutions</td>\n",
              "    </tr>\n",
              "    <tr>\n",
              "      <th>Denmark</th>\n",
              "      <td>Western Europe</td>\n",
              "      <td>7.620</td>\n",
              "      <td>10.933</td>\n",
              "      <td>0.954</td>\n",
              "      <td>72.7</td>\n",
              "      <td>0.946</td>\n",
              "      <td>0.030</td>\n",
              "      <td>0.179</td>\n",
              "      <td>High level trust in institutions</td>\n",
              "    </tr>\n",
              "  </tbody>\n",
              "</table>\n",
              "</div>"
            ],
            "text/plain": [
              "             REGIONAL INDICATOR  LADDER SCORE  LOGGED GDP PER CAPITA  \\\n",
              "Country name                                                           \n",
              "Finland          Western Europe         7.842                 10.775   \n",
              "Denmark          Western Europe         7.620                 10.933   \n",
              "\n",
              "              SOCIAL SUPPORT  HEALTHY LIFE EXPECTANCY  \\\n",
              "Country name                                            \n",
              "Finland                0.954                     72.0   \n",
              "Denmark                0.954                     72.7   \n",
              "\n",
              "              FREEDOM TO MAKE LIFE CHOICES  GENEROSITY  \\\n",
              "Country name                                             \n",
              "Finland                              0.949      -0.098   \n",
              "Denmark                              0.946       0.030   \n",
              "\n",
              "              PERCEPTIONS OF CORRUPTION             TRUST IN INSTITUTIONS  \n",
              "Country name                                                               \n",
              "Finland                           0.186  High level trust in institutions  \n",
              "Denmark                           0.179  High level trust in institutions  "
            ]
          },
          "execution_count": 30,
          "metadata": {},
          "output_type": "execute_result"
        }
      ]
    },
    {
      "cell_type": "code",
      "metadata": {
        "id": "f10c0a9a-a51c-4184-9b1a-ada0e90e9c1f",
        "outputId": "27a71860-d498-4ec2-d23b-76698a60ad7e"
      },
      "source": [
        "df2.columns= df2.columns.str.title()\n",
        "df2.head(2)  "
      ],
      "id": "f10c0a9a-a51c-4184-9b1a-ada0e90e9c1f",
      "execution_count": null,
      "outputs": [
        {
          "data": {
            "text/html": [
              "<div>\n",
              "<style scoped>\n",
              "    .dataframe tbody tr th:only-of-type {\n",
              "        vertical-align: middle;\n",
              "    }\n",
              "\n",
              "    .dataframe tbody tr th {\n",
              "        vertical-align: top;\n",
              "    }\n",
              "\n",
              "    .dataframe thead th {\n",
              "        text-align: right;\n",
              "    }\n",
              "</style>\n",
              "<table border=\"1\" class=\"dataframe\">\n",
              "  <thead>\n",
              "    <tr style=\"text-align: right;\">\n",
              "      <th></th>\n",
              "      <th>Regional Indicator</th>\n",
              "      <th>Ladder Score</th>\n",
              "      <th>Logged Gdp Per Capita</th>\n",
              "      <th>Social Support</th>\n",
              "      <th>Healthy Life Expectancy</th>\n",
              "      <th>Freedom To Make Life Choices</th>\n",
              "      <th>Generosity</th>\n",
              "      <th>Perceptions Of Corruption</th>\n",
              "      <th>Trust In Institutions</th>\n",
              "    </tr>\n",
              "    <tr>\n",
              "      <th>Country name</th>\n",
              "      <th></th>\n",
              "      <th></th>\n",
              "      <th></th>\n",
              "      <th></th>\n",
              "      <th></th>\n",
              "      <th></th>\n",
              "      <th></th>\n",
              "      <th></th>\n",
              "      <th></th>\n",
              "    </tr>\n",
              "  </thead>\n",
              "  <tbody>\n",
              "    <tr>\n",
              "      <th>Finland</th>\n",
              "      <td>Western Europe</td>\n",
              "      <td>7.842</td>\n",
              "      <td>10.775</td>\n",
              "      <td>0.954</td>\n",
              "      <td>72.0</td>\n",
              "      <td>0.949</td>\n",
              "      <td>-0.098</td>\n",
              "      <td>0.186</td>\n",
              "      <td>High level trust in institutions</td>\n",
              "    </tr>\n",
              "    <tr>\n",
              "      <th>Denmark</th>\n",
              "      <td>Western Europe</td>\n",
              "      <td>7.620</td>\n",
              "      <td>10.933</td>\n",
              "      <td>0.954</td>\n",
              "      <td>72.7</td>\n",
              "      <td>0.946</td>\n",
              "      <td>0.030</td>\n",
              "      <td>0.179</td>\n",
              "      <td>High level trust in institutions</td>\n",
              "    </tr>\n",
              "  </tbody>\n",
              "</table>\n",
              "</div>"
            ],
            "text/plain": [
              "             Regional Indicator  Ladder Score  Logged Gdp Per Capita  \\\n",
              "Country name                                                           \n",
              "Finland          Western Europe         7.842                 10.775   \n",
              "Denmark          Western Europe         7.620                 10.933   \n",
              "\n",
              "              Social Support  Healthy Life Expectancy  \\\n",
              "Country name                                            \n",
              "Finland                0.954                     72.0   \n",
              "Denmark                0.954                     72.7   \n",
              "\n",
              "              Freedom To Make Life Choices  Generosity  \\\n",
              "Country name                                             \n",
              "Finland                              0.949      -0.098   \n",
              "Denmark                              0.946       0.030   \n",
              "\n",
              "              Perceptions Of Corruption             Trust In Institutions  \n",
              "Country name                                                               \n",
              "Finland                           0.186  High level trust in institutions  \n",
              "Denmark                           0.179  High level trust in institutions  "
            ]
          },
          "execution_count": 31,
          "metadata": {},
          "output_type": "execute_result"
        }
      ]
    },
    {
      "cell_type": "code",
      "metadata": {
        "id": "123f0447-108e-4935-ade3-5ad241e321eb",
        "outputId": "ea61a847-8e89-4b1c-c253-ac2d7fbb84c9"
      },
      "source": [
        "df2['Regional Indicator'].value_counts()"
      ],
      "id": "123f0447-108e-4935-ade3-5ad241e321eb",
      "execution_count": null,
      "outputs": [
        {
          "data": {
            "text/plain": [
              "Sub-Saharan Africa                    36\n",
              "Western Europe                        21\n",
              "Latin America and Caribbean           20\n",
              "Middle East and North Africa          17\n",
              "Central and Eastern Europe            17\n",
              "Commonwealth of Independent States    12\n",
              "Southeast Asia                         9\n",
              "South Asia                             7\n",
              "East Asia                              6\n",
              "North America and ANZ                  4\n",
              "Name: Regional Indicator, dtype: int64"
            ]
          },
          "execution_count": 33,
          "metadata": {},
          "output_type": "execute_result"
        }
      ]
    },
    {
      "cell_type": "code",
      "metadata": {
        "id": "f7830221-958f-4db7-b62f-cbcfc1c58b9d",
        "outputId": "4282a395-1655-4bdc-9831-b0ee026d182c"
      },
      "source": [
        "df2['Regional Indicator'].str.contains('Asia', na=False, case=False)"
      ],
      "id": "f7830221-958f-4db7-b62f-cbcfc1c58b9d",
      "execution_count": null,
      "outputs": [
        {
          "data": {
            "text/plain": [
              "Country name\n",
              "Finland        False\n",
              "Denmark        False\n",
              "Switzerland    False\n",
              "Iceland        False\n",
              "Netherlands    False\n",
              "               ...  \n",
              "Lesotho        False\n",
              "Botswana       False\n",
              "Rwanda         False\n",
              "Zimbabwe       False\n",
              "Afghanistan     True\n",
              "Name: Regional Indicator, Length: 149, dtype: bool"
            ]
          },
          "execution_count": 34,
          "metadata": {},
          "output_type": "execute_result"
        }
      ]
    },
    {
      "cell_type": "code",
      "metadata": {
        "id": "38be37fb-afb4-45d0-8c13-42982c742fa4"
      },
      "source": [
        ""
      ],
      "id": "38be37fb-afb4-45d0-8c13-42982c742fa4",
      "execution_count": null,
      "outputs": []
    },
    {
      "cell_type": "code",
      "metadata": {
        "id": "1cd688ed-9308-4089-a6f8-eadc0ce1be38"
      },
      "source": [
        ""
      ],
      "id": "1cd688ed-9308-4089-a6f8-eadc0ce1be38",
      "execution_count": null,
      "outputs": []
    },
    {
      "cell_type": "markdown",
      "metadata": {
        "id": "b02ea3dd-42df-4657-b061-ac727f5ba3c1"
      },
      "source": [
        "### Exercise\n",
        "\n",
        "- By using 'Working Language.csv' sample data,\n",
        "- How many developers use Python as a working language in their jobs\n",
        "- Number of people in each country uses Python as a working language in their jobs\n",
        "- How many people in your country of interest uses Python as a working language in their jobs"
      ],
      "id": "b02ea3dd-42df-4657-b061-ac727f5ba3c1"
    },
    {
      "cell_type": "code",
      "metadata": {
        "id": "d804ebb8-0ba0-417a-97cc-d1f1abff2ae3"
      },
      "source": [
        ""
      ],
      "id": "d804ebb8-0ba0-417a-97cc-d1f1abff2ae3",
      "execution_count": null,
      "outputs": []
    },
    {
      "cell_type": "code",
      "metadata": {
        "id": "6f4bde0d-8131-4742-97da-c075372f3d21"
      },
      "source": [
        ""
      ],
      "id": "6f4bde0d-8131-4742-97da-c075372f3d21",
      "execution_count": null,
      "outputs": []
    },
    {
      "cell_type": "code",
      "metadata": {
        "id": "6010c278-80b1-4669-90ff-89c754cff14e"
      },
      "source": [
        ""
      ],
      "id": "6010c278-80b1-4669-90ff-89c754cff14e",
      "execution_count": null,
      "outputs": []
    },
    {
      "cell_type": "code",
      "metadata": {
        "id": "cb8f4959-79af-41cf-99c4-f54158664c10"
      },
      "source": [
        ""
      ],
      "id": "cb8f4959-79af-41cf-99c4-f54158664c10",
      "execution_count": null,
      "outputs": []
    },
    {
      "cell_type": "code",
      "metadata": {
        "id": "df7d6508-44dd-44b8-b642-643f0101cf6b"
      },
      "source": [
        "#nlargest\n"
      ],
      "id": "df7d6508-44dd-44b8-b642-643f0101cf6b",
      "execution_count": 1,
      "outputs": []
    },
    {
      "cell_type": "code",
      "metadata": {
        "id": "faa82d1a-cb97-496a-83b1-d84527a48ed0"
      },
      "source": [
        "# nsmallest"
      ],
      "id": "faa82d1a-cb97-496a-83b1-d84527a48ed0",
      "execution_count": 2,
      "outputs": []
    },
    {
      "cell_type": "code",
      "metadata": {
        "id": "ebeb9400-44fa-45d4-8198-fccd4bf4b1fd"
      },
      "source": [
        ""
      ],
      "id": "ebeb9400-44fa-45d4-8198-fccd4bf4b1fd",
      "execution_count": 2,
      "outputs": []
    },
    {
      "cell_type": "code",
      "metadata": {
        "id": "255d65c6-3db9-4b4a-a5a4-dd017eb4e751"
      },
      "source": [
        ""
      ],
      "id": "255d65c6-3db9-4b4a-a5a4-dd017eb4e751",
      "execution_count": 2,
      "outputs": []
    },
    {
      "cell_type": "code",
      "metadata": {
        "id": "97c58219-968f-4e27-a689-4224ceb07b42"
      },
      "source": [
        ""
      ],
      "id": "97c58219-968f-4e27-a689-4224ceb07b42",
      "execution_count": 2,
      "outputs": []
    },
    {
      "cell_type": "code",
      "metadata": {
        "id": "3b500feb-af56-4d0d-936c-637a5f225780"
      },
      "source": [
        ""
      ],
      "id": "3b500feb-af56-4d0d-936c-637a5f225780",
      "execution_count": 2,
      "outputs": []
    },
    {
      "cell_type": "code",
      "metadata": {
        "id": "eb14e32e-38d3-4fca-89d0-2845a16a3628"
      },
      "source": [
        ""
      ],
      "id": "eb14e32e-38d3-4fca-89d0-2845a16a3628",
      "execution_count": 2,
      "outputs": []
    },
    {
      "cell_type": "code",
      "metadata": {
        "id": "01c83c4d-410d-42cc-89f9-8646c21c6371"
      },
      "source": [
        ""
      ],
      "id": "01c83c4d-410d-42cc-89f9-8646c21c6371",
      "execution_count": 2,
      "outputs": []
    },
    {
      "cell_type": "code",
      "metadata": {
        "id": "120ee6e4-a96d-4b24-bf74-49cfac993287"
      },
      "source": [
        ""
      ],
      "id": "120ee6e4-a96d-4b24-bf74-49cfac993287",
      "execution_count": 2,
      "outputs": []
    },
    {
      "cell_type": "markdown",
      "metadata": {
        "id": "7d63d9df-76c4-461e-9287-a717aa952599"
      },
      "source": [
        "### Missing DATA"
      ],
      "id": "7d63d9df-76c4-461e-9287-a717aa952599"
    },
    {
      "cell_type": "code",
      "metadata": {
        "id": "704ae9fe-4dbd-4e85-b3a6-3000a6021cd5"
      },
      "source": [
        "friends = {\n",
        "    'first': ['Mike', 'Kevin', 'Mary', 'John', np.nan, None, 'NA'], \n",
        "    'last': ['Brown', 'Cline', 'Sunderland', 'Cliff', np.nan, np.nan, 'Missing'], \n",
        "    'email': ['mikebrown@gmail.com', 'kevincline@email.com', 'Johncliff@email.com', None, np.nan, 'private@email.com', 'NA'],\n",
        "    'age': ['27', '45', '54', '37', None, None, 'Missing']\n",
        "}"
      ],
      "id": "704ae9fe-4dbd-4e85-b3a6-3000a6021cd5",
      "execution_count": null,
      "outputs": []
    },
    {
      "cell_type": "code",
      "metadata": {
        "id": "3c9b4fb7-43f7-4dd7-8aee-ca6267cc4d89",
        "outputId": "f7533743-dc5f-4163-d865-a38ff5034d6c"
      },
      "source": [
        "df_2= pd.DataFrame(friends)\n",
        "df_2"
      ],
      "id": "3c9b4fb7-43f7-4dd7-8aee-ca6267cc4d89",
      "execution_count": null,
      "outputs": [
        {
          "data": {
            "text/html": [
              "<div>\n",
              "<style scoped>\n",
              "    .dataframe tbody tr th:only-of-type {\n",
              "        vertical-align: middle;\n",
              "    }\n",
              "\n",
              "    .dataframe tbody tr th {\n",
              "        vertical-align: top;\n",
              "    }\n",
              "\n",
              "    .dataframe thead th {\n",
              "        text-align: right;\n",
              "    }\n",
              "</style>\n",
              "<table border=\"1\" class=\"dataframe\">\n",
              "  <thead>\n",
              "    <tr style=\"text-align: right;\">\n",
              "      <th></th>\n",
              "      <th>first</th>\n",
              "      <th>last</th>\n",
              "      <th>email</th>\n",
              "      <th>age</th>\n",
              "    </tr>\n",
              "  </thead>\n",
              "  <tbody>\n",
              "    <tr>\n",
              "      <th>0</th>\n",
              "      <td>Mike</td>\n",
              "      <td>Brown</td>\n",
              "      <td>mikebrown@gmail.com</td>\n",
              "      <td>27</td>\n",
              "    </tr>\n",
              "    <tr>\n",
              "      <th>1</th>\n",
              "      <td>Kevin</td>\n",
              "      <td>Cline</td>\n",
              "      <td>kevincline@email.com</td>\n",
              "      <td>45</td>\n",
              "    </tr>\n",
              "    <tr>\n",
              "      <th>2</th>\n",
              "      <td>Mary</td>\n",
              "      <td>Sunderland</td>\n",
              "      <td>Johncliff@email.com</td>\n",
              "      <td>54</td>\n",
              "    </tr>\n",
              "    <tr>\n",
              "      <th>3</th>\n",
              "      <td>John</td>\n",
              "      <td>Cliff</td>\n",
              "      <td>None</td>\n",
              "      <td>37</td>\n",
              "    </tr>\n",
              "    <tr>\n",
              "      <th>4</th>\n",
              "      <td>NaN</td>\n",
              "      <td>NaN</td>\n",
              "      <td>NaN</td>\n",
              "      <td>None</td>\n",
              "    </tr>\n",
              "    <tr>\n",
              "      <th>5</th>\n",
              "      <td>None</td>\n",
              "      <td>NaN</td>\n",
              "      <td>private@email.com</td>\n",
              "      <td>None</td>\n",
              "    </tr>\n",
              "    <tr>\n",
              "      <th>6</th>\n",
              "      <td>NA</td>\n",
              "      <td>Missing</td>\n",
              "      <td>NA</td>\n",
              "      <td>Missing</td>\n",
              "    </tr>\n",
              "  </tbody>\n",
              "</table>\n",
              "</div>"
            ],
            "text/plain": [
              "   first        last                 email      age\n",
              "0   Mike       Brown   mikebrown@gmail.com       27\n",
              "1  Kevin       Cline  kevincline@email.com       45\n",
              "2   Mary  Sunderland   Johncliff@email.com       54\n",
              "3   John       Cliff                  None       37\n",
              "4    NaN         NaN                   NaN     None\n",
              "5   None         NaN     private@email.com     None\n",
              "6     NA     Missing                    NA  Missing"
            ]
          },
          "execution_count": 38,
          "metadata": {},
          "output_type": "execute_result"
        }
      ]
    },
    {
      "cell_type": "code",
      "metadata": {
        "id": "4510c1b2-6b00-4384-93a5-fe5376ed6e8e",
        "outputId": "9450bcbb-f87d-4e82-8d51-c6239c2f897d"
      },
      "source": [
        "df_2.isnull().sum()"
      ],
      "id": "4510c1b2-6b00-4384-93a5-fe5376ed6e8e",
      "execution_count": null,
      "outputs": [
        {
          "data": {
            "text/plain": [
              "first    2\n",
              "last     2\n",
              "email    2\n",
              "age      2\n",
              "dtype: int64"
            ]
          },
          "execution_count": 39,
          "metadata": {},
          "output_type": "execute_result"
        }
      ]
    },
    {
      "cell_type": "code",
      "metadata": {
        "id": "e417275a-ee02-41b5-9b61-0ff96abf9080"
      },
      "source": [
        ""
      ],
      "id": "e417275a-ee02-41b5-9b61-0ff96abf9080",
      "execution_count": null,
      "outputs": []
    },
    {
      "cell_type": "markdown",
      "metadata": {
        "id": "75344b27-a107-4d91-a613-202eade89211"
      },
      "source": [
        "`dropna()`"
      ],
      "id": "75344b27-a107-4d91-a613-202eade89211"
    },
    {
      "cell_type": "code",
      "metadata": {
        "id": "208aa14f-4653-4e60-8f94-0db5a7cda269",
        "outputId": "fb2e5bd9-dcec-487c-bfbe-da00227bc994"
      },
      "source": [
        "df_2.dropna()"
      ],
      "id": "208aa14f-4653-4e60-8f94-0db5a7cda269",
      "execution_count": null,
      "outputs": [
        {
          "data": {
            "text/html": [
              "<div>\n",
              "<style scoped>\n",
              "    .dataframe tbody tr th:only-of-type {\n",
              "        vertical-align: middle;\n",
              "    }\n",
              "\n",
              "    .dataframe tbody tr th {\n",
              "        vertical-align: top;\n",
              "    }\n",
              "\n",
              "    .dataframe thead th {\n",
              "        text-align: right;\n",
              "    }\n",
              "</style>\n",
              "<table border=\"1\" class=\"dataframe\">\n",
              "  <thead>\n",
              "    <tr style=\"text-align: right;\">\n",
              "      <th></th>\n",
              "      <th>first</th>\n",
              "      <th>last</th>\n",
              "      <th>email</th>\n",
              "      <th>age</th>\n",
              "    </tr>\n",
              "  </thead>\n",
              "  <tbody>\n",
              "    <tr>\n",
              "      <th>0</th>\n",
              "      <td>Mike</td>\n",
              "      <td>Brown</td>\n",
              "      <td>mikebrown@gmail.com</td>\n",
              "      <td>27</td>\n",
              "    </tr>\n",
              "    <tr>\n",
              "      <th>1</th>\n",
              "      <td>Kevin</td>\n",
              "      <td>Cline</td>\n",
              "      <td>kevincline@email.com</td>\n",
              "      <td>45</td>\n",
              "    </tr>\n",
              "    <tr>\n",
              "      <th>2</th>\n",
              "      <td>Mary</td>\n",
              "      <td>Sunderland</td>\n",
              "      <td>Johncliff@email.com</td>\n",
              "      <td>54</td>\n",
              "    </tr>\n",
              "    <tr>\n",
              "      <th>6</th>\n",
              "      <td>NA</td>\n",
              "      <td>Missing</td>\n",
              "      <td>NA</td>\n",
              "      <td>Missing</td>\n",
              "    </tr>\n",
              "  </tbody>\n",
              "</table>\n",
              "</div>"
            ],
            "text/plain": [
              "   first        last                 email      age\n",
              "0   Mike       Brown   mikebrown@gmail.com       27\n",
              "1  Kevin       Cline  kevincline@email.com       45\n",
              "2   Mary  Sunderland   Johncliff@email.com       54\n",
              "6     NA     Missing                    NA  Missing"
            ]
          },
          "execution_count": 40,
          "metadata": {},
          "output_type": "execute_result"
        }
      ]
    },
    {
      "cell_type": "code",
      "metadata": {
        "id": "c3d57c26-c6ba-4bfa-87dc-ab17cf031b07",
        "outputId": "89e055da-4103-4a16-ff1a-18689ba2a7bf"
      },
      "source": [
        "df_2.dropna(subset=['email'])"
      ],
      "id": "c3d57c26-c6ba-4bfa-87dc-ab17cf031b07",
      "execution_count": null,
      "outputs": [
        {
          "data": {
            "text/html": [
              "<div>\n",
              "<style scoped>\n",
              "    .dataframe tbody tr th:only-of-type {\n",
              "        vertical-align: middle;\n",
              "    }\n",
              "\n",
              "    .dataframe tbody tr th {\n",
              "        vertical-align: top;\n",
              "    }\n",
              "\n",
              "    .dataframe thead th {\n",
              "        text-align: right;\n",
              "    }\n",
              "</style>\n",
              "<table border=\"1\" class=\"dataframe\">\n",
              "  <thead>\n",
              "    <tr style=\"text-align: right;\">\n",
              "      <th></th>\n",
              "      <th>first</th>\n",
              "      <th>last</th>\n",
              "      <th>email</th>\n",
              "      <th>age</th>\n",
              "    </tr>\n",
              "  </thead>\n",
              "  <tbody>\n",
              "    <tr>\n",
              "      <th>0</th>\n",
              "      <td>Mike</td>\n",
              "      <td>Brown</td>\n",
              "      <td>mikebrown@gmail.com</td>\n",
              "      <td>27</td>\n",
              "    </tr>\n",
              "    <tr>\n",
              "      <th>1</th>\n",
              "      <td>Kevin</td>\n",
              "      <td>Cline</td>\n",
              "      <td>kevincline@email.com</td>\n",
              "      <td>45</td>\n",
              "    </tr>\n",
              "    <tr>\n",
              "      <th>2</th>\n",
              "      <td>Mary</td>\n",
              "      <td>Sunderland</td>\n",
              "      <td>Johncliff@email.com</td>\n",
              "      <td>54</td>\n",
              "    </tr>\n",
              "    <tr>\n",
              "      <th>5</th>\n",
              "      <td>None</td>\n",
              "      <td>NaN</td>\n",
              "      <td>private@email.com</td>\n",
              "      <td>None</td>\n",
              "    </tr>\n",
              "    <tr>\n",
              "      <th>6</th>\n",
              "      <td>NA</td>\n",
              "      <td>Missing</td>\n",
              "      <td>NA</td>\n",
              "      <td>Missing</td>\n",
              "    </tr>\n",
              "  </tbody>\n",
              "</table>\n",
              "</div>"
            ],
            "text/plain": [
              "   first        last                 email      age\n",
              "0   Mike       Brown   mikebrown@gmail.com       27\n",
              "1  Kevin       Cline  kevincline@email.com       45\n",
              "2   Mary  Sunderland   Johncliff@email.com       54\n",
              "5   None         NaN     private@email.com     None\n",
              "6     NA     Missing                    NA  Missing"
            ]
          },
          "execution_count": 41,
          "metadata": {},
          "output_type": "execute_result"
        }
      ]
    },
    {
      "cell_type": "code",
      "metadata": {
        "id": "1264b8b2-7b9b-43d6-b0dc-e9530580bfbe"
      },
      "source": [
        "('NA','Missing')--> np.nan"
      ],
      "id": "1264b8b2-7b9b-43d6-b0dc-e9530580bfbe",
      "execution_count": null,
      "outputs": []
    },
    {
      "cell_type": "code",
      "metadata": {
        "id": "6ebe066f-3f89-4d0a-a1e6-6f422a0dceb5"
      },
      "source": [
        "df_2.replace('NA', np.nan, inplace=True)\n",
        "df_2.replace('Missing', np.nan, inplace=True)"
      ],
      "id": "6ebe066f-3f89-4d0a-a1e6-6f422a0dceb5",
      "execution_count": null,
      "outputs": []
    },
    {
      "cell_type": "code",
      "metadata": {
        "id": "41b4f177-74da-458c-a720-3a0f257da35c"
      },
      "source": [
        "# Or we can make new list and put it to the at front of the dataframing proceses.\n",
        "na_vals = ['Missing','NA']\n",
        "\n",
        "df = pd.read_csv('cvs file name', na_values=na_vals)"
      ],
      "id": "41b4f177-74da-458c-a720-3a0f257da35c",
      "execution_count": null,
      "outputs": []
    },
    {
      "cell_type": "code",
      "metadata": {
        "id": "221718fa-9450-4760-b7dd-8bacde085d3c",
        "outputId": "1fc12429-ef97-4fb2-b3f6-a6f680d2640c"
      },
      "source": [
        "df_2.isnull().sum()"
      ],
      "id": "221718fa-9450-4760-b7dd-8bacde085d3c",
      "execution_count": null,
      "outputs": [
        {
          "data": {
            "text/plain": [
              "first    3\n",
              "last     3\n",
              "email    3\n",
              "age      3\n",
              "dtype: int64"
            ]
          },
          "execution_count": 44,
          "metadata": {},
          "output_type": "execute_result"
        }
      ]
    },
    {
      "cell_type": "code",
      "metadata": {
        "id": "4169a389-b2ed-4d00-aeea-a7419b47dac9",
        "outputId": "e431b18d-620e-41a6-f195-cc7e6f36f006"
      },
      "source": [
        "df_2['age']"
      ],
      "id": "4169a389-b2ed-4d00-aeea-a7419b47dac9",
      "execution_count": null,
      "outputs": [
        {
          "data": {
            "text/plain": [
              "0      27\n",
              "1      45\n",
              "2      54\n",
              "3      37\n",
              "4    None\n",
              "5    None\n",
              "6     NaN\n",
              "Name: age, dtype: object"
            ]
          },
          "execution_count": 45,
          "metadata": {},
          "output_type": "execute_result"
        }
      ]
    },
    {
      "cell_type": "code",
      "metadata": {
        "id": "c592460a-25a6-4275-a932-5a0b233fc0db"
      },
      "source": [
        ""
      ],
      "id": "c592460a-25a6-4275-a932-5a0b233fc0db",
      "execution_count": null,
      "outputs": []
    },
    {
      "cell_type": "code",
      "metadata": {
        "id": "d0e62449-0a29-414e-ad9c-01a8f800d96f"
      },
      "source": [
        ""
      ],
      "id": "d0e62449-0a29-414e-ad9c-01a8f800d96f",
      "execution_count": null,
      "outputs": []
    },
    {
      "cell_type": "markdown",
      "metadata": {
        "id": "95bcb6be-ab76-4ff7-ab48-8391c0cc750f"
      },
      "source": [
        "`fillna()`"
      ],
      "id": "95bcb6be-ab76-4ff7-ab48-8391c0cc750f"
    },
    {
      "cell_type": "code",
      "metadata": {
        "id": "ae0aa951-570f-4883-a48c-db4ba24feba7",
        "outputId": "9ed18f8f-32b4-42a2-b15a-132c39fc08e3"
      },
      "source": [
        "df_2.dtypes"
      ],
      "id": "ae0aa951-570f-4883-a48c-db4ba24feba7",
      "execution_count": null,
      "outputs": [
        {
          "data": {
            "text/plain": [
              "first    object\n",
              "last     object\n",
              "email    object\n",
              "age      object\n",
              "dtype: object"
            ]
          },
          "execution_count": 46,
          "metadata": {},
          "output_type": "execute_result"
        }
      ]
    },
    {
      "cell_type": "code",
      "metadata": {
        "id": "f6a0779e-b433-4965-99b5-b9526cfb63e1"
      },
      "source": [
        "df_2['age'] = df_2['age'].astype(float)  \n"
      ],
      "id": "f6a0779e-b433-4965-99b5-b9526cfb63e1",
      "execution_count": null,
      "outputs": []
    },
    {
      "cell_type": "code",
      "metadata": {
        "id": "84740034-62b2-4e0e-b861-1c5f71c78dad",
        "outputId": "c05241c4-e436-4c41-e7fc-4bddd21c6c0d"
      },
      "source": [
        "df_2['age'].mean()"
      ],
      "id": "84740034-62b2-4e0e-b861-1c5f71c78dad",
      "execution_count": null,
      "outputs": [
        {
          "data": {
            "text/plain": [
              "40.75"
            ]
          },
          "execution_count": 48,
          "metadata": {},
          "output_type": "execute_result"
        }
      ]
    },
    {
      "cell_type": "code",
      "metadata": {
        "id": "d8d9a956-cc0b-49c1-a39b-c5ed76f82303",
        "outputId": "712e14cc-0b60-4199-ba2f-4d89461118e5"
      },
      "source": [
        "df_2['age'].fillna(40.75)"
      ],
      "id": "d8d9a956-cc0b-49c1-a39b-c5ed76f82303",
      "execution_count": null,
      "outputs": [
        {
          "data": {
            "text/plain": [
              "0    27.00\n",
              "1    45.00\n",
              "2    54.00\n",
              "3    37.00\n",
              "4    40.75\n",
              "5    40.75\n",
              "6    40.75\n",
              "Name: age, dtype: float64"
            ]
          },
          "execution_count": 49,
          "metadata": {},
          "output_type": "execute_result"
        }
      ]
    },
    {
      "cell_type": "code",
      "metadata": {
        "id": "d35b6023-aa76-4f5b-8e18-d963a6fd4bfc"
      },
      "source": [
        ""
      ],
      "id": "d35b6023-aa76-4f5b-8e18-d963a6fd4bfc",
      "execution_count": null,
      "outputs": []
    },
    {
      "cell_type": "code",
      "metadata": {
        "id": "171f7d6d-979d-4dae-b239-c248e4ee1766"
      },
      "source": [
        ""
      ],
      "id": "171f7d6d-979d-4dae-b239-c248e4ee1766",
      "execution_count": null,
      "outputs": []
    },
    {
      "cell_type": "code",
      "metadata": {
        "id": "ec843158-8ad3-4afe-845b-8e6010ac29b2"
      },
      "source": [
        ""
      ],
      "id": "ec843158-8ad3-4afe-845b-8e6010ac29b2",
      "execution_count": null,
      "outputs": []
    },
    {
      "cell_type": "markdown",
      "metadata": {
        "id": "6b9d5cb7-22ac-401f-b66a-ffe4eb284dd2"
      },
      "source": [
        "### **Exercise**\n",
        "#Let's make \n",
        "- Afghanistan's and Pakistan's Freedom to make life choices are missing\n",
        "- Uzbekistan's and Kyrgyzstan's ''Perceptions of corruption' are missing\n",
        "- Albania's and Croatia's 'Social support'are missing\n",
        "- Use your knowledge to solve how todeal with the missing values.\n"
      ],
      "id": "6b9d5cb7-22ac-401f-b66a-ffe4eb284dd2"
    },
    {
      "cell_type": "code",
      "metadata": {
        "colab": {
          "base_uri": "https://localhost:8080/",
          "height": 171
        },
        "id": "3edcebc7-4abc-4283-bde0-70c3e5a4becd",
        "outputId": "73bd0b98-68c5-4318-acaa-9f8e774cafa1"
      },
      "source": [
        "df1.loc['Afghanistan','Freedom to make life choices']=np.nan"
      ],
      "id": "3edcebc7-4abc-4283-bde0-70c3e5a4becd",
      "execution_count": 3,
      "outputs": [
        {
          "output_type": "error",
          "ename": "NameError",
          "evalue": "ignored",
          "traceback": [
            "\u001b[0;31m---------------------------------------------------------------------------\u001b[0m",
            "\u001b[0;31mNameError\u001b[0m                                 Traceback (most recent call last)",
            "\u001b[0;32m<ipython-input-3-0f00e1f6d0ee>\u001b[0m in \u001b[0;36m<module>\u001b[0;34m()\u001b[0m\n\u001b[0;32m----> 1\u001b[0;31m \u001b[0mdf1\u001b[0m\u001b[0;34m.\u001b[0m\u001b[0mloc\u001b[0m\u001b[0;34m[\u001b[0m\u001b[0;34m'Afghanistan'\u001b[0m\u001b[0;34m,\u001b[0m\u001b[0;34m'Freedom to make life choices'\u001b[0m\u001b[0;34m]\u001b[0m\u001b[0;34m=\u001b[0m\u001b[0mnp\u001b[0m\u001b[0;34m.\u001b[0m\u001b[0mnan\u001b[0m\u001b[0;34m\u001b[0m\u001b[0;34m\u001b[0m\u001b[0m\n\u001b[0m",
            "\u001b[0;31mNameError\u001b[0m: name 'np' is not defined"
          ]
        }
      ]
    },
    {
      "cell_type": "code",
      "metadata": {
        "colab": {
          "base_uri": "https://localhost:8080/",
          "height": 171
        },
        "id": "4c896737-0c9f-4ba9-88ea-08ba0f7a9690",
        "outputId": "578c14de-27a7-4b8d-c7a3-781e3d2d5583"
      },
      "source": [
        "df1.loc['Afghanistan','Freedom to make life choices']"
      ],
      "id": "4c896737-0c9f-4ba9-88ea-08ba0f7a9690",
      "execution_count": 4,
      "outputs": [
        {
          "output_type": "error",
          "ename": "NameError",
          "evalue": "ignored",
          "traceback": [
            "\u001b[0;31m---------------------------------------------------------------------------\u001b[0m",
            "\u001b[0;31mNameError\u001b[0m                                 Traceback (most recent call last)",
            "\u001b[0;32m<ipython-input-4-eaa688b8df1c>\u001b[0m in \u001b[0;36m<module>\u001b[0;34m()\u001b[0m\n\u001b[0;32m----> 1\u001b[0;31m \u001b[0mdf1\u001b[0m\u001b[0;34m.\u001b[0m\u001b[0mloc\u001b[0m\u001b[0;34m[\u001b[0m\u001b[0;34m'Afghanistan'\u001b[0m\u001b[0;34m,\u001b[0m\u001b[0;34m'Freedom to make life choices'\u001b[0m\u001b[0;34m]\u001b[0m\u001b[0;34m\u001b[0m\u001b[0;34m\u001b[0m\u001b[0m\n\u001b[0m",
            "\u001b[0;31mNameError\u001b[0m: name 'df1' is not defined"
          ]
        }
      ]
    },
    {
      "cell_type": "code",
      "metadata": {
        "id": "64e93288-9788-4b8d-be91-cf905b0749db"
      },
      "source": [
        ""
      ],
      "id": "64e93288-9788-4b8d-be91-cf905b0749db",
      "execution_count": null,
      "outputs": []
    },
    {
      "cell_type": "code",
      "metadata": {
        "id": "e1c88eef-23d4-4583-9dbf-9a12f92d0b36"
      },
      "source": [
        ""
      ],
      "id": "e1c88eef-23d4-4583-9dbf-9a12f92d0b36",
      "execution_count": null,
      "outputs": []
    },
    {
      "cell_type": "code",
      "metadata": {
        "id": "ad218a52-0580-4457-a507-aabebc6e2c02"
      },
      "source": [
        "df1['Ladder score'].idxmin()"
      ],
      "id": "ad218a52-0580-4457-a507-aabebc6e2c02",
      "execution_count": null,
      "outputs": []
    },
    {
      "cell_type": "code",
      "metadata": {
        "id": "2c46f4be-2467-46a2-90f2-c1ce920b93f8"
      },
      "source": [
        "df1.loc['Afghanistan']"
      ],
      "id": "2c46f4be-2467-46a2-90f2-c1ce920b93f8",
      "execution_count": null,
      "outputs": []
    },
    {
      "cell_type": "code",
      "metadata": {
        "id": "f1608ee2-8764-4aeb-9502-2281543d4e71"
      },
      "source": [
        "df1.loc['Afghanistan']"
      ],
      "id": "f1608ee2-8764-4aeb-9502-2281543d4e71",
      "execution_count": null,
      "outputs": []
    },
    {
      "cell_type": "code",
      "metadata": {
        "id": "ad8e153b-4da1-4df9-9dab-84472272c3a4"
      },
      "source": [
        "df1.groupby('Regional indicator').get_group('South Asia').mean()"
      ],
      "id": "ad8e153b-4da1-4df9-9dab-84472272c3a4",
      "execution_count": null,
      "outputs": []
    },
    {
      "cell_type": "code",
      "metadata": {
        "id": "84df2d76-9b1e-4cee-bb7b-0ae7cea1b6f7"
      },
      "source": [
        "df1.groupby('Regional indicator').get_group('South Asia').sort_values(by='Freedom to make life choices', ascending=False)"
      ],
      "id": "84df2d76-9b1e-4cee-bb7b-0ae7cea1b6f7",
      "execution_count": null,
      "outputs": []
    },
    {
      "cell_type": "code",
      "metadata": {
        "id": "e8266796-1b80-4f3e-a884-f2ae0f8bc67b"
      },
      "source": [
        ""
      ],
      "id": "e8266796-1b80-4f3e-a884-f2ae0f8bc67b",
      "execution_count": null,
      "outputs": []
    },
    {
      "cell_type": "code",
      "metadata": {
        "id": "152c612d-9e9d-4eef-9fc9-14f5c43af67f"
      },
      "source": [
        ""
      ],
      "id": "152c612d-9e9d-4eef-9fc9-14f5c43af67f",
      "execution_count": null,
      "outputs": []
    },
    {
      "cell_type": "code",
      "metadata": {
        "id": "eddb02df-f1cf-4a09-affd-1a79f8dc2f77"
      },
      "source": [
        ""
      ],
      "id": "eddb02df-f1cf-4a09-affd-1a79f8dc2f77",
      "execution_count": null,
      "outputs": []
    }
  ]
}