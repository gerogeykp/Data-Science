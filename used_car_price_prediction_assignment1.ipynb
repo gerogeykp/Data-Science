{
  "nbformat": 4,
  "nbformat_minor": 0,
  "metadata": {
    "colab": {
      "name": "used_car_price_prediction_assignment1.ipynb",
      "provenance": [],
      "include_colab_link": true
    },
    "kernelspec": {
      "display_name": "Python 3",
      "language": "python",
      "name": "python3"
    },
    "language_info": {
      "codemirror_mode": {
        "name": "ipython",
        "version": 3
      },
      "file_extension": ".py",
      "mimetype": "text/x-python",
      "name": "python",
      "nbconvert_exporter": "python",
      "pygments_lexer": "ipython3",
      "version": "3.8.10"
    }
  },
  "cells": [
    {
      "cell_type": "markdown",
      "metadata": {
        "id": "view-in-github",
        "colab_type": "text"
      },
      "source": [
        "<a href=\"https://colab.research.google.com/github/gerogeykp/Data-Science/blob/main/used_car_price_prediction_assignment1.ipynb\" target=\"_parent\"><img src=\"https://colab.research.google.com/assets/colab-badge.svg\" alt=\"Open In Colab\"/></a>"
      ]
    },
    {
      "cell_type": "markdown",
      "metadata": {
        "id": "curQqdpMbV8a"
      },
      "source": [
        "<img src=\"https://miro.medium.com/max/647/1*ZOcUPrSXLYucFxppoI-dYg.png\">"
      ]
    },
    {
      "cell_type": "markdown",
      "metadata": {
        "id": "vIdfp9zXbV8w"
      },
      "source": [
        "# Problem definition\n"
      ]
    },
    {
      "cell_type": "markdown",
      "metadata": {
        "id": "_f1vwRmsbV8z"
      },
      "source": [
        "For this project we are using a car dataset, where we want to predict the selling price of car based on its certain features.\n",
        "Since we need to find the real value, with real calculation, therefore this problem is regression problem. \n",
        "We will be using linear regression to solve this problem.\n",
        "\n",
        "General equation of Multiple Linear Regression:\n",
        "$$y = \\beta_0 + \\beta_{1}x_1 + \\beta_{2}x_2 + \\beta_{3}x_3 + \\beta_{4}x_4 + ... + \\beta_{n}x_n$$"
      ]
    },
    {
      "cell_type": "markdown",
      "metadata": {
        "id": "m79bZ3ojbV82"
      },
      "source": [
        "# Libraries"
      ]
    },
    {
      "cell_type": "code",
      "metadata": {
        "id": "zk6tvPRBbV84"
      },
      "source": [
        "import pandas as pd\n",
        "import numpy as np\n",
        "import matplotlib.pyplot as plt\n",
        "import seaborn as sns"
      ],
      "execution_count": 8,
      "outputs": []
    },
    {
      "cell_type": "markdown",
      "metadata": {
        "id": "Zu7fPn5HbV87"
      },
      "source": [
        "# Data Gathering"
      ]
    },
    {
      "cell_type": "code",
      "metadata": {
        "colab": {
          "base_uri": "https://localhost:8080/",
          "height": 35
        },
        "id": "R051a7qjZ2uX",
        "outputId": "4bafcc3f-fceb-47eb-d838-62f7249c6bc6"
      },
      "source": [
        "pwd\n"
      ],
      "execution_count": 9,
      "outputs": [
        {
          "output_type": "execute_result",
          "data": {
            "application/vnd.google.colaboratory.intrinsic+json": {
              "type": "string"
            },
            "text/plain": [
              "'/content'"
            ]
          },
          "metadata": {},
          "execution_count": 9
        }
      ]
    },
    {
      "cell_type": "code",
      "metadata": {
        "id": "Hgyy7dkrbV89"
      },
      "source": [
        "df = pd.read_csv(\"car_dataset.csv\")\n",
        "pd.set_option(\"display.max_columns\", None)"
      ],
      "execution_count": 10,
      "outputs": []
    },
    {
      "cell_type": "markdown",
      "metadata": {
        "id": "EyXAGsjnbV8_"
      },
      "source": [
        "# Data Preparation"
      ]
    },
    {
      "cell_type": "code",
      "metadata": {
        "id": "zoySlXabbV9B",
        "colab": {
          "base_uri": "https://localhost:8080/",
          "height": 205
        },
        "outputId": "88464ce9-ae28-4eef-831b-6b9d7de9a3c6"
      },
      "source": [
        "df.head()"
      ],
      "execution_count": 11,
      "outputs": [
        {
          "output_type": "execute_result",
          "data": {
            "text/html": [
              "<div>\n",
              "<style scoped>\n",
              "    .dataframe tbody tr th:only-of-type {\n",
              "        vertical-align: middle;\n",
              "    }\n",
              "\n",
              "    .dataframe tbody tr th {\n",
              "        vertical-align: top;\n",
              "    }\n",
              "\n",
              "    .dataframe thead th {\n",
              "        text-align: right;\n",
              "    }\n",
              "</style>\n",
              "<table border=\"1\" class=\"dataframe\">\n",
              "  <thead>\n",
              "    <tr style=\"text-align: right;\">\n",
              "      <th></th>\n",
              "      <th>Car_Name</th>\n",
              "      <th>Year</th>\n",
              "      <th>Selling_Price</th>\n",
              "      <th>Present_Price</th>\n",
              "      <th>Kms_Driven</th>\n",
              "      <th>Fuel_Type</th>\n",
              "      <th>Seller_Type</th>\n",
              "      <th>Transmission</th>\n",
              "      <th>Owner</th>\n",
              "    </tr>\n",
              "  </thead>\n",
              "  <tbody>\n",
              "    <tr>\n",
              "      <th>0</th>\n",
              "      <td>ritz</td>\n",
              "      <td>2014</td>\n",
              "      <td>3.35</td>\n",
              "      <td>5.59</td>\n",
              "      <td>27000</td>\n",
              "      <td>Petrol</td>\n",
              "      <td>Dealer</td>\n",
              "      <td>Manual</td>\n",
              "      <td>0</td>\n",
              "    </tr>\n",
              "    <tr>\n",
              "      <th>1</th>\n",
              "      <td>sx4</td>\n",
              "      <td>2013</td>\n",
              "      <td>4.75</td>\n",
              "      <td>9.54</td>\n",
              "      <td>43000</td>\n",
              "      <td>Diesel</td>\n",
              "      <td>Dealer</td>\n",
              "      <td>Manual</td>\n",
              "      <td>0</td>\n",
              "    </tr>\n",
              "    <tr>\n",
              "      <th>2</th>\n",
              "      <td>ciaz</td>\n",
              "      <td>2017</td>\n",
              "      <td>7.25</td>\n",
              "      <td>9.85</td>\n",
              "      <td>6900</td>\n",
              "      <td>Petrol</td>\n",
              "      <td>Dealer</td>\n",
              "      <td>Manual</td>\n",
              "      <td>0</td>\n",
              "    </tr>\n",
              "    <tr>\n",
              "      <th>3</th>\n",
              "      <td>wagon r</td>\n",
              "      <td>2011</td>\n",
              "      <td>2.85</td>\n",
              "      <td>4.15</td>\n",
              "      <td>5200</td>\n",
              "      <td>Petrol</td>\n",
              "      <td>Dealer</td>\n",
              "      <td>Manual</td>\n",
              "      <td>0</td>\n",
              "    </tr>\n",
              "    <tr>\n",
              "      <th>4</th>\n",
              "      <td>swift</td>\n",
              "      <td>2014</td>\n",
              "      <td>4.60</td>\n",
              "      <td>6.87</td>\n",
              "      <td>42450</td>\n",
              "      <td>Diesel</td>\n",
              "      <td>Dealer</td>\n",
              "      <td>Manual</td>\n",
              "      <td>0</td>\n",
              "    </tr>\n",
              "  </tbody>\n",
              "</table>\n",
              "</div>"
            ],
            "text/plain": [
              "  Car_Name  Year  Selling_Price  Present_Price  Kms_Driven Fuel_Type  \\\n",
              "0     ritz  2014           3.35           5.59       27000    Petrol   \n",
              "1      sx4  2013           4.75           9.54       43000    Diesel   \n",
              "2     ciaz  2017           7.25           9.85        6900    Petrol   \n",
              "3  wagon r  2011           2.85           4.15        5200    Petrol   \n",
              "4    swift  2014           4.60           6.87       42450    Diesel   \n",
              "\n",
              "  Seller_Type Transmission  Owner  \n",
              "0      Dealer       Manual      0  \n",
              "1      Dealer       Manual      0  \n",
              "2      Dealer       Manual      0  \n",
              "3      Dealer       Manual      0  \n",
              "4      Dealer       Manual      0  "
            ]
          },
          "metadata": {},
          "execution_count": 11
        }
      ]
    },
    {
      "cell_type": "code",
      "metadata": {
        "colab": {
          "base_uri": "https://localhost:8080/"
        },
        "id": "51tLHcSJZHsy",
        "outputId": "a948c9f3-eb5d-4ce6-a8ae-04709b6da193"
      },
      "source": [
        "df.shape"
      ],
      "execution_count": 12,
      "outputs": [
        {
          "output_type": "execute_result",
          "data": {
            "text/plain": [
              "(301, 9)"
            ]
          },
          "metadata": {},
          "execution_count": 12
        }
      ]
    },
    {
      "cell_type": "code",
      "metadata": {
        "colab": {
          "base_uri": "https://localhost:8080/",
          "height": 205
        },
        "id": "6vpPArX3ZHsz",
        "outputId": "ad5d3717-afc1-48b1-d98e-809f7a76734b"
      },
      "source": [
        "df.describe().T"
      ],
      "execution_count": 13,
      "outputs": [
        {
          "output_type": "execute_result",
          "data": {
            "text/html": [
              "<div>\n",
              "<style scoped>\n",
              "    .dataframe tbody tr th:only-of-type {\n",
              "        vertical-align: middle;\n",
              "    }\n",
              "\n",
              "    .dataframe tbody tr th {\n",
              "        vertical-align: top;\n",
              "    }\n",
              "\n",
              "    .dataframe thead th {\n",
              "        text-align: right;\n",
              "    }\n",
              "</style>\n",
              "<table border=\"1\" class=\"dataframe\">\n",
              "  <thead>\n",
              "    <tr style=\"text-align: right;\">\n",
              "      <th></th>\n",
              "      <th>count</th>\n",
              "      <th>mean</th>\n",
              "      <th>std</th>\n",
              "      <th>min</th>\n",
              "      <th>25%</th>\n",
              "      <th>50%</th>\n",
              "      <th>75%</th>\n",
              "      <th>max</th>\n",
              "    </tr>\n",
              "  </thead>\n",
              "  <tbody>\n",
              "    <tr>\n",
              "      <th>Year</th>\n",
              "      <td>301.0</td>\n",
              "      <td>2013.627907</td>\n",
              "      <td>2.891554</td>\n",
              "      <td>2003.00</td>\n",
              "      <td>2012.0</td>\n",
              "      <td>2014.0</td>\n",
              "      <td>2016.0</td>\n",
              "      <td>2018.0</td>\n",
              "    </tr>\n",
              "    <tr>\n",
              "      <th>Selling_Price</th>\n",
              "      <td>301.0</td>\n",
              "      <td>4.661296</td>\n",
              "      <td>5.082812</td>\n",
              "      <td>0.10</td>\n",
              "      <td>0.9</td>\n",
              "      <td>3.6</td>\n",
              "      <td>6.0</td>\n",
              "      <td>35.0</td>\n",
              "    </tr>\n",
              "    <tr>\n",
              "      <th>Present_Price</th>\n",
              "      <td>301.0</td>\n",
              "      <td>7.628472</td>\n",
              "      <td>8.644115</td>\n",
              "      <td>0.32</td>\n",
              "      <td>1.2</td>\n",
              "      <td>6.4</td>\n",
              "      <td>9.9</td>\n",
              "      <td>92.6</td>\n",
              "    </tr>\n",
              "    <tr>\n",
              "      <th>Kms_Driven</th>\n",
              "      <td>301.0</td>\n",
              "      <td>36947.205980</td>\n",
              "      <td>38886.883882</td>\n",
              "      <td>500.00</td>\n",
              "      <td>15000.0</td>\n",
              "      <td>32000.0</td>\n",
              "      <td>48767.0</td>\n",
              "      <td>500000.0</td>\n",
              "    </tr>\n",
              "    <tr>\n",
              "      <th>Owner</th>\n",
              "      <td>301.0</td>\n",
              "      <td>0.043189</td>\n",
              "      <td>0.247915</td>\n",
              "      <td>0.00</td>\n",
              "      <td>0.0</td>\n",
              "      <td>0.0</td>\n",
              "      <td>0.0</td>\n",
              "      <td>3.0</td>\n",
              "    </tr>\n",
              "  </tbody>\n",
              "</table>\n",
              "</div>"
            ],
            "text/plain": [
              "               count          mean           std      min      25%      50%  \\\n",
              "Year           301.0   2013.627907      2.891554  2003.00   2012.0   2014.0   \n",
              "Selling_Price  301.0      4.661296      5.082812     0.10      0.9      3.6   \n",
              "Present_Price  301.0      7.628472      8.644115     0.32      1.2      6.4   \n",
              "Kms_Driven     301.0  36947.205980  38886.883882   500.00  15000.0  32000.0   \n",
              "Owner          301.0      0.043189      0.247915     0.00      0.0      0.0   \n",
              "\n",
              "                   75%       max  \n",
              "Year            2016.0    2018.0  \n",
              "Selling_Price      6.0      35.0  \n",
              "Present_Price      9.9      92.6  \n",
              "Kms_Driven     48767.0  500000.0  \n",
              "Owner              0.0       3.0  "
            ]
          },
          "metadata": {},
          "execution_count": 13
        }
      ]
    },
    {
      "cell_type": "markdown",
      "metadata": {
        "id": "12PKntblbV9C"
      },
      "source": [
        "## Feature Engineering"
      ]
    },
    {
      "cell_type": "markdown",
      "metadata": {
        "id": "P49wP0afbV9E"
      },
      "source": [
        "<ul>Fuel_Type feature:\n",
        "    <li>Fuel is Petrol if Fuel_type_diesel = 0 ,Fuel_Type_Petrol = 1</li>\n",
        "    <li>Fuel is Diesel if Fuel_type_diesel = 1 ,Fuel_Type_Petrol = 0</li>\n",
        "    <li>Fuel is cng if Fuel_type_diesel = 0 ,Fuel_Type_Petrol = 0</li>\n",
        "   </ul>\n",
        "<ul>Transmission feature:\n",
        "    <li>transmission is manual if Transmission_Manual = 1</li> \n",
        "    <li>transmission is automatic if Transmission_Manual = 0</li></ul>\n",
        "<ul>Seller_Type feature:\n",
        "    <li>Seller_Type is Individual if Seller_Type_Individual = 1 </li> \n",
        "    <li>Seller_Type is dealer if Seller_Type_Individual = 0</li> </ul>\n",
        "    \n"
      ]
    },
    {
      "cell_type": "markdown",
      "metadata": {
        "id": "Pe9yr6oCbV9I"
      },
      "source": [
        "### Features and target variable"
      ]
    },
    {
      "cell_type": "code",
      "metadata": {
        "id": "OMnKPR41bV9K",
        "colab": {
          "base_uri": "https://localhost:8080/"
        },
        "outputId": "67b79960-3ac4-45ba-dac8-85a35c319042"
      },
      "source": [
        "df.Fuel_Type.unique()"
      ],
      "execution_count": 14,
      "outputs": [
        {
          "output_type": "execute_result",
          "data": {
            "text/plain": [
              "array(['Petrol', 'Diesel', 'CNG'], dtype=object)"
            ]
          },
          "metadata": {},
          "execution_count": 14
        }
      ]
    },
    {
      "cell_type": "code",
      "metadata": {
        "id": "1xJ3AH2yZHs2"
      },
      "source": [
        "df1 = df.drop(\"Car_Name\", axis=1)\n",
        "df1 = pd.get_dummies(df1,drop_first = True)"
      ],
      "execution_count": 15,
      "outputs": []
    },
    {
      "cell_type": "code",
      "metadata": {
        "colab": {
          "base_uri": "https://localhost:8080/",
          "height": 362
        },
        "id": "rWeLlYljZHs3",
        "outputId": "70b3093c-b193-48d9-e9b8-209a7a24dfb6"
      },
      "source": [
        "df1[[\"Kms_Driven\",\"Year\"]].sample(10)"
      ],
      "execution_count": 16,
      "outputs": [
        {
          "output_type": "execute_result",
          "data": {
            "text/html": [
              "<div>\n",
              "<style scoped>\n",
              "    .dataframe tbody tr th:only-of-type {\n",
              "        vertical-align: middle;\n",
              "    }\n",
              "\n",
              "    .dataframe tbody tr th {\n",
              "        vertical-align: top;\n",
              "    }\n",
              "\n",
              "    .dataframe thead th {\n",
              "        text-align: right;\n",
              "    }\n",
              "</style>\n",
              "<table border=\"1\" class=\"dataframe\">\n",
              "  <thead>\n",
              "    <tr style=\"text-align: right;\">\n",
              "      <th></th>\n",
              "      <th>Kms_Driven</th>\n",
              "      <th>Year</th>\n",
              "    </tr>\n",
              "  </thead>\n",
              "  <tbody>\n",
              "    <tr>\n",
              "      <th>286</th>\n",
              "      <td>28569</td>\n",
              "      <td>2016</td>\n",
              "    </tr>\n",
              "    <tr>\n",
              "      <th>243</th>\n",
              "      <td>7000</td>\n",
              "      <td>2016</td>\n",
              "    </tr>\n",
              "    <tr>\n",
              "      <th>56</th>\n",
              "      <td>40534</td>\n",
              "      <td>2015</td>\n",
              "    </tr>\n",
              "    <tr>\n",
              "      <th>161</th>\n",
              "      <td>23000</td>\n",
              "      <td>2014</td>\n",
              "    </tr>\n",
              "    <tr>\n",
              "      <th>119</th>\n",
              "      <td>5400</td>\n",
              "      <td>2013</td>\n",
              "    </tr>\n",
              "    <tr>\n",
              "      <th>263</th>\n",
              "      <td>16002</td>\n",
              "      <td>2016</td>\n",
              "    </tr>\n",
              "    <tr>\n",
              "      <th>266</th>\n",
              "      <td>35000</td>\n",
              "      <td>2014</td>\n",
              "    </tr>\n",
              "    <tr>\n",
              "      <th>251</th>\n",
              "      <td>56701</td>\n",
              "      <td>2013</td>\n",
              "    </tr>\n",
              "    <tr>\n",
              "      <th>259</th>\n",
              "      <td>36054</td>\n",
              "      <td>2014</td>\n",
              "    </tr>\n",
              "    <tr>\n",
              "      <th>277</th>\n",
              "      <td>21780</td>\n",
              "      <td>2015</td>\n",
              "    </tr>\n",
              "  </tbody>\n",
              "</table>\n",
              "</div>"
            ],
            "text/plain": [
              "     Kms_Driven  Year\n",
              "286       28569  2016\n",
              "243        7000  2016\n",
              "56        40534  2015\n",
              "161       23000  2014\n",
              "119        5400  2013\n",
              "263       16002  2016\n",
              "266       35000  2014\n",
              "251       56701  2013\n",
              "259       36054  2014\n",
              "277       21780  2015"
            ]
          },
          "metadata": {},
          "execution_count": 16
        }
      ]
    },
    {
      "cell_type": "code",
      "metadata": {
        "colab": {
          "base_uri": "https://localhost:8080/",
          "height": 1000
        },
        "id": "3V6u7Me7ZHs3",
        "outputId": "18319b59-6ede-42b6-b006-acf4c2e1f42f"
      },
      "source": [
        "sns.pairplot(df1)"
      ],
      "execution_count": 17,
      "outputs": [
        {
          "output_type": "execute_result",
          "data": {
            "text/plain": [
              "<seaborn.axisgrid.PairGrid at 0x7fe999508c50>"
            ]
          },
          "metadata": {},
          "execution_count": 17
        },
        {
          "output_type": "display_data",
          "data": {
            "image/png": "[encoded data removed]",
            "text/plain": [
              "<Figure size 1620x1620 with 90 Axes>"
            ]
          },
          "metadata": {
            "needs_background": "light"
          }
        }
      ]
    },
    {
      "cell_type": "code",
      "metadata": {
        "colab": {
          "base_uri": "https://localhost:8080/",
          "height": 387
        },
        "id": "CSwXnRN0ZHs4",
        "outputId": "b32aa00a-8f50-4163-965b-1f96237a2f17"
      },
      "source": [
        "sns.heatmap(df1.corr(), annot =True)"
      ],
      "execution_count": 18,
      "outputs": [
        {
          "output_type": "execute_result",
          "data": {
            "text/plain": [
              "<matplotlib.axes._subplots.AxesSubplot at 0x7fe98e33a210>"
            ]
          },
          "metadata": {},
          "execution_count": 18
        },
        {
          "output_type": "display_data",
          "data": {
            "image/png": "[encoded data removed]",
            "text/plain": [
              "<Figure size 432x288 with 2 Axes>"
            ]
          },
          "metadata": {
            "needs_background": "light"
          }
        }
      ]
    },
    {
      "cell_type": "markdown",
      "metadata": {
        "id": "IxhZbAYsbV9L"
      },
      "source": [
        "### Splitting data into training and testing"
      ]
    },
    {
      "cell_type": "code",
      "metadata": {
        "id": "DS811U9PZHs5"
      },
      "source": [
        "from sklearn.model_selection import train_test_split"
      ],
      "execution_count": 19,
      "outputs": []
    },
    {
      "cell_type": "code",
      "metadata": {
        "id": "ovGNsXTdZHs5"
      },
      "source": [
        "X = df1.drop(columns=\"Selling_Price\")\n",
        "y = df1.Selling_Price"
      ],
      "execution_count": 20,
      "outputs": []
    },
    {
      "cell_type": "code",
      "metadata": {
        "id": "qO0F07GuZHs5"
      },
      "source": [
        "X_train, X_test, y_train, y_test = train_test_split(X, \n",
        "                                                    y, \n",
        "                                                    test_size=0.20, \n",
        "                                                    random_state=42)"
      ],
      "execution_count": 21,
      "outputs": []
    },
    {
      "cell_type": "code",
      "metadata": {
        "id": "aS1EZ-6bbV9N",
        "colab": {
          "base_uri": "https://localhost:8080/"
        },
        "outputId": "2b866706-901e-4b75-9359-5c67e0d19145"
      },
      "source": [
        "print(\"Train features shape : \", X_train.shape)\n",
        "print(\"Train target shape   : \", y_train.shape)\n",
        "print(\"Test features shape  : \", X_test.shape)\n",
        "print(\"Test target shape    : \", y_test.shape)\n"
      ],
      "execution_count": 22,
      "outputs": [
        {
          "output_type": "stream",
          "name": "stdout",
          "text": [
            "Train features shape :  (240, 8)\n",
            "Train target shape   :  (240,)\n",
            "Test features shape  :  (61, 8)\n",
            "Test target shape    :  (61,)\n"
          ]
        }
      ]
    },
    {
      "cell_type": "markdown",
      "metadata": {
        "id": "lTf_SplFZHs6"
      },
      "source": [
        "## ALL LIBRARY"
      ]
    },
    {
      "cell_type": "code",
      "metadata": {
        "id": "QHtoex2WZHs7"
      },
      "source": [
        "import numpy as np\n",
        "import pandas as pd\n",
        "from sklearn.linear_model import Ridge, Lasso, ElasticNet, LinearRegression\n",
        "from sklearn.metrics import mean_squared_error,r2_score, mean_absolute_error\n",
        "from sklearn.model_selection import train_test_split, cross_val_score,cross_validate\n",
        "\n",
        "from sklearn import model_selection\n",
        "import matplotlib.pyplot as plt\n",
        "from sklearn.linear_model import RidgeCV, LassoCV,ElasticNetCV"
      ],
      "execution_count": 23,
      "outputs": []
    },
    {
      "cell_type": "markdown",
      "metadata": {
        "id": "KMJ-3iGxbV9O"
      },
      "source": [
        "##  Model Building (Linear Regression)"
      ]
    },
    {
      "cell_type": "code",
      "metadata": {
        "id": "VEOdF27LbV9P",
        "colab": {
          "base_uri": "https://localhost:8080/"
        },
        "outputId": "3c21583b-c887-46de-a2da-bdb75f6e4883"
      },
      "source": [
        "lin_model = LinearRegression()\n",
        "\n",
        "lin_model.fit(X_train, y_train)\n",
        "\n",
        "y_pred = lin_model.predict(X_test)\n",
        "\n",
        "\n",
        "print(\"Train Results\")\n",
        "print('rmse:', np.sqrt(mean_squared_error(y_train, lin_model.predict(X_train))))\n",
        "print('r2: ', r2_score(y_train, lin_model.predict(X_train)))\n",
        "print()\n",
        "print(\"Test Results\")\n",
        "print('rmse:', np.sqrt(mean_squared_error(y_test, lin_model.predict(X_test))))\n",
        "print('r2: ', r2_score(y_test, lin_model.predict(X_test)))"
      ],
      "execution_count": 24,
      "outputs": [
        {
          "output_type": "stream",
          "name": "stdout",
          "text": [
            "Train Results\n",
            "rmse: 1.7157274084081588\n",
            "r2:  0.8886517300804573\n",
            "\n",
            "Test Results\n",
            "rmse: 1.8651552135522913\n",
            "r2:  0.8489813024897594\n"
          ]
        }
      ]
    },
    {
      "cell_type": "markdown",
      "metadata": {
        "id": "6T7pkytsbV9Q"
      },
      "source": [
        "# Interpret the model"
      ]
    },
    {
      "cell_type": "code",
      "metadata": {
        "id": "TS-KF0JtbV9R"
      },
      "source": [
        "my_dict = {\"Actual\": y_test, \"Pred\": y_pred, \"Residual\":y_test-y_pred}\n"
      ],
      "execution_count": 25,
      "outputs": []
    },
    {
      "cell_type": "code",
      "metadata": {
        "colab": {
          "base_uri": "https://localhost:8080/",
          "height": 0
        },
        "id": "JChN-qn1ZHtB",
        "outputId": "14814564-4ad2-435e-cea5-db3b617b59fb"
      },
      "source": [
        "comparing=pd.DataFrame(my_dict)\n",
        "comparing\n"
      ],
      "execution_count": 26,
      "outputs": [
        {
          "output_type": "execute_result",
          "data": {
            "text/html": [
              "<div>\n",
              "<style scoped>\n",
              "    .dataframe tbody tr th:only-of-type {\n",
              "        vertical-align: middle;\n",
              "    }\n",
              "\n",
              "    .dataframe tbody tr th {\n",
              "        vertical-align: top;\n",
              "    }\n",
              "\n",
              "    .dataframe thead th {\n",
              "        text-align: right;\n",
              "    }\n",
              "</style>\n",
              "<table border=\"1\" class=\"dataframe\">\n",
              "  <thead>\n",
              "    <tr style=\"text-align: right;\">\n",
              "      <th></th>\n",
              "      <th>Actual</th>\n",
              "      <th>Pred</th>\n",
              "      <th>Residual</th>\n",
              "    </tr>\n",
              "  </thead>\n",
              "  <tbody>\n",
              "    <tr>\n",
              "      <th>177</th>\n",
              "      <td>0.35</td>\n",
              "      <td>2.955343</td>\n",
              "      <td>-2.605343</td>\n",
              "    </tr>\n",
              "    <tr>\n",
              "      <th>289</th>\n",
              "      <td>10.11</td>\n",
              "      <td>8.178939</td>\n",
              "      <td>1.931061</td>\n",
              "    </tr>\n",
              "    <tr>\n",
              "      <th>228</th>\n",
              "      <td>4.95</td>\n",
              "      <td>6.454273</td>\n",
              "      <td>-1.504273</td>\n",
              "    </tr>\n",
              "    <tr>\n",
              "      <th>198</th>\n",
              "      <td>0.15</td>\n",
              "      <td>-1.424175</td>\n",
              "      <td>1.574175</td>\n",
              "    </tr>\n",
              "    <tr>\n",
              "      <th>60</th>\n",
              "      <td>6.95</td>\n",
              "      <td>9.088899</td>\n",
              "      <td>-2.138899</td>\n",
              "    </tr>\n",
              "    <tr>\n",
              "      <th>...</th>\n",
              "      <td>...</td>\n",
              "      <td>...</td>\n",
              "      <td>...</td>\n",
              "    </tr>\n",
              "    <tr>\n",
              "      <th>234</th>\n",
              "      <td>5.50</td>\n",
              "      <td>4.474781</td>\n",
              "      <td>1.025219</td>\n",
              "    </tr>\n",
              "    <tr>\n",
              "      <th>296</th>\n",
              "      <td>9.50</td>\n",
              "      <td>8.973776</td>\n",
              "      <td>0.526224</td>\n",
              "    </tr>\n",
              "    <tr>\n",
              "      <th>281</th>\n",
              "      <td>2.10</td>\n",
              "      <td>1.822946</td>\n",
              "      <td>0.277054</td>\n",
              "    </tr>\n",
              "    <tr>\n",
              "      <th>285</th>\n",
              "      <td>7.40</td>\n",
              "      <td>7.604167</td>\n",
              "      <td>-0.204167</td>\n",
              "    </tr>\n",
              "    <tr>\n",
              "      <th>182</th>\n",
              "      <td>0.30</td>\n",
              "      <td>0.222265</td>\n",
              "      <td>0.077735</td>\n",
              "    </tr>\n",
              "  </tbody>\n",
              "</table>\n",
              "<p>61 rows × 3 columns</p>\n",
              "</div>"
            ],
            "text/plain": [
              "     Actual      Pred  Residual\n",
              "177    0.35  2.955343 -2.605343\n",
              "289   10.11  8.178939  1.931061\n",
              "228    4.95  6.454273 -1.504273\n",
              "198    0.15 -1.424175  1.574175\n",
              "60     6.95  9.088899 -2.138899\n",
              "..      ...       ...       ...\n",
              "234    5.50  4.474781  1.025219\n",
              "296    9.50  8.973776  0.526224\n",
              "281    2.10  1.822946  0.277054\n",
              "285    7.40  7.604167 -0.204167\n",
              "182    0.30  0.222265  0.077735\n",
              "\n",
              "[61 rows x 3 columns]"
            ]
          },
          "metadata": {},
          "execution_count": 26
        }
      ]
    },
    {
      "cell_type": "code",
      "metadata": {
        "id": "aldn8BZhZHtC"
      },
      "source": [
        "result_sample = comparing.head(25)"
      ],
      "execution_count": 27,
      "outputs": []
    },
    {
      "cell_type": "code",
      "metadata": {
        "colab": {
          "base_uri": "https://localhost:8080/",
          "height": 0
        },
        "id": "q3caw3N8ZHtD",
        "outputId": "cba3a5c6-7f5e-499e-8490-136a53c9a2b3"
      },
      "source": [
        "result_sample.plot.bar(figsize=(15,9))\n",
        "plt.show()\n"
      ],
      "execution_count": 28,
      "outputs": [
        {
          "output_type": "display_data",
          "data": {
            "image/png": "[encoded data removed]",
            "text/plain": [
              "<Figure size 1080x648 with 1 Axes>"
            ]
          },
          "metadata": {
            "needs_background": "light"
          }
        }
      ]
    },
    {
      "cell_type": "markdown",
      "metadata": {
        "id": "Xf8mmQdSbV9R"
      },
      "source": [
        "# Model Evaluation"
      ]
    },
    {
      "cell_type": "code",
      "metadata": {
        "id": "IgM9o5_PZHtE"
      },
      "source": [
        "def eval_metrics(actual, pred):\n",
        "    mae = mean_absolute_error(actual, pred)\n",
        "    mse = mean_squared_error(actual, pred)\n",
        "    rmse = np.sqrt(mean_squared_error(actual, pred))\n",
        "    R2_score = r2_score(actual, pred)\n",
        "    print(\"Model testing performance:\")\n",
        "    print(\"--------------------------\")\n",
        "    print(f\"R2_score \\t: {R2_score}\")\n",
        "    print(f\"MAE \\t\\t: {mae}\")\n",
        "    print(f\"MSE \\t\\t: {mse}\")\n",
        "    print(f\"RMSE \\t\\t: {rmse}\")\n"
      ],
      "execution_count": 29,
      "outputs": []
    },
    {
      "cell_type": "code",
      "metadata": {
        "colab": {
          "base_uri": "https://localhost:8080/"
        },
        "id": "KXMJrsF8ZHtE",
        "outputId": "c714be77-354f-4ef4-895e-fd9e68c04e97"
      },
      "source": [
        "eval_metrics(y_test, y_pred)\n"
      ],
      "execution_count": 30,
      "outputs": [
        {
          "output_type": "stream",
          "name": "stdout",
          "text": [
            "Model testing performance:\n",
            "--------------------------\n",
            "R2_score \t: 0.8489813024897594\n",
            "MAE \t\t: 1.2162256821298496\n",
            "MSE \t\t: 3.478803970641293\n",
            "RMSE \t\t: 1.8651552135522913\n"
          ]
        }
      ]
    },
    {
      "cell_type": "code",
      "metadata": {
        "id": "QtEHxqLPZHtF"
      },
      "source": [
        "y_train_pred = lin_model.predict(X_train)\n"
      ],
      "execution_count": 31,
      "outputs": []
    },
    {
      "cell_type": "code",
      "metadata": {
        "colab": {
          "base_uri": "https://localhost:8080/"
        },
        "id": "NRyat58PZHtF",
        "outputId": "b5a33e6d-9e01-4997-f5f6-dfa165427f3a"
      },
      "source": [
        "eval_metrics(y_train, y_train_pred)\n"
      ],
      "execution_count": 32,
      "outputs": [
        {
          "output_type": "stream",
          "name": "stdout",
          "text": [
            "Model testing performance:\n",
            "--------------------------\n",
            "R2_score \t: 0.8886517300804573\n",
            "MAE \t\t: 1.1675804448346956\n",
            "MSE \t\t: 2.9437205399629773\n",
            "RMSE \t\t: 1.7157274084081588\n"
          ]
        }
      ]
    },
    {
      "cell_type": "code",
      "metadata": {
        "colab": {
          "base_uri": "https://localhost:8080/",
          "height": 0
        },
        "id": "ge8DnbnYZHtF",
        "outputId": "a23321ce-dd62-46d6-9a82-84a19c03077a"
      },
      "source": [
        "model_scores = {\"model_train\": {\"rmse\" : np.sqrt(mean_squared_error(y_train, y_train_pred)),\n",
        "    \"mae\" : mean_absolute_error(y_train, y_train_pred),\n",
        "    \"mse\" : mean_squared_error(y_train, y_train_pred),\n",
        "    \"R2\" : r2_score(y_train, y_train_pred)}, \n",
        "\n",
        "    \"model_test\": {\"rmse\" : np.sqrt(mean_squared_error(y_test, y_pred)),\n",
        "    \"mae\" : mean_absolute_error(y_test, y_pred),\n",
        "    \"mse\" : mean_squared_error(y_test, y_pred),\n",
        "    \"R2\" : r2_score(y_test, y_pred)}}\n",
        "ls =pd.DataFrame(model_scores)\n",
        "ls\n"
      ],
      "execution_count": 33,
      "outputs": [
        {
          "output_type": "execute_result",
          "data": {
            "text/html": [
              "<div>\n",
              "<style scoped>\n",
              "    .dataframe tbody tr th:only-of-type {\n",
              "        vertical-align: middle;\n",
              "    }\n",
              "\n",
              "    .dataframe tbody tr th {\n",
              "        vertical-align: top;\n",
              "    }\n",
              "\n",
              "    .dataframe thead th {\n",
              "        text-align: right;\n",
              "    }\n",
              "</style>\n",
              "<table border=\"1\" class=\"dataframe\">\n",
              "  <thead>\n",
              "    <tr style=\"text-align: right;\">\n",
              "      <th></th>\n",
              "      <th>model_train</th>\n",
              "      <th>model_test</th>\n",
              "    </tr>\n",
              "  </thead>\n",
              "  <tbody>\n",
              "    <tr>\n",
              "      <th>rmse</th>\n",
              "      <td>1.715727</td>\n",
              "      <td>1.865155</td>\n",
              "    </tr>\n",
              "    <tr>\n",
              "      <th>mae</th>\n",
              "      <td>1.167580</td>\n",
              "      <td>1.216226</td>\n",
              "    </tr>\n",
              "    <tr>\n",
              "      <th>mse</th>\n",
              "      <td>2.943721</td>\n",
              "      <td>3.478804</td>\n",
              "    </tr>\n",
              "    <tr>\n",
              "      <th>R2</th>\n",
              "      <td>0.888652</td>\n",
              "      <td>0.848981</td>\n",
              "    </tr>\n",
              "  </tbody>\n",
              "</table>\n",
              "</div>"
            ],
            "text/plain": [
              "      model_train  model_test\n",
              "rmse     1.715727    1.865155\n",
              "mae      1.167580    1.216226\n",
              "mse      2.943721    3.478804\n",
              "R2       0.888652    0.848981"
            ]
          },
          "metadata": {},
          "execution_count": 33
        }
      ]
    },
    {
      "cell_type": "code",
      "metadata": {
        "id": "cZTXxOlxbV9T"
      },
      "source": [
        ""
      ],
      "execution_count": 33,
      "outputs": []
    },
    {
      "cell_type": "markdown",
      "metadata": {
        "id": "ngfv0b5vbnO6"
      },
      "source": [
        "# Regularization"
      ]
    },
    {
      "cell_type": "markdown",
      "metadata": {
        "id": "PbnRHneJbV9T"
      },
      "source": [
        "# Ridge"
      ]
    },
    {
      "cell_type": "code",
      "metadata": {
        "id": "sLbDL68AbV9V"
      },
      "source": [
        "ridge_model = Ridge(alpha=1)"
      ],
      "execution_count": 34,
      "outputs": []
    },
    {
      "cell_type": "code",
      "metadata": {
        "colab": {
          "base_uri": "https://localhost:8080/"
        },
        "id": "QjUurhP6ZHtH",
        "outputId": "d0f44c0a-eded-46cc-bd7a-e00d457c57a5"
      },
      "source": [
        "ridge_model.fit(X_train, y_train)"
      ],
      "execution_count": 35,
      "outputs": [
        {
          "output_type": "execute_result",
          "data": {
            "text/plain": [
              "Ridge(alpha=1, copy_X=True, fit_intercept=True, max_iter=None, normalize=False,\n",
              "      random_state=None, solver='auto', tol=0.001)"
            ]
          },
          "metadata": {},
          "execution_count": 35
        }
      ]
    },
    {
      "cell_type": "code",
      "metadata": {
        "colab": {
          "base_uri": "https://localhost:8080/"
        },
        "id": "jlNOGHprZHtH",
        "outputId": "24a4f71d-d869-4d39-a797-52885d2f022a"
      },
      "source": [
        "y_pred = ridge_model.predict(X_test)\n",
        "eval_metrics(y_test, y_pred)"
      ],
      "execution_count": 36,
      "outputs": [
        {
          "output_type": "stream",
          "name": "stdout",
          "text": [
            "Model testing performance:\n",
            "--------------------------\n",
            "R2_score \t: 0.8501120632131454\n",
            "MAE \t\t: 1.2114288537900089\n",
            "MSE \t\t: 3.452756236425511\n",
            "RMSE \t\t: 1.858159367876047\n"
          ]
        }
      ]
    },
    {
      "cell_type": "code",
      "metadata": {
        "colab": {
          "base_uri": "https://localhost:8080/"
        },
        "id": "tazd6U_rZHtH",
        "outputId": "c88f288d-b40e-41b8-a23f-d1df620e2a5f"
      },
      "source": [
        "y_train_pred = ridge_model.predict(X_train)\n",
        "eval_metrics(y_train, y_train_pred)"
      ],
      "execution_count": 37,
      "outputs": [
        {
          "output_type": "stream",
          "name": "stdout",
          "text": [
            "Model testing performance:\n",
            "--------------------------\n",
            "R2_score \t: 0.8884015131437724\n",
            "MAE \t\t: 1.1686771305018673\n",
            "MSE \t\t: 2.950335539338347\n",
            "RMSE \t\t: 1.7176540802322064\n"
          ]
        }
      ]
    },
    {
      "cell_type": "code",
      "metadata": {
        "colab": {
          "base_uri": "https://localhost:8080/",
          "height": 0
        },
        "id": "dZmXVbzqZHtH",
        "outputId": "d3019561-37a9-4bd6-cd00-dbe124f29640"
      },
      "source": [
        "ridge_scores = {\"ridge_train\": {\"rmse\" : np.sqrt(mean_squared_error(y_train, y_train_pred)),\n",
        "    \"mae\" : mean_absolute_error(y_train, y_train_pred),\n",
        "    \"mse\" : mean_squared_error(y_train, y_train_pred),\n",
        "    \"R2\" : r2_score(y_train, y_train_pred)}, \n",
        "\n",
        "    \"ridge_test\": {\"rmse\" : np.sqrt(mean_squared_error(y_test, y_pred)),\n",
        "    \"mae\" : mean_absolute_error(y_test, y_pred),\n",
        "    \"mse\" : mean_squared_error(y_test, y_pred),\n",
        "    \"R2\" : r2_score(y_test, y_pred)}}\n",
        "rs = pd.DataFrame(ridge_scores)\n",
        "rs"
      ],
      "execution_count": 38,
      "outputs": [
        {
          "output_type": "execute_result",
          "data": {
            "text/html": [
              "<div>\n",
              "<style scoped>\n",
              "    .dataframe tbody tr th:only-of-type {\n",
              "        vertical-align: middle;\n",
              "    }\n",
              "\n",
              "    .dataframe tbody tr th {\n",
              "        vertical-align: top;\n",
              "    }\n",
              "\n",
              "    .dataframe thead th {\n",
              "        text-align: right;\n",
              "    }\n",
              "</style>\n",
              "<table border=\"1\" class=\"dataframe\">\n",
              "  <thead>\n",
              "    <tr style=\"text-align: right;\">\n",
              "      <th></th>\n",
              "      <th>ridge_train</th>\n",
              "      <th>ridge_test</th>\n",
              "    </tr>\n",
              "  </thead>\n",
              "  <tbody>\n",
              "    <tr>\n",
              "      <th>rmse</th>\n",
              "      <td>1.717654</td>\n",
              "      <td>1.858159</td>\n",
              "    </tr>\n",
              "    <tr>\n",
              "      <th>mae</th>\n",
              "      <td>1.168677</td>\n",
              "      <td>1.211429</td>\n",
              "    </tr>\n",
              "    <tr>\n",
              "      <th>mse</th>\n",
              "      <td>2.950336</td>\n",
              "      <td>3.452756</td>\n",
              "    </tr>\n",
              "    <tr>\n",
              "      <th>R2</th>\n",
              "      <td>0.888402</td>\n",
              "      <td>0.850112</td>\n",
              "    </tr>\n",
              "  </tbody>\n",
              "</table>\n",
              "</div>"
            ],
            "text/plain": [
              "      ridge_train  ridge_test\n",
              "rmse     1.717654    1.858159\n",
              "mae      1.168677    1.211429\n",
              "mse      2.950336    3.452756\n",
              "R2       0.888402    0.850112"
            ]
          },
          "metadata": {},
          "execution_count": 38
        }
      ]
    },
    {
      "cell_type": "code",
      "metadata": {
        "scrolled": true,
        "id": "7ROnalKzZHtI"
      },
      "source": [
        "model = Ridge(alpha=1)\n",
        "scores = cross_validate(model, X_train, y_train,\n",
        "                    scoring=['r2', 'neg_mean_absolute_error','neg_mean_squared_error','neg_root_mean_squared_error'], cv=10)"
      ],
      "execution_count": 39,
      "outputs": []
    },
    {
      "cell_type": "code",
      "metadata": {
        "colab": {
          "base_uri": "https://localhost:8080/",
          "height": 0
        },
        "id": "9rXIH1X9ZHtI",
        "outputId": "0f06b26f-17a4-404b-8eb7-c934b57af666"
      },
      "source": [
        "scores = pd.DataFrame(scores, index = range(1, 11))\n",
        "scores.iloc[:,2:]"
      ],
      "execution_count": 40,
      "outputs": [
        {
          "output_type": "execute_result",
          "data": {
            "text/html": [
              "<div>\n",
              "<style scoped>\n",
              "    .dataframe tbody tr th:only-of-type {\n",
              "        vertical-align: middle;\n",
              "    }\n",
              "\n",
              "    .dataframe tbody tr th {\n",
              "        vertical-align: top;\n",
              "    }\n",
              "\n",
              "    .dataframe thead th {\n",
              "        text-align: right;\n",
              "    }\n",
              "</style>\n",
              "<table border=\"1\" class=\"dataframe\">\n",
              "  <thead>\n",
              "    <tr style=\"text-align: right;\">\n",
              "      <th></th>\n",
              "      <th>test_r2</th>\n",
              "      <th>test_neg_mean_absolute_error</th>\n",
              "      <th>test_neg_mean_squared_error</th>\n",
              "      <th>test_neg_root_mean_squared_error</th>\n",
              "    </tr>\n",
              "  </thead>\n",
              "  <tbody>\n",
              "    <tr>\n",
              "      <th>1</th>\n",
              "      <td>0.900347</td>\n",
              "      <td>-1.451873</td>\n",
              "      <td>-4.179716</td>\n",
              "      <td>-2.044435</td>\n",
              "    </tr>\n",
              "    <tr>\n",
              "      <th>2</th>\n",
              "      <td>0.654007</td>\n",
              "      <td>-1.500285</td>\n",
              "      <td>-5.782670</td>\n",
              "      <td>-2.404718</td>\n",
              "    </tr>\n",
              "    <tr>\n",
              "      <th>3</th>\n",
              "      <td>0.818225</td>\n",
              "      <td>-1.681365</td>\n",
              "      <td>-11.109517</td>\n",
              "      <td>-3.333094</td>\n",
              "    </tr>\n",
              "    <tr>\n",
              "      <th>4</th>\n",
              "      <td>0.834832</td>\n",
              "      <td>-1.091568</td>\n",
              "      <td>-2.087149</td>\n",
              "      <td>-1.444697</td>\n",
              "    </tr>\n",
              "    <tr>\n",
              "      <th>5</th>\n",
              "      <td>0.803887</td>\n",
              "      <td>-1.272124</td>\n",
              "      <td>-4.094203</td>\n",
              "      <td>-2.023414</td>\n",
              "    </tr>\n",
              "    <tr>\n",
              "      <th>6</th>\n",
              "      <td>0.805688</td>\n",
              "      <td>-0.859961</td>\n",
              "      <td>-1.009681</td>\n",
              "      <td>-1.004829</td>\n",
              "    </tr>\n",
              "    <tr>\n",
              "      <th>7</th>\n",
              "      <td>0.859226</td>\n",
              "      <td>-1.326651</td>\n",
              "      <td>-7.323181</td>\n",
              "      <td>-2.706138</td>\n",
              "    </tr>\n",
              "    <tr>\n",
              "      <th>8</th>\n",
              "      <td>0.426320</td>\n",
              "      <td>-1.195132</td>\n",
              "      <td>-3.267166</td>\n",
              "      <td>-1.807530</td>\n",
              "    </tr>\n",
              "    <tr>\n",
              "      <th>9</th>\n",
              "      <td>0.899870</td>\n",
              "      <td>-1.263281</td>\n",
              "      <td>-2.796771</td>\n",
              "      <td>-1.672355</td>\n",
              "    </tr>\n",
              "    <tr>\n",
              "      <th>10</th>\n",
              "      <td>0.870952</td>\n",
              "      <td>-0.887696</td>\n",
              "      <td>-1.202186</td>\n",
              "      <td>-1.096442</td>\n",
              "    </tr>\n",
              "  </tbody>\n",
              "</table>\n",
              "</div>"
            ],
            "text/plain": [
              "     test_r2  test_neg_mean_absolute_error  test_neg_mean_squared_error  \\\n",
              "1   0.900347                     -1.451873                    -4.179716   \n",
              "2   0.654007                     -1.500285                    -5.782670   \n",
              "3   0.818225                     -1.681365                   -11.109517   \n",
              "4   0.834832                     -1.091568                    -2.087149   \n",
              "5   0.803887                     -1.272124                    -4.094203   \n",
              "6   0.805688                     -0.859961                    -1.009681   \n",
              "7   0.859226                     -1.326651                    -7.323181   \n",
              "8   0.426320                     -1.195132                    -3.267166   \n",
              "9   0.899870                     -1.263281                    -2.796771   \n",
              "10  0.870952                     -0.887696                    -1.202186   \n",
              "\n",
              "    test_neg_root_mean_squared_error  \n",
              "1                          -2.044435  \n",
              "2                          -2.404718  \n",
              "3                          -3.333094  \n",
              "4                          -1.444697  \n",
              "5                          -2.023414  \n",
              "6                          -1.004829  \n",
              "7                          -2.706138  \n",
              "8                          -1.807530  \n",
              "9                          -1.672355  \n",
              "10                         -1.096442  "
            ]
          },
          "metadata": {},
          "execution_count": 40
        }
      ]
    },
    {
      "cell_type": "code",
      "metadata": {
        "colab": {
          "base_uri": "https://localhost:8080/"
        },
        "id": "Km6jHjNoZHtI",
        "outputId": "ac6024ca-634d-485d-fbd7-d2ddc4cfc864"
      },
      "source": [
        "pd.DataFrame(scores, index = range(1, 11)).iloc[:, 2:].mean()"
      ],
      "execution_count": 41,
      "outputs": [
        {
          "output_type": "execute_result",
          "data": {
            "text/plain": [
              "test_r2                             0.787335\n",
              "test_neg_mean_absolute_error       -1.252994\n",
              "test_neg_mean_squared_error        -4.285224\n",
              "test_neg_root_mean_squared_error   -1.953765\n",
              "dtype: float64"
            ]
          },
          "metadata": {},
          "execution_count": 41
        }
      ]
    },
    {
      "cell_type": "code",
      "metadata": {
        "colab": {
          "base_uri": "https://localhost:8080/"
        },
        "id": "Xeza88BnZHtJ",
        "outputId": "940586a1-68b4-4bdc-dbcf-62013034e917"
      },
      "source": [
        "eval_metrics(y_test, y_pred)"
      ],
      "execution_count": 42,
      "outputs": [
        {
          "output_type": "stream",
          "name": "stdout",
          "text": [
            "Model testing performance:\n",
            "--------------------------\n",
            "R2_score \t: 0.8501120632131454\n",
            "MAE \t\t: 1.2114288537900089\n",
            "MSE \t\t: 3.452756236425511\n",
            "RMSE \t\t: 1.858159367876047\n"
          ]
        }
      ]
    },
    {
      "cell_type": "code",
      "metadata": {
        "colab": {
          "base_uri": "https://localhost:8080/"
        },
        "id": "xiCRKJrlZHtJ",
        "outputId": "6864f91e-cee7-4f7a-bbe9-8baae144e576"
      },
      "source": [
        "alpha_space = np.linspace(0.01, 1, 100)  # bu aralığı azaltıp arttırabilirsin. \n",
        "alpha_space"
      ],
      "execution_count": 43,
      "outputs": [
        {
          "output_type": "execute_result",
          "data": {
            "text/plain": [
              "array([0.01, 0.02, 0.03, 0.04, 0.05, 0.06, 0.07, 0.08, 0.09, 0.1 , 0.11,\n",
              "       0.12, 0.13, 0.14, 0.15, 0.16, 0.17, 0.18, 0.19, 0.2 , 0.21, 0.22,\n",
              "       0.23, 0.24, 0.25, 0.26, 0.27, 0.28, 0.29, 0.3 , 0.31, 0.32, 0.33,\n",
              "       0.34, 0.35, 0.36, 0.37, 0.38, 0.39, 0.4 , 0.41, 0.42, 0.43, 0.44,\n",
              "       0.45, 0.46, 0.47, 0.48, 0.49, 0.5 , 0.51, 0.52, 0.53, 0.54, 0.55,\n",
              "       0.56, 0.57, 0.58, 0.59, 0.6 , 0.61, 0.62, 0.63, 0.64, 0.65, 0.66,\n",
              "       0.67, 0.68, 0.69, 0.7 , 0.71, 0.72, 0.73, 0.74, 0.75, 0.76, 0.77,\n",
              "       0.78, 0.79, 0.8 , 0.81, 0.82, 0.83, 0.84, 0.85, 0.86, 0.87, 0.88,\n",
              "       0.89, 0.9 , 0.91, 0.92, 0.93, 0.94, 0.95, 0.96, 0.97, 0.98, 0.99,\n",
              "       1.  ])"
            ]
          },
          "metadata": {},
          "execution_count": 43
        }
      ]
    },
    {
      "cell_type": "code",
      "metadata": {
        "id": "aJPvnO2IZHtK"
      },
      "source": [
        "ridge_cv_model = RidgeCV(alphas = alpha_space, cv = 10, scoring = \"neg_root_mean_squared_error\")"
      ],
      "execution_count": 44,
      "outputs": []
    },
    {
      "cell_type": "code",
      "metadata": {
        "colab": {
          "base_uri": "https://localhost:8080/"
        },
        "id": "X44trm7LZHtK",
        "outputId": "35cf2fbb-2dcd-4499-c90b-270a4ca5f090"
      },
      "source": [
        "ridge_cv_model.fit(X_train, y_train)"
      ],
      "execution_count": 45,
      "outputs": [
        {
          "output_type": "execute_result",
          "data": {
            "text/plain": [
              "RidgeCV(alphas=array([0.01, 0.02, 0.03, 0.04, 0.05, 0.06, 0.07, 0.08, 0.09, 0.1 , 0.11,\n",
              "       0.12, 0.13, 0.14, 0.15, 0.16, 0.17, 0.18, 0.19, 0.2 , 0.21, 0.22,\n",
              "       0.23, 0.24, 0.25, 0.26, 0.27, 0.28, 0.29, 0.3 , 0.31, 0.32, 0.33,\n",
              "       0.34, 0.35, 0.36, 0.37, 0.38, 0.39, 0.4 , 0.41, 0.42, 0.43, 0.44,\n",
              "       0.45, 0.46, 0.47, 0.48, 0.49, 0.5 , 0.51, 0.52, 0.53, 0.54, 0.55,\n",
              "       0.56, 0.57, 0.58, 0.59, 0.6 , 0.61, 0.62, 0.63, 0.64, 0.65, 0.66,\n",
              "       0.67, 0.68, 0.69, 0.7 , 0.71, 0.72, 0.73, 0.74, 0.75, 0.76, 0.77,\n",
              "       0.78, 0.79, 0.8 , 0.81, 0.82, 0.83, 0.84, 0.85, 0.86, 0.87, 0.88,\n",
              "       0.89, 0.9 , 0.91, 0.92, 0.93, 0.94, 0.95, 0.96, 0.97, 0.98, 0.99,\n",
              "       1.  ]),\n",
              "        cv=10, fit_intercept=True, gcv_mode=None, normalize=False,\n",
              "        scoring='neg_root_mean_squared_error', store_cv_values=False)"
            ]
          },
          "metadata": {},
          "execution_count": 45
        }
      ]
    },
    {
      "cell_type": "code",
      "metadata": {
        "colab": {
          "base_uri": "https://localhost:8080/"
        },
        "id": "a9zqcks-ZHtK",
        "outputId": "75752c77-eb6d-430a-d7b1-b084130d7daa"
      },
      "source": [
        "ridge_cv_model.alpha_"
      ],
      "execution_count": 46,
      "outputs": [
        {
          "output_type": "execute_result",
          "data": {
            "text/plain": [
              "1.0"
            ]
          },
          "metadata": {},
          "execution_count": 46
        }
      ]
    },
    {
      "cell_type": "code",
      "metadata": {
        "id": "aiDnM1wvZHtL"
      },
      "source": [
        "y_pred = ridge_cv_model.predict(X_test)"
      ],
      "execution_count": 47,
      "outputs": []
    },
    {
      "cell_type": "code",
      "metadata": {
        "colab": {
          "base_uri": "https://localhost:8080/"
        },
        "id": "bO-RK2RqZHtL",
        "outputId": "7ac1b86b-89d8-4a6e-eab5-57a45672f42f"
      },
      "source": [
        "eval_metrics(y_test, y_pred)"
      ],
      "execution_count": 48,
      "outputs": [
        {
          "output_type": "stream",
          "name": "stdout",
          "text": [
            "Model testing performance:\n",
            "--------------------------\n",
            "R2_score \t: 0.8501120632131454\n",
            "MAE \t\t: 1.2114288537900089\n",
            "MSE \t\t: 3.452756236425511\n",
            "RMSE \t\t: 1.858159367876047\n"
          ]
        }
      ]
    },
    {
      "cell_type": "code",
      "metadata": {
        "colab": {
          "base_uri": "https://localhost:8080/"
        },
        "id": "dZ1uhsNbZHtL",
        "outputId": "f8b7c5e6-937a-435b-c5db-633cd7d85830"
      },
      "source": [
        "y_train_pred = ridge_cv_model.predict(X_train)\n",
        "eval_metrics(y_train, y_train_pred) "
      ],
      "execution_count": 49,
      "outputs": [
        {
          "output_type": "stream",
          "name": "stdout",
          "text": [
            "Model testing performance:\n",
            "--------------------------\n",
            "R2_score \t: 0.8884015131437724\n",
            "MAE \t\t: 1.1686771305018673\n",
            "MSE \t\t: 2.950335539338347\n",
            "RMSE \t\t: 1.7176540802322064\n"
          ]
        }
      ]
    },
    {
      "cell_type": "code",
      "metadata": {
        "colab": {
          "base_uri": "https://localhost:8080/",
          "height": 0
        },
        "id": "fDmJ6RXvZHtM",
        "outputId": "f56157a4-5ebd-4cc8-c1e8-128d7e5c202c"
      },
      "source": [
        "ridge_cv_scores = {\"ridge_cv_train\": {\"rmse\" : np.sqrt(mean_squared_error(y_train, y_train_pred)),\n",
        "    \"mae\" : mean_absolute_error(y_train, y_train_pred),\n",
        "    \"mse\" : mean_squared_error(y_train, y_train_pred),\n",
        "    \"R2\" : r2_score(y_train, y_train_pred)}, \n",
        "\n",
        "    \"ridge_cv_test\": {\"rmse\" : np.sqrt(mean_squared_error(y_test, y_pred)),\n",
        "    \"mae\" : mean_absolute_error(y_test, y_pred),\n",
        "    \"mse\" : mean_squared_error(y_test, y_pred),\n",
        "    \"R2\" : r2_score(y_test, y_pred)}}\n",
        "rcs = pd.DataFrame(ridge_cv_scores)\n",
        "rcs"
      ],
      "execution_count": 50,
      "outputs": [
        {
          "output_type": "execute_result",
          "data": {
            "text/html": [
              "<div>\n",
              "<style scoped>\n",
              "    .dataframe tbody tr th:only-of-type {\n",
              "        vertical-align: middle;\n",
              "    }\n",
              "\n",
              "    .dataframe tbody tr th {\n",
              "        vertical-align: top;\n",
              "    }\n",
              "\n",
              "    .dataframe thead th {\n",
              "        text-align: right;\n",
              "    }\n",
              "</style>\n",
              "<table border=\"1\" class=\"dataframe\">\n",
              "  <thead>\n",
              "    <tr style=\"text-align: right;\">\n",
              "      <th></th>\n",
              "      <th>ridge_cv_train</th>\n",
              "      <th>ridge_cv_test</th>\n",
              "    </tr>\n",
              "  </thead>\n",
              "  <tbody>\n",
              "    <tr>\n",
              "      <th>rmse</th>\n",
              "      <td>1.717654</td>\n",
              "      <td>1.858159</td>\n",
              "    </tr>\n",
              "    <tr>\n",
              "      <th>mae</th>\n",
              "      <td>1.168677</td>\n",
              "      <td>1.211429</td>\n",
              "    </tr>\n",
              "    <tr>\n",
              "      <th>mse</th>\n",
              "      <td>2.950336</td>\n",
              "      <td>3.452756</td>\n",
              "    </tr>\n",
              "    <tr>\n",
              "      <th>R2</th>\n",
              "      <td>0.888402</td>\n",
              "      <td>0.850112</td>\n",
              "    </tr>\n",
              "  </tbody>\n",
              "</table>\n",
              "</div>"
            ],
            "text/plain": [
              "      ridge_cv_train  ridge_cv_test\n",
              "rmse        1.717654       1.858159\n",
              "mae         1.168677       1.211429\n",
              "mse         2.950336       3.452756\n",
              "R2          0.888402       0.850112"
            ]
          },
          "metadata": {},
          "execution_count": 50
        }
      ]
    },
    {
      "cell_type": "code",
      "metadata": {
        "id": "9qwqsJ39ZHtM"
      },
      "source": [
        ""
      ],
      "execution_count": 50,
      "outputs": []
    },
    {
      "cell_type": "markdown",
      "metadata": {
        "id": "B_T57TpNbV9V"
      },
      "source": [
        "# Lasso"
      ]
    },
    {
      "cell_type": "code",
      "metadata": {
        "id": "MBAiMxBAbV9W",
        "colab": {
          "base_uri": "https://localhost:8080/"
        },
        "outputId": "798c8651-42f1-4c59-e261-b310f251dee9"
      },
      "source": [
        "lasso_model = Lasso(alpha = 1)\n",
        "lasso_model.fit(X_train, y_train)"
      ],
      "execution_count": 51,
      "outputs": [
        {
          "output_type": "execute_result",
          "data": {
            "text/plain": [
              "Lasso(alpha=1, copy_X=True, fit_intercept=True, max_iter=1000, normalize=False,\n",
              "      positive=False, precompute=False, random_state=None, selection='cyclic',\n",
              "      tol=0.0001, warm_start=False)"
            ]
          },
          "metadata": {},
          "execution_count": 51
        }
      ]
    },
    {
      "cell_type": "code",
      "metadata": {
        "id": "sopGl1YuZHtN"
      },
      "source": [
        "y_train_pred = lasso_model.predict(X_train)"
      ],
      "execution_count": 52,
      "outputs": []
    },
    {
      "cell_type": "code",
      "metadata": {
        "colab": {
          "base_uri": "https://localhost:8080/"
        },
        "id": "auuCzTypZHtN",
        "outputId": "bb95e1e7-9d0a-485b-8520-30ca3102aecb"
      },
      "source": [
        "eval_metrics(y_train, y_train_pred)"
      ],
      "execution_count": 53,
      "outputs": [
        {
          "output_type": "stream",
          "name": "stdout",
          "text": [
            "Model testing performance:\n",
            "--------------------------\n",
            "R2_score \t: 0.848030286813716\n",
            "MAE \t\t: 1.2231110358007187\n",
            "MSE \t\t: 4.017631944187324\n",
            "RMSE \t\t: 2.004403139138263\n"
          ]
        }
      ]
    },
    {
      "cell_type": "code",
      "metadata": {
        "id": "ifVrh_53ZHtN"
      },
      "source": [
        "y_pred = lasso_model.predict(X_test)"
      ],
      "execution_count": 54,
      "outputs": []
    },
    {
      "cell_type": "code",
      "metadata": {
        "scrolled": false,
        "colab": {
          "base_uri": "https://localhost:8080/"
        },
        "id": "u3gXbVuXZHtN",
        "outputId": "41a171a9-2390-47dc-ed67-73da93238152"
      },
      "source": [
        "eval_metrics(y_test, y_pred)"
      ],
      "execution_count": 55,
      "outputs": [
        {
          "output_type": "stream",
          "name": "stdout",
          "text": [
            "Model testing performance:\n",
            "--------------------------\n",
            "R2_score \t: 0.798551246128469\n",
            "MAE \t\t: 1.471428863669146\n",
            "MSE \t\t: 4.6404897963148\n",
            "RMSE \t\t: 2.1541796109690576\n"
          ]
        }
      ]
    },
    {
      "cell_type": "code",
      "metadata": {
        "colab": {
          "base_uri": "https://localhost:8080/",
          "height": 175
        },
        "id": "6XdkxzIqZHtN",
        "outputId": "10364b81-4ab0-4dc8-a5d2-32e34f605a97"
      },
      "source": [
        "lasso_scores = {\"lasso_train\": {\"rmse\" : np.sqrt(mean_squared_error(y_train, y_train_pred)),\n",
        "    \"mae\" : mean_absolute_error(y_train, y_train_pred),\n",
        "    \"mse\" : mean_squared_error(y_train, y_train_pred),\n",
        "    \"R2\" : r2_score(y_train, y_train_pred)}, \n",
        "\n",
        "    \"lasso_test\": {\"rmse\" : np.sqrt(mean_squared_error(y_test, y_pred)),\n",
        "    \"mae\" : mean_absolute_error(y_test, y_pred),\n",
        "    \"mse\" : mean_squared_error(y_test, y_pred),\n",
        "    \"R2\" : r2_score(y_test, y_pred)}}\n",
        "lss = pd.DataFrame(lasso_scores)\n",
        "lss"
      ],
      "execution_count": 56,
      "outputs": [
        {
          "output_type": "execute_result",
          "data": {
            "text/html": [
              "<div>\n",
              "<style scoped>\n",
              "    .dataframe tbody tr th:only-of-type {\n",
              "        vertical-align: middle;\n",
              "    }\n",
              "\n",
              "    .dataframe tbody tr th {\n",
              "        vertical-align: top;\n",
              "    }\n",
              "\n",
              "    .dataframe thead th {\n",
              "        text-align: right;\n",
              "    }\n",
              "</style>\n",
              "<table border=\"1\" class=\"dataframe\">\n",
              "  <thead>\n",
              "    <tr style=\"text-align: right;\">\n",
              "      <th></th>\n",
              "      <th>lasso_train</th>\n",
              "      <th>lasso_test</th>\n",
              "    </tr>\n",
              "  </thead>\n",
              "  <tbody>\n",
              "    <tr>\n",
              "      <th>rmse</th>\n",
              "      <td>2.004403</td>\n",
              "      <td>2.154180</td>\n",
              "    </tr>\n",
              "    <tr>\n",
              "      <th>mae</th>\n",
              "      <td>1.223111</td>\n",
              "      <td>1.471429</td>\n",
              "    </tr>\n",
              "    <tr>\n",
              "      <th>mse</th>\n",
              "      <td>4.017632</td>\n",
              "      <td>4.640490</td>\n",
              "    </tr>\n",
              "    <tr>\n",
              "      <th>R2</th>\n",
              "      <td>0.848030</td>\n",
              "      <td>0.798551</td>\n",
              "    </tr>\n",
              "  </tbody>\n",
              "</table>\n",
              "</div>"
            ],
            "text/plain": [
              "      lasso_train  lasso_test\n",
              "rmse     2.004403    2.154180\n",
              "mae      1.223111    1.471429\n",
              "mse      4.017632    4.640490\n",
              "R2       0.848030    0.798551"
            ]
          },
          "metadata": {},
          "execution_count": 56
        }
      ]
    },
    {
      "cell_type": "code",
      "metadata": {
        "colab": {
          "base_uri": "https://localhost:8080/",
          "height": 175
        },
        "id": "uezHJIDwZHtO",
        "outputId": "4c6ea0a7-f33d-4a81-9fc9-42f1a7dcbbff"
      },
      "source": [
        "pd.concat([ls, rs, rcs, lss], axis = 1)"
      ],
      "execution_count": 57,
      "outputs": [
        {
          "output_type": "execute_result",
          "data": {
            "text/html": [
              "<div>\n",
              "<style scoped>\n",
              "    .dataframe tbody tr th:only-of-type {\n",
              "        vertical-align: middle;\n",
              "    }\n",
              "\n",
              "    .dataframe tbody tr th {\n",
              "        vertical-align: top;\n",
              "    }\n",
              "\n",
              "    .dataframe thead th {\n",
              "        text-align: right;\n",
              "    }\n",
              "</style>\n",
              "<table border=\"1\" class=\"dataframe\">\n",
              "  <thead>\n",
              "    <tr style=\"text-align: right;\">\n",
              "      <th></th>\n",
              "      <th>model_train</th>\n",
              "      <th>model_test</th>\n",
              "      <th>ridge_train</th>\n",
              "      <th>ridge_test</th>\n",
              "      <th>ridge_cv_train</th>\n",
              "      <th>ridge_cv_test</th>\n",
              "      <th>lasso_train</th>\n",
              "      <th>lasso_test</th>\n",
              "    </tr>\n",
              "  </thead>\n",
              "  <tbody>\n",
              "    <tr>\n",
              "      <th>rmse</th>\n",
              "      <td>1.715727</td>\n",
              "      <td>1.865155</td>\n",
              "      <td>1.717654</td>\n",
              "      <td>1.858159</td>\n",
              "      <td>1.717654</td>\n",
              "      <td>1.858159</td>\n",
              "      <td>2.004403</td>\n",
              "      <td>2.154180</td>\n",
              "    </tr>\n",
              "    <tr>\n",
              "      <th>mae</th>\n",
              "      <td>1.167580</td>\n",
              "      <td>1.216226</td>\n",
              "      <td>1.168677</td>\n",
              "      <td>1.211429</td>\n",
              "      <td>1.168677</td>\n",
              "      <td>1.211429</td>\n",
              "      <td>1.223111</td>\n",
              "      <td>1.471429</td>\n",
              "    </tr>\n",
              "    <tr>\n",
              "      <th>mse</th>\n",
              "      <td>2.943721</td>\n",
              "      <td>3.478804</td>\n",
              "      <td>2.950336</td>\n",
              "      <td>3.452756</td>\n",
              "      <td>2.950336</td>\n",
              "      <td>3.452756</td>\n",
              "      <td>4.017632</td>\n",
              "      <td>4.640490</td>\n",
              "    </tr>\n",
              "    <tr>\n",
              "      <th>R2</th>\n",
              "      <td>0.888652</td>\n",
              "      <td>0.848981</td>\n",
              "      <td>0.888402</td>\n",
              "      <td>0.850112</td>\n",
              "      <td>0.888402</td>\n",
              "      <td>0.850112</td>\n",
              "      <td>0.848030</td>\n",
              "      <td>0.798551</td>\n",
              "    </tr>\n",
              "  </tbody>\n",
              "</table>\n",
              "</div>"
            ],
            "text/plain": [
              "      model_train  model_test  ridge_train  ridge_test  ridge_cv_train  \\\n",
              "rmse     1.715727    1.865155     1.717654    1.858159        1.717654   \n",
              "mae      1.167580    1.216226     1.168677    1.211429        1.168677   \n",
              "mse      2.943721    3.478804     2.950336    3.452756        2.950336   \n",
              "R2       0.888652    0.848981     0.888402    0.850112        0.888402   \n",
              "\n",
              "      ridge_cv_test  lasso_train  lasso_test  \n",
              "rmse       1.858159     2.004403    2.154180  \n",
              "mae        1.211429     1.223111    1.471429  \n",
              "mse        3.452756     4.017632    4.640490  \n",
              "R2         0.850112     0.848030    0.798551  "
            ]
          },
          "metadata": {},
          "execution_count": 57
        }
      ]
    },
    {
      "cell_type": "code",
      "metadata": {
        "id": "Lp7JNNyHZHtO"
      },
      "source": [
        "model = Lasso(alpha=1)\n",
        "scores = cross_validate(model, X_train, y_train,\n",
        "                        scoring=['r2', 'neg_mean_absolute_error','neg_mean_squared_error','neg_root_mean_squared_error'], cv=10)"
      ],
      "execution_count": 58,
      "outputs": []
    },
    {
      "cell_type": "code",
      "metadata": {
        "colab": {
          "base_uri": "https://localhost:8080/",
          "height": 362
        },
        "id": "9mjLnCAAZHtO",
        "outputId": "c46f6cb6-c259-410e-ba59-c05093be2ceb"
      },
      "source": [
        "scores = pd.DataFrame(scores, index = range(1, 11))\n",
        "scores.iloc[:,2:]"
      ],
      "execution_count": 59,
      "outputs": [
        {
          "output_type": "execute_result",
          "data": {
            "text/html": [
              "<div>\n",
              "<style scoped>\n",
              "    .dataframe tbody tr th:only-of-type {\n",
              "        vertical-align: middle;\n",
              "    }\n",
              "\n",
              "    .dataframe tbody tr th {\n",
              "        vertical-align: top;\n",
              "    }\n",
              "\n",
              "    .dataframe thead th {\n",
              "        text-align: right;\n",
              "    }\n",
              "</style>\n",
              "<table border=\"1\" class=\"dataframe\">\n",
              "  <thead>\n",
              "    <tr style=\"text-align: right;\">\n",
              "      <th></th>\n",
              "      <th>test_r2</th>\n",
              "      <th>test_neg_mean_absolute_error</th>\n",
              "      <th>test_neg_mean_squared_error</th>\n",
              "      <th>test_neg_root_mean_squared_error</th>\n",
              "    </tr>\n",
              "  </thead>\n",
              "  <tbody>\n",
              "    <tr>\n",
              "      <th>1</th>\n",
              "      <td>0.883049</td>\n",
              "      <td>-1.435615</td>\n",
              "      <td>-4.905248</td>\n",
              "      <td>-2.214779</td>\n",
              "    </tr>\n",
              "    <tr>\n",
              "      <th>2</th>\n",
              "      <td>0.696743</td>\n",
              "      <td>-1.416323</td>\n",
              "      <td>-5.068414</td>\n",
              "      <td>-2.251314</td>\n",
              "    </tr>\n",
              "    <tr>\n",
              "      <th>3</th>\n",
              "      <td>0.725062</td>\n",
              "      <td>-1.911275</td>\n",
              "      <td>-16.803328</td>\n",
              "      <td>-4.099186</td>\n",
              "    </tr>\n",
              "    <tr>\n",
              "      <th>4</th>\n",
              "      <td>0.843876</td>\n",
              "      <td>-1.044645</td>\n",
              "      <td>-1.972867</td>\n",
              "      <td>-1.404588</td>\n",
              "    </tr>\n",
              "    <tr>\n",
              "      <th>5</th>\n",
              "      <td>0.736887</td>\n",
              "      <td>-1.464262</td>\n",
              "      <td>-5.492953</td>\n",
              "      <td>-2.343705</td>\n",
              "    </tr>\n",
              "    <tr>\n",
              "      <th>6</th>\n",
              "      <td>0.817708</td>\n",
              "      <td>-0.725413</td>\n",
              "      <td>-0.947220</td>\n",
              "      <td>-0.973252</td>\n",
              "    </tr>\n",
              "    <tr>\n",
              "      <th>7</th>\n",
              "      <td>0.813136</td>\n",
              "      <td>-1.597788</td>\n",
              "      <td>-9.720810</td>\n",
              "      <td>-3.117821</td>\n",
              "    </tr>\n",
              "    <tr>\n",
              "      <th>8</th>\n",
              "      <td>0.563139</td>\n",
              "      <td>-0.931708</td>\n",
              "      <td>-2.487967</td>\n",
              "      <td>-1.577329</td>\n",
              "    </tr>\n",
              "    <tr>\n",
              "      <th>9</th>\n",
              "      <td>0.834202</td>\n",
              "      <td>-1.482811</td>\n",
              "      <td>-4.630980</td>\n",
              "      <td>-2.151971</td>\n",
              "    </tr>\n",
              "    <tr>\n",
              "      <th>10</th>\n",
              "      <td>0.873459</td>\n",
              "      <td>-0.893706</td>\n",
              "      <td>-1.178830</td>\n",
              "      <td>-1.085739</td>\n",
              "    </tr>\n",
              "  </tbody>\n",
              "</table>\n",
              "</div>"
            ],
            "text/plain": [
              "     test_r2  test_neg_mean_absolute_error  test_neg_mean_squared_error  \\\n",
              "1   0.883049                     -1.435615                    -4.905248   \n",
              "2   0.696743                     -1.416323                    -5.068414   \n",
              "3   0.725062                     -1.911275                   -16.803328   \n",
              "4   0.843876                     -1.044645                    -1.972867   \n",
              "5   0.736887                     -1.464262                    -5.492953   \n",
              "6   0.817708                     -0.725413                    -0.947220   \n",
              "7   0.813136                     -1.597788                    -9.720810   \n",
              "8   0.563139                     -0.931708                    -2.487967   \n",
              "9   0.834202                     -1.482811                    -4.630980   \n",
              "10  0.873459                     -0.893706                    -1.178830   \n",
              "\n",
              "    test_neg_root_mean_squared_error  \n",
              "1                          -2.214779  \n",
              "2                          -2.251314  \n",
              "3                          -4.099186  \n",
              "4                          -1.404588  \n",
              "5                          -2.343705  \n",
              "6                          -0.973252  \n",
              "7                          -3.117821  \n",
              "8                          -1.577329  \n",
              "9                          -2.151971  \n",
              "10                         -1.085739  "
            ]
          },
          "metadata": {},
          "execution_count": 59
        }
      ]
    },
    {
      "cell_type": "code",
      "metadata": {
        "colab": {
          "base_uri": "https://localhost:8080/"
        },
        "id": "Qdog4Rj9ZHtP",
        "outputId": "8ef7318f-6c36-4607-8d2c-c32c23eb4ba0"
      },
      "source": [
        "lasso_model.coef_"
      ],
      "execution_count": 60,
      "outputs": [
        {
          "output_type": "execute_result",
          "data": {
            "text/plain": [
              "array([ 2.83120931e-01,  5.05717082e-01, -6.02109175e-06, -0.00000000e+00,\n",
              "        0.00000000e+00, -0.00000000e+00, -0.00000000e+00, -0.00000000e+00])"
            ]
          },
          "metadata": {},
          "execution_count": 60
        }
      ]
    },
    {
      "cell_type": "code",
      "metadata": {
        "id": "dpKCPae7ZHtP"
      },
      "source": [
        "lasso_cv_model = LassoCV(alphas = alpha_space, cv = 10, max_iter = 100000) "
      ],
      "execution_count": 61,
      "outputs": []
    },
    {
      "cell_type": "code",
      "metadata": {
        "colab": {
          "base_uri": "https://localhost:8080/"
        },
        "id": "wIKzDiDGZHtP",
        "outputId": "8f0e67d4-8072-4c12-cdb6-3e1475e88298"
      },
      "source": [
        "lasso_cv_model.fit(X_train, y_train)"
      ],
      "execution_count": 62,
      "outputs": [
        {
          "output_type": "execute_result",
          "data": {
            "text/plain": [
              "LassoCV(alphas=array([0.01, 0.02, 0.03, 0.04, 0.05, 0.06, 0.07, 0.08, 0.09, 0.1 , 0.11,\n",
              "       0.12, 0.13, 0.14, 0.15, 0.16, 0.17, 0.18, 0.19, 0.2 , 0.21, 0.22,\n",
              "       0.23, 0.24, 0.25, 0.26, 0.27, 0.28, 0.29, 0.3 , 0.31, 0.32, 0.33,\n",
              "       0.34, 0.35, 0.36, 0.37, 0.38, 0.39, 0.4 , 0.41, 0.42, 0.43, 0.44,\n",
              "       0.45, 0.46, 0.47, 0.48, 0.49, 0.5 , 0.51, 0.52, 0.53, 0.54, 0.55,\n",
              "       0.56, 0.57, 0.58, 0.59, 0.6 , 0.61, 0.62, 0.63, 0.64, 0.65, 0.66,\n",
              "       0.67....7 , 0.71, 0.72, 0.73, 0.74, 0.75, 0.76, 0.77,\n",
              "       0.78, 0.79, 0.8 , 0.81, 0.82, 0.83, 0.84, 0.85, 0.86, 0.87, 0.88,\n",
              "       0.89, 0.9 , 0.91, 0.92, 0.93, 0.94, 0.95, 0.96, 0.97, 0.98, 0.99,\n",
              "       1.  ]),\n",
              "        copy_X=True, cv=10, eps=0.001, fit_intercept=True, max_iter=100000,\n",
              "        n_alphas=100, n_jobs=None, normalize=False, positive=False,\n",
              "        precompute='auto', random_state=None, selection='cyclic', tol=0.0001,\n",
              "        verbose=False)"
            ]
          },
          "metadata": {},
          "execution_count": 62
        }
      ]
    },
    {
      "cell_type": "code",
      "metadata": {
        "colab": {
          "base_uri": "https://localhost:8080/"
        },
        "id": "IO-dBcRZZHtP",
        "outputId": "84352d2b-78cb-4db2-a22f-ffeda79c959c"
      },
      "source": [
        "lasso_cv_model.alpha_"
      ],
      "execution_count": 63,
      "outputs": [
        {
          "output_type": "execute_result",
          "data": {
            "text/plain": [
              "0.01"
            ]
          },
          "metadata": {},
          "execution_count": 63
        }
      ]
    },
    {
      "cell_type": "code",
      "metadata": {
        "colab": {
          "base_uri": "https://localhost:8080/"
        },
        "id": "A6q5bVUpZHtP",
        "outputId": "b354f895-a1a4-4228-feae-bcb790a77246"
      },
      "source": [
        "y_train_pred = lasso_cv_model.predict(X_train)\n",
        "eval_metrics(y_train, y_train_pred)"
      ],
      "execution_count": 64,
      "outputs": [
        {
          "output_type": "stream",
          "name": "stdout",
          "text": [
            "Model testing performance:\n",
            "--------------------------\n",
            "R2_score \t: 0.8883375747201654\n",
            "MAE \t\t: 1.1644092016211973\n",
            "MSE \t\t: 2.9520258830769652\n",
            "RMSE \t\t: 1.7181460598787768\n"
          ]
        }
      ]
    },
    {
      "cell_type": "code",
      "metadata": {
        "colab": {
          "base_uri": "https://localhost:8080/"
        },
        "id": "k8x3qzP5ZHtQ",
        "outputId": "0dc87ded-9f01-48ea-c88c-9141e74509fc"
      },
      "source": [
        "y_pred = lasso_cv_model.predict(X_test)\n",
        "eval_metrics(y_test, y_pred)"
      ],
      "execution_count": 65,
      "outputs": [
        {
          "output_type": "stream",
          "name": "stdout",
          "text": [
            "Model testing performance:\n",
            "--------------------------\n",
            "R2_score \t: 0.8507917908564931\n",
            "MAE \t\t: 1.2076443420406593\n",
            "MSE \t\t: 3.437098312846395\n",
            "RMSE \t\t: 1.8539412916396234\n"
          ]
        }
      ]
    },
    {
      "cell_type": "code",
      "metadata": {
        "colab": {
          "base_uri": "https://localhost:8080/",
          "height": 175
        },
        "id": "Kzy6buekZHtQ",
        "outputId": "4b609c4e-07c3-49bb-bf14-3a2880adb38c"
      },
      "source": [
        "lasso_cv_scores = {\"lasso_cv_train\": {\"rmse\" : np.sqrt(mean_squared_error(y_train, y_train_pred)),\n",
        "    \"mae\" : mean_absolute_error(y_train, y_train_pred),\n",
        "    \"mse\" : mean_squared_error(y_train, y_train_pred),\n",
        "    \"R2\" : r2_score(y_train, y_train_pred)}, \n",
        "\n",
        "    \"lasso_cv_test\": {\"rmse\" : np.sqrt(mean_squared_error(y_test, y_pred)),\n",
        "    \"mae\" : mean_absolute_error(y_test, y_pred),\n",
        "    \"mse\" : mean_squared_error(y_test, y_pred),\n",
        "    \"R2\" : r2_score(y_test, y_pred)}}\n",
        "lcs = pd.DataFrame(lasso_cv_scores)\n",
        "lcs"
      ],
      "execution_count": 66,
      "outputs": [
        {
          "output_type": "execute_result",
          "data": {
            "text/html": [
              "<div>\n",
              "<style scoped>\n",
              "    .dataframe tbody tr th:only-of-type {\n",
              "        vertical-align: middle;\n",
              "    }\n",
              "\n",
              "    .dataframe tbody tr th {\n",
              "        vertical-align: top;\n",
              "    }\n",
              "\n",
              "    .dataframe thead th {\n",
              "        text-align: right;\n",
              "    }\n",
              "</style>\n",
              "<table border=\"1\" class=\"dataframe\">\n",
              "  <thead>\n",
              "    <tr style=\"text-align: right;\">\n",
              "      <th></th>\n",
              "      <th>lasso_cv_train</th>\n",
              "      <th>lasso_cv_test</th>\n",
              "    </tr>\n",
              "  </thead>\n",
              "  <tbody>\n",
              "    <tr>\n",
              "      <th>rmse</th>\n",
              "      <td>1.718146</td>\n",
              "      <td>1.853941</td>\n",
              "    </tr>\n",
              "    <tr>\n",
              "      <th>mae</th>\n",
              "      <td>1.164409</td>\n",
              "      <td>1.207644</td>\n",
              "    </tr>\n",
              "    <tr>\n",
              "      <th>mse</th>\n",
              "      <td>2.952026</td>\n",
              "      <td>3.437098</td>\n",
              "    </tr>\n",
              "    <tr>\n",
              "      <th>R2</th>\n",
              "      <td>0.888338</td>\n",
              "      <td>0.850792</td>\n",
              "    </tr>\n",
              "  </tbody>\n",
              "</table>\n",
              "</div>"
            ],
            "text/plain": [
              "      lasso_cv_train  lasso_cv_test\n",
              "rmse        1.718146       1.853941\n",
              "mae         1.164409       1.207644\n",
              "mse         2.952026       3.437098\n",
              "R2          0.888338       0.850792"
            ]
          },
          "metadata": {},
          "execution_count": 66
        }
      ]
    },
    {
      "cell_type": "code",
      "metadata": {
        "colab": {
          "base_uri": "https://localhost:8080/",
          "height": 175
        },
        "id": "Ac78R8zdZHtR",
        "outputId": "6ba9e99b-c4c1-490a-98a0-8bdc531f0e5e"
      },
      "source": [
        "pd.concat([ls,rs, rcs, lss, lcs], axis = 1)"
      ],
      "execution_count": 67,
      "outputs": [
        {
          "output_type": "execute_result",
          "data": {
            "text/html": [
              "<div>\n",
              "<style scoped>\n",
              "    .dataframe tbody tr th:only-of-type {\n",
              "        vertical-align: middle;\n",
              "    }\n",
              "\n",
              "    .dataframe tbody tr th {\n",
              "        vertical-align: top;\n",
              "    }\n",
              "\n",
              "    .dataframe thead th {\n",
              "        text-align: right;\n",
              "    }\n",
              "</style>\n",
              "<table border=\"1\" class=\"dataframe\">\n",
              "  <thead>\n",
              "    <tr style=\"text-align: right;\">\n",
              "      <th></th>\n",
              "      <th>model_train</th>\n",
              "      <th>model_test</th>\n",
              "      <th>ridge_train</th>\n",
              "      <th>ridge_test</th>\n",
              "      <th>ridge_cv_train</th>\n",
              "      <th>ridge_cv_test</th>\n",
              "      <th>lasso_train</th>\n",
              "      <th>lasso_test</th>\n",
              "      <th>lasso_cv_train</th>\n",
              "      <th>lasso_cv_test</th>\n",
              "    </tr>\n",
              "  </thead>\n",
              "  <tbody>\n",
              "    <tr>\n",
              "      <th>rmse</th>\n",
              "      <td>1.715727</td>\n",
              "      <td>1.865155</td>\n",
              "      <td>1.717654</td>\n",
              "      <td>1.858159</td>\n",
              "      <td>1.717654</td>\n",
              "      <td>1.858159</td>\n",
              "      <td>2.004403</td>\n",
              "      <td>2.154180</td>\n",
              "      <td>1.718146</td>\n",
              "      <td>1.853941</td>\n",
              "    </tr>\n",
              "    <tr>\n",
              "      <th>mae</th>\n",
              "      <td>1.167580</td>\n",
              "      <td>1.216226</td>\n",
              "      <td>1.168677</td>\n",
              "      <td>1.211429</td>\n",
              "      <td>1.168677</td>\n",
              "      <td>1.211429</td>\n",
              "      <td>1.223111</td>\n",
              "      <td>1.471429</td>\n",
              "      <td>1.164409</td>\n",
              "      <td>1.207644</td>\n",
              "    </tr>\n",
              "    <tr>\n",
              "      <th>mse</th>\n",
              "      <td>2.943721</td>\n",
              "      <td>3.478804</td>\n",
              "      <td>2.950336</td>\n",
              "      <td>3.452756</td>\n",
              "      <td>2.950336</td>\n",
              "      <td>3.452756</td>\n",
              "      <td>4.017632</td>\n",
              "      <td>4.640490</td>\n",
              "      <td>2.952026</td>\n",
              "      <td>3.437098</td>\n",
              "    </tr>\n",
              "    <tr>\n",
              "      <th>R2</th>\n",
              "      <td>0.888652</td>\n",
              "      <td>0.848981</td>\n",
              "      <td>0.888402</td>\n",
              "      <td>0.850112</td>\n",
              "      <td>0.888402</td>\n",
              "      <td>0.850112</td>\n",
              "      <td>0.848030</td>\n",
              "      <td>0.798551</td>\n",
              "      <td>0.888338</td>\n",
              "      <td>0.850792</td>\n",
              "    </tr>\n",
              "  </tbody>\n",
              "</table>\n",
              "</div>"
            ],
            "text/plain": [
              "      model_train  model_test  ridge_train  ridge_test  ridge_cv_train  \\\n",
              "rmse     1.715727    1.865155     1.717654    1.858159        1.717654   \n",
              "mae      1.167580    1.216226     1.168677    1.211429        1.168677   \n",
              "mse      2.943721    3.478804     2.950336    3.452756        2.950336   \n",
              "R2       0.888652    0.848981     0.888402    0.850112        0.888402   \n",
              "\n",
              "      ridge_cv_test  lasso_train  lasso_test  lasso_cv_train  lasso_cv_test  \n",
              "rmse       1.858159     2.004403    2.154180        1.718146       1.853941  \n",
              "mae        1.211429     1.223111    1.471429        1.164409       1.207644  \n",
              "mse        3.452756     4.017632    4.640490        2.952026       3.437098  \n",
              "R2         0.850112     0.848030    0.798551        0.888338       0.850792  "
            ]
          },
          "metadata": {},
          "execution_count": 67
        }
      ]
    },
    {
      "cell_type": "markdown",
      "metadata": {
        "id": "26QEobIEbV9X"
      },
      "source": [
        "## Elastic-Net "
      ]
    },
    {
      "cell_type": "code",
      "metadata": {
        "id": "hIgltF9YbV9Y",
        "colab": {
          "base_uri": "https://localhost:8080/"
        },
        "outputId": "617d59d5-d80f-4850-c9b5-64ab264b67b5"
      },
      "source": [
        "elastic_model = ElasticNet()\n",
        "elastic_model.fit(X_train, y_train)"
      ],
      "execution_count": 68,
      "outputs": [
        {
          "output_type": "execute_result",
          "data": {
            "text/plain": [
              "ElasticNet(alpha=1.0, copy_X=True, fit_intercept=True, l1_ratio=0.5,\n",
              "           max_iter=1000, normalize=False, positive=False, precompute=False,\n",
              "           random_state=None, selection='cyclic', tol=0.0001, warm_start=False)"
            ]
          },
          "metadata": {},
          "execution_count": 68
        }
      ]
    },
    {
      "cell_type": "code",
      "metadata": {
        "colab": {
          "base_uri": "https://localhost:8080/"
        },
        "id": "EiH4VTW6ZHtS",
        "outputId": "97561a92-416b-4aaa-faf4-8d3895c4c74a"
      },
      "source": [
        "elastic_model.l1_ratio"
      ],
      "execution_count": 69,
      "outputs": [
        {
          "output_type": "execute_result",
          "data": {
            "text/plain": [
              "0.5"
            ]
          },
          "metadata": {},
          "execution_count": 69
        }
      ]
    },
    {
      "cell_type": "code",
      "metadata": {
        "colab": {
          "base_uri": "https://localhost:8080/"
        },
        "id": "Qnrn1Kl9ZHtS",
        "outputId": "381c8aa8-ad56-457f-9e25-45e16859b18b"
      },
      "source": [
        "elastic_model.alpha"
      ],
      "execution_count": 70,
      "outputs": [
        {
          "output_type": "execute_result",
          "data": {
            "text/plain": [
              "1.0"
            ]
          },
          "metadata": {},
          "execution_count": 70
        }
      ]
    },
    {
      "cell_type": "code",
      "metadata": {
        "colab": {
          "base_uri": "https://localhost:8080/"
        },
        "id": "r1hP_lA2ZHtT",
        "outputId": "208793d6-393c-4417-ae12-b3c5685981e7"
      },
      "source": [
        "y_train_pred = elastic_model.predict(X_train)\n",
        "eval_metrics(y_train, y_train_pred)"
      ],
      "execution_count": 71,
      "outputs": [
        {
          "output_type": "stream",
          "name": "stdout",
          "text": [
            "Model testing performance:\n",
            "--------------------------\n",
            "R2_score \t: 0.8515542497169762\n",
            "MAE \t\t: 1.2191411121564875\n",
            "MSE \t\t: 3.924468736641389\n",
            "RMSE \t\t: 1.9810271923023643\n"
          ]
        }
      ]
    },
    {
      "cell_type": "code",
      "metadata": {
        "colab": {
          "base_uri": "https://localhost:8080/"
        },
        "id": "xAGHfg5lZHtT",
        "outputId": "af0cfe16-b225-4664-fbed-d441d7803008"
      },
      "source": [
        "y_pred = elastic_model.predict(X_test)\n",
        "eval_metrics(y_test, y_pred)"
      ],
      "execution_count": 72,
      "outputs": [
        {
          "output_type": "stream",
          "name": "stdout",
          "text": [
            "Model testing performance:\n",
            "--------------------------\n",
            "R2_score \t: 0.8087874396439665\n",
            "MAE \t\t: 1.4234287536004082\n",
            "MSE \t\t: 4.404693095422508\n",
            "RMSE \t\t: 2.098736070929956\n"
          ]
        }
      ]
    },
    {
      "cell_type": "code",
      "metadata": {
        "colab": {
          "base_uri": "https://localhost:8080/",
          "height": 175
        },
        "id": "wbjqDq42ZHtU",
        "outputId": "71b34510-ebbb-4cdc-d05e-0b922e5201d4"
      },
      "source": [
        "elastic_scores = {\"elastic_train\": {\"rmse\" : np.sqrt(mean_squared_error(y_train, y_train_pred)),\n",
        "    \"mae\" : mean_absolute_error(y_train, y_train_pred),\n",
        "    \"mse\" : mean_squared_error(y_train, y_train_pred),\n",
        "    \"R2\" : r2_score(y_train, y_train_pred)}, \n",
        "\n",
        "    \"elastic_test\": {\"rmse\" : np.sqrt(mean_squared_error(y_test, y_pred)),\n",
        "    \"mae\" : mean_absolute_error(y_test, y_pred),\n",
        "    \"mse\" : mean_squared_error(y_test, y_pred),\n",
        "    \"R2\" : r2_score(y_test, y_pred)}}\n",
        "es = pd.DataFrame(elastic_scores)\n",
        "es"
      ],
      "execution_count": 73,
      "outputs": [
        {
          "output_type": "execute_result",
          "data": {
            "text/html": [
              "<div>\n",
              "<style scoped>\n",
              "    .dataframe tbody tr th:only-of-type {\n",
              "        vertical-align: middle;\n",
              "    }\n",
              "\n",
              "    .dataframe tbody tr th {\n",
              "        vertical-align: top;\n",
              "    }\n",
              "\n",
              "    .dataframe thead th {\n",
              "        text-align: right;\n",
              "    }\n",
              "</style>\n",
              "<table border=\"1\" class=\"dataframe\">\n",
              "  <thead>\n",
              "    <tr style=\"text-align: right;\">\n",
              "      <th></th>\n",
              "      <th>elastic_train</th>\n",
              "      <th>elastic_test</th>\n",
              "    </tr>\n",
              "  </thead>\n",
              "  <tbody>\n",
              "    <tr>\n",
              "      <th>rmse</th>\n",
              "      <td>1.981027</td>\n",
              "      <td>2.098736</td>\n",
              "    </tr>\n",
              "    <tr>\n",
              "      <th>mae</th>\n",
              "      <td>1.219141</td>\n",
              "      <td>1.423429</td>\n",
              "    </tr>\n",
              "    <tr>\n",
              "      <th>mse</th>\n",
              "      <td>3.924469</td>\n",
              "      <td>4.404693</td>\n",
              "    </tr>\n",
              "    <tr>\n",
              "      <th>R2</th>\n",
              "      <td>0.851554</td>\n",
              "      <td>0.808787</td>\n",
              "    </tr>\n",
              "  </tbody>\n",
              "</table>\n",
              "</div>"
            ],
            "text/plain": [
              "      elastic_train  elastic_test\n",
              "rmse       1.981027      2.098736\n",
              "mae        1.219141      1.423429\n",
              "mse        3.924469      4.404693\n",
              "R2         0.851554      0.808787"
            ]
          },
          "metadata": {},
          "execution_count": 73
        }
      ]
    },
    {
      "cell_type": "code",
      "metadata": {
        "colab": {
          "base_uri": "https://localhost:8080/",
          "height": 175
        },
        "id": "qYe9v46gZHtU",
        "outputId": "b0689acd-7bf0-4214-dbe3-36c8fb05b08c"
      },
      "source": [
        "pd.concat([ls,rs, rcs, lss, lcs, es], axis = 1)"
      ],
      "execution_count": 74,
      "outputs": [
        {
          "output_type": "execute_result",
          "data": {
            "text/html": [
              "<div>\n",
              "<style scoped>\n",
              "    .dataframe tbody tr th:only-of-type {\n",
              "        vertical-align: middle;\n",
              "    }\n",
              "\n",
              "    .dataframe tbody tr th {\n",
              "        vertical-align: top;\n",
              "    }\n",
              "\n",
              "    .dataframe thead th {\n",
              "        text-align: right;\n",
              "    }\n",
              "</style>\n",
              "<table border=\"1\" class=\"dataframe\">\n",
              "  <thead>\n",
              "    <tr style=\"text-align: right;\">\n",
              "      <th></th>\n",
              "      <th>model_train</th>\n",
              "      <th>model_test</th>\n",
              "      <th>ridge_train</th>\n",
              "      <th>ridge_test</th>\n",
              "      <th>ridge_cv_train</th>\n",
              "      <th>ridge_cv_test</th>\n",
              "      <th>lasso_train</th>\n",
              "      <th>lasso_test</th>\n",
              "      <th>lasso_cv_train</th>\n",
              "      <th>lasso_cv_test</th>\n",
              "      <th>elastic_train</th>\n",
              "      <th>elastic_test</th>\n",
              "    </tr>\n",
              "  </thead>\n",
              "  <tbody>\n",
              "    <tr>\n",
              "      <th>rmse</th>\n",
              "      <td>1.715727</td>\n",
              "      <td>1.865155</td>\n",
              "      <td>1.717654</td>\n",
              "      <td>1.858159</td>\n",
              "      <td>1.717654</td>\n",
              "      <td>1.858159</td>\n",
              "      <td>2.004403</td>\n",
              "      <td>2.154180</td>\n",
              "      <td>1.718146</td>\n",
              "      <td>1.853941</td>\n",
              "      <td>1.981027</td>\n",
              "      <td>2.098736</td>\n",
              "    </tr>\n",
              "    <tr>\n",
              "      <th>mae</th>\n",
              "      <td>1.167580</td>\n",
              "      <td>1.216226</td>\n",
              "      <td>1.168677</td>\n",
              "      <td>1.211429</td>\n",
              "      <td>1.168677</td>\n",
              "      <td>1.211429</td>\n",
              "      <td>1.223111</td>\n",
              "      <td>1.471429</td>\n",
              "      <td>1.164409</td>\n",
              "      <td>1.207644</td>\n",
              "      <td>1.219141</td>\n",
              "      <td>1.423429</td>\n",
              "    </tr>\n",
              "    <tr>\n",
              "      <th>mse</th>\n",
              "      <td>2.943721</td>\n",
              "      <td>3.478804</td>\n",
              "      <td>2.950336</td>\n",
              "      <td>3.452756</td>\n",
              "      <td>2.950336</td>\n",
              "      <td>3.452756</td>\n",
              "      <td>4.017632</td>\n",
              "      <td>4.640490</td>\n",
              "      <td>2.952026</td>\n",
              "      <td>3.437098</td>\n",
              "      <td>3.924469</td>\n",
              "      <td>4.404693</td>\n",
              "    </tr>\n",
              "    <tr>\n",
              "      <th>R2</th>\n",
              "      <td>0.888652</td>\n",
              "      <td>0.848981</td>\n",
              "      <td>0.888402</td>\n",
              "      <td>0.850112</td>\n",
              "      <td>0.888402</td>\n",
              "      <td>0.850112</td>\n",
              "      <td>0.848030</td>\n",
              "      <td>0.798551</td>\n",
              "      <td>0.888338</td>\n",
              "      <td>0.850792</td>\n",
              "      <td>0.851554</td>\n",
              "      <td>0.808787</td>\n",
              "    </tr>\n",
              "  </tbody>\n",
              "</table>\n",
              "</div>"
            ],
            "text/plain": [
              "      model_train  model_test  ridge_train  ridge_test  ridge_cv_train  \\\n",
              "rmse     1.715727    1.865155     1.717654    1.858159        1.717654   \n",
              "mae      1.167580    1.216226     1.168677    1.211429        1.168677   \n",
              "mse      2.943721    3.478804     2.950336    3.452756        2.950336   \n",
              "R2       0.888652    0.848981     0.888402    0.850112        0.888402   \n",
              "\n",
              "      ridge_cv_test  lasso_train  lasso_test  lasso_cv_train  lasso_cv_test  \\\n",
              "rmse       1.858159     2.004403    2.154180        1.718146       1.853941   \n",
              "mae        1.211429     1.223111    1.471429        1.164409       1.207644   \n",
              "mse        3.452756     4.017632    4.640490        2.952026       3.437098   \n",
              "R2         0.850112     0.848030    0.798551        0.888338       0.850792   \n",
              "\n",
              "      elastic_train  elastic_test  \n",
              "rmse       1.981027      2.098736  \n",
              "mae        1.219141      1.423429  \n",
              "mse        3.924469      4.404693  \n",
              "R2         0.851554      0.808787  "
            ]
          },
          "metadata": {},
          "execution_count": 74
        }
      ]
    },
    {
      "cell_type": "code",
      "metadata": {
        "colab": {
          "base_uri": "https://localhost:8080/"
        },
        "id": "9uOHJ9UmZHtU",
        "outputId": "909bd5da-7358-4016-988e-6ab273f9d1c0"
      },
      "source": [
        "elastic_model.coef_"
      ],
      "execution_count": 75,
      "outputs": [
        {
          "output_type": "execute_result",
          "data": {
            "text/plain": [
              "array([ 3.36735713e-01,  5.07832721e-01, -4.21808778e-06, -0.00000000e+00,\n",
              "        0.00000000e+00, -0.00000000e+00, -0.00000000e+00, -0.00000000e+00])"
            ]
          },
          "metadata": {},
          "execution_count": 75
        }
      ]
    },
    {
      "cell_type": "code",
      "metadata": {
        "id": "_uAp3_z4ZHtV"
      },
      "source": [
        "elastic_cv_model = ElasticNetCV(alphas = alpha_space, l1_ratio=[0.1, 0.5, 0.7,0.9, 0.95, 1], cv = 10, max_iter = 100000)"
      ],
      "execution_count": 76,
      "outputs": []
    },
    {
      "cell_type": "code",
      "metadata": {
        "colab": {
          "base_uri": "https://localhost:8080/"
        },
        "id": "JhQHtPNSZHtV",
        "outputId": "1e96aa21-09ff-486d-e5c8-c414d6503269"
      },
      "source": [
        "elastic_cv_model.fit(X_train, y_train)"
      ],
      "execution_count": 77,
      "outputs": [
        {
          "output_type": "execute_result",
          "data": {
            "text/plain": [
              "ElasticNetCV(alphas=array([0.01, 0.02, 0.03, 0.04, 0.05, 0.06, 0.07, 0.08, 0.09, 0.1 , 0.11,\n",
              "       0.12, 0.13, 0.14, 0.15, 0.16, 0.17, 0.18, 0.19, 0.2 , 0.21, 0.22,\n",
              "       0.23, 0.24, 0.25, 0.26, 0.27, 0.28, 0.29, 0.3 , 0.31, 0.32, 0.33,\n",
              "       0.34, 0.35, 0.36, 0.37, 0.38, 0.39, 0.4 , 0.41, 0.42, 0.43, 0.44,\n",
              "       0.45, 0.46, 0.47, 0.48, 0.49, 0.5 , 0.51, 0.52, 0.53, 0.54, 0.55,\n",
              "       0.56, 0.57, 0.58, 0.59, 0.6 , 0.61, 0.62, 0.63, 0.64, 0.65, 0.66,\n",
              "       0.67, 0.68, 0.69, 0.7 , 0.71, 0.72, 0.73, 0.74, 0.75, 0.76, 0.77,\n",
              "       0.78, 0.79, 0.8 , 0.81, 0.82, 0.83, 0.84, 0.85, 0.86, 0.87, 0.88,\n",
              "       0.89, 0.9 , 0.91, 0.92, 0.93, 0.94, 0.95, 0.96, 0.97, 0.98, 0.99,\n",
              "       1.  ]),\n",
              "             copy_X=True, cv=10, eps=0.001, fit_intercept=True,\n",
              "             l1_ratio=[0.1, 0.5, 0.7, 0.9, 0.95, 1], max_iter=100000,\n",
              "             n_alphas=100, n_jobs=None, normalize=False, positive=False,\n",
              "             precompute='auto', random_state=None, selection='cyclic',\n",
              "             tol=0.0001, verbose=0)"
            ]
          },
          "metadata": {},
          "execution_count": 77
        }
      ]
    },
    {
      "cell_type": "code",
      "metadata": {
        "colab": {
          "base_uri": "https://localhost:8080/"
        },
        "id": "VjKJjsYwZHtV",
        "outputId": "d73f4846-ac69-4445-8a4d-47b2c136abc0"
      },
      "source": [
        "elastic_cv_model.alpha_"
      ],
      "execution_count": 78,
      "outputs": [
        {
          "output_type": "execute_result",
          "data": {
            "text/plain": [
              "0.01"
            ]
          },
          "metadata": {},
          "execution_count": 78
        }
      ]
    },
    {
      "cell_type": "code",
      "metadata": {
        "colab": {
          "base_uri": "https://localhost:8080/"
        },
        "id": "hERU5HQDZHtV",
        "outputId": "60b9301e-6a22-47e5-dfb8-7afd50396823"
      },
      "source": [
        "elastic_cv_model.l1_ratio_"
      ],
      "execution_count": 79,
      "outputs": [
        {
          "output_type": "execute_result",
          "data": {
            "text/plain": [
              "0.1"
            ]
          },
          "metadata": {},
          "execution_count": 79
        }
      ]
    },
    {
      "cell_type": "code",
      "metadata": {
        "colab": {
          "base_uri": "https://localhost:8080/"
        },
        "id": "bY1H3KpGZHtW",
        "outputId": "415cedc7-ddfd-4038-a25e-d9217ed8f739"
      },
      "source": [
        "elastic_cv_model.coef_"
      ],
      "execution_count": 80,
      "outputs": [
        {
          "output_type": "execute_result",
          "data": {
            "text/plain": [
              "array([ 3.61098933e-01,  4.35282527e-01, -5.77786608e-06, -7.90429588e-01,\n",
              "        1.34743816e+00, -3.51942317e-01, -1.10663428e+00, -1.46915499e+00])"
            ]
          },
          "metadata": {},
          "execution_count": 80
        }
      ]
    },
    {
      "cell_type": "code",
      "metadata": {
        "colab": {
          "base_uri": "https://localhost:8080/"
        },
        "id": "f0gDWaLNZHtW",
        "outputId": "5a4b2651-e92e-47e0-cbda-06c796806e04"
      },
      "source": [
        "y_train_pred = elastic_cv_model.predict(X_train)\n",
        "eval_metrics(y_train, y_train_pred)"
      ],
      "execution_count": 81,
      "outputs": [
        {
          "output_type": "stream",
          "name": "stdout",
          "text": [
            "Model testing performance:\n",
            "--------------------------\n",
            "R2_score \t: 0.8880761796379942\n",
            "MAE \t\t: 1.165710329582485\n",
            "MSE \t\t: 2.9589363997198257\n",
            "RMSE \t\t: 1.7201559230836678\n"
          ]
        }
      ]
    },
    {
      "cell_type": "code",
      "metadata": {
        "colab": {
          "base_uri": "https://localhost:8080/"
        },
        "id": "2pPihtB7ZHtW",
        "outputId": "835f013e-5d6f-442c-cb72-5d2c5340a36b"
      },
      "source": [
        "y_pred = elastic_cv_model.predict(X_test)\n",
        "eval_metrics(y_test, y_pred)"
      ],
      "execution_count": 82,
      "outputs": [
        {
          "output_type": "stream",
          "name": "stdout",
          "text": [
            "Model testing performance:\n",
            "--------------------------\n",
            "R2_score \t: 0.8511003814665743\n",
            "MAE \t\t: 1.206497770003033\n",
            "MSE \t\t: 3.429989747765704\n",
            "RMSE \t\t: 1.8520231499000503\n"
          ]
        }
      ]
    },
    {
      "cell_type": "code",
      "metadata": {
        "colab": {
          "base_uri": "https://localhost:8080/",
          "height": 175
        },
        "id": "q2m9fvYgZHtX",
        "outputId": "a4b439f4-61c3-490d-bf68-48ffb9f104d8"
      },
      "source": [
        "elastic_cv_scores = {\"elastic_cv_train\": {\"rmse\" : np.sqrt(mean_squared_error(y_train, y_train_pred)),\n",
        "    \"mae\" : mean_absolute_error(y_train, y_train_pred),\n",
        "    \"mse\" : mean_squared_error(y_train, y_train_pred),\n",
        "    \"R2\" : r2_score(y_train, y_train_pred)}, \n",
        "\n",
        "    \"elastic_cv_test\": {\"rmse\" : np.sqrt(mean_squared_error(y_test, y_pred)),\n",
        "    \"mae\" : mean_absolute_error(y_test, y_pred),\n",
        "    \"mse\" : mean_squared_error(y_test, y_pred),\n",
        "    \"R2\" : r2_score(y_test, y_pred)}}\n",
        "ecs = pd.DataFrame(elastic_cv_scores)\n",
        "ecs"
      ],
      "execution_count": 83,
      "outputs": [
        {
          "output_type": "execute_result",
          "data": {
            "text/html": [
              "<div>\n",
              "<style scoped>\n",
              "    .dataframe tbody tr th:only-of-type {\n",
              "        vertical-align: middle;\n",
              "    }\n",
              "\n",
              "    .dataframe tbody tr th {\n",
              "        vertical-align: top;\n",
              "    }\n",
              "\n",
              "    .dataframe thead th {\n",
              "        text-align: right;\n",
              "    }\n",
              "</style>\n",
              "<table border=\"1\" class=\"dataframe\">\n",
              "  <thead>\n",
              "    <tr style=\"text-align: right;\">\n",
              "      <th></th>\n",
              "      <th>elastic_cv_train</th>\n",
              "      <th>elastic_cv_test</th>\n",
              "    </tr>\n",
              "  </thead>\n",
              "  <tbody>\n",
              "    <tr>\n",
              "      <th>rmse</th>\n",
              "      <td>1.720156</td>\n",
              "      <td>1.852023</td>\n",
              "    </tr>\n",
              "    <tr>\n",
              "      <th>mae</th>\n",
              "      <td>1.165710</td>\n",
              "      <td>1.206498</td>\n",
              "    </tr>\n",
              "    <tr>\n",
              "      <th>mse</th>\n",
              "      <td>2.958936</td>\n",
              "      <td>3.429990</td>\n",
              "    </tr>\n",
              "    <tr>\n",
              "      <th>R2</th>\n",
              "      <td>0.888076</td>\n",
              "      <td>0.851100</td>\n",
              "    </tr>\n",
              "  </tbody>\n",
              "</table>\n",
              "</div>"
            ],
            "text/plain": [
              "      elastic_cv_train  elastic_cv_test\n",
              "rmse          1.720156         1.852023\n",
              "mae           1.165710         1.206498\n",
              "mse           2.958936         3.429990\n",
              "R2            0.888076         0.851100"
            ]
          },
          "metadata": {},
          "execution_count": 83
        }
      ]
    },
    {
      "cell_type": "code",
      "metadata": {
        "colab": {
          "base_uri": "https://localhost:8080/",
          "height": 195
        },
        "id": "hbN6tubRZHtX",
        "outputId": "4f3fe2fd-9401-4f76-801f-f6fd0c11460a"
      },
      "source": [
        "pd.concat([ls,rs, rcs, lss, lcs, es, ecs], axis = 1)"
      ],
      "execution_count": 84,
      "outputs": [
        {
          "output_type": "execute_result",
          "data": {
            "text/html": [
              "<div>\n",
              "<style scoped>\n",
              "    .dataframe tbody tr th:only-of-type {\n",
              "        vertical-align: middle;\n",
              "    }\n",
              "\n",
              "    .dataframe tbody tr th {\n",
              "        vertical-align: top;\n",
              "    }\n",
              "\n",
              "    .dataframe thead th {\n",
              "        text-align: right;\n",
              "    }\n",
              "</style>\n",
              "<table border=\"1\" class=\"dataframe\">\n",
              "  <thead>\n",
              "    <tr style=\"text-align: right;\">\n",
              "      <th></th>\n",
              "      <th>model_train</th>\n",
              "      <th>model_test</th>\n",
              "      <th>ridge_train</th>\n",
              "      <th>ridge_test</th>\n",
              "      <th>ridge_cv_train</th>\n",
              "      <th>ridge_cv_test</th>\n",
              "      <th>lasso_train</th>\n",
              "      <th>lasso_test</th>\n",
              "      <th>lasso_cv_train</th>\n",
              "      <th>lasso_cv_test</th>\n",
              "      <th>elastic_train</th>\n",
              "      <th>elastic_test</th>\n",
              "      <th>elastic_cv_train</th>\n",
              "      <th>elastic_cv_test</th>\n",
              "    </tr>\n",
              "  </thead>\n",
              "  <tbody>\n",
              "    <tr>\n",
              "      <th>rmse</th>\n",
              "      <td>1.715727</td>\n",
              "      <td>1.865155</td>\n",
              "      <td>1.717654</td>\n",
              "      <td>1.858159</td>\n",
              "      <td>1.717654</td>\n",
              "      <td>1.858159</td>\n",
              "      <td>2.004403</td>\n",
              "      <td>2.154180</td>\n",
              "      <td>1.718146</td>\n",
              "      <td>1.853941</td>\n",
              "      <td>1.981027</td>\n",
              "      <td>2.098736</td>\n",
              "      <td>1.720156</td>\n",
              "      <td>1.852023</td>\n",
              "    </tr>\n",
              "    <tr>\n",
              "      <th>mae</th>\n",
              "      <td>1.167580</td>\n",
              "      <td>1.216226</td>\n",
              "      <td>1.168677</td>\n",
              "      <td>1.211429</td>\n",
              "      <td>1.168677</td>\n",
              "      <td>1.211429</td>\n",
              "      <td>1.223111</td>\n",
              "      <td>1.471429</td>\n",
              "      <td>1.164409</td>\n",
              "      <td>1.207644</td>\n",
              "      <td>1.219141</td>\n",
              "      <td>1.423429</td>\n",
              "      <td>1.165710</td>\n",
              "      <td>1.206498</td>\n",
              "    </tr>\n",
              "    <tr>\n",
              "      <th>mse</th>\n",
              "      <td>2.943721</td>\n",
              "      <td>3.478804</td>\n",
              "      <td>2.950336</td>\n",
              "      <td>3.452756</td>\n",
              "      <td>2.950336</td>\n",
              "      <td>3.452756</td>\n",
              "      <td>4.017632</td>\n",
              "      <td>4.640490</td>\n",
              "      <td>2.952026</td>\n",
              "      <td>3.437098</td>\n",
              "      <td>3.924469</td>\n",
              "      <td>4.404693</td>\n",
              "      <td>2.958936</td>\n",
              "      <td>3.429990</td>\n",
              "    </tr>\n",
              "    <tr>\n",
              "      <th>R2</th>\n",
              "      <td>0.888652</td>\n",
              "      <td>0.848981</td>\n",
              "      <td>0.888402</td>\n",
              "      <td>0.850112</td>\n",
              "      <td>0.888402</td>\n",
              "      <td>0.850112</td>\n",
              "      <td>0.848030</td>\n",
              "      <td>0.798551</td>\n",
              "      <td>0.888338</td>\n",
              "      <td>0.850792</td>\n",
              "      <td>0.851554</td>\n",
              "      <td>0.808787</td>\n",
              "      <td>0.888076</td>\n",
              "      <td>0.851100</td>\n",
              "    </tr>\n",
              "  </tbody>\n",
              "</table>\n",
              "</div>"
            ],
            "text/plain": [
              "      model_train  model_test  ridge_train  ridge_test  ridge_cv_train  \\\n",
              "rmse     1.715727    1.865155     1.717654    1.858159        1.717654   \n",
              "mae      1.167580    1.216226     1.168677    1.211429        1.168677   \n",
              "mse      2.943721    3.478804     2.950336    3.452756        2.950336   \n",
              "R2       0.888652    0.848981     0.888402    0.850112        0.888402   \n",
              "\n",
              "      ridge_cv_test  lasso_train  lasso_test  lasso_cv_train  lasso_cv_test  \\\n",
              "rmse       1.858159     2.004403    2.154180        1.718146       1.853941   \n",
              "mae        1.211429     1.223111    1.471429        1.164409       1.207644   \n",
              "mse        3.452756     4.017632    4.640490        2.952026       3.437098   \n",
              "R2         0.850112     0.848030    0.798551        0.888338       0.850792   \n",
              "\n",
              "      elastic_train  elastic_test  elastic_cv_train  elastic_cv_test  \n",
              "rmse       1.981027      2.098736          1.720156         1.852023  \n",
              "mae        1.219141      1.423429          1.165710         1.206498  \n",
              "mse        3.924469      4.404693          2.958936         3.429990  \n",
              "R2         0.851554      0.808787          0.888076         0.851100  "
            ]
          },
          "metadata": {},
          "execution_count": 84
        }
      ]
    },
    {
      "cell_type": "code",
      "metadata": {
        "colab": {
          "base_uri": "https://localhost:8080/",
          "height": 135
        },
        "id": "ppsy1xxwZHtX",
        "outputId": "b1484acc-c1c1-4b4a-d038-4df1bc1ba844"
      },
      "source": [
        "yüzde 10 lasso yüzde 90 ridge... Elastic model. "
      ],
      "execution_count": 85,
      "outputs": [
        {
          "output_type": "error",
          "ename": "SyntaxError",
          "evalue": "ignored",
          "traceback": [
            "\u001b[0;36m  File \u001b[0;32m\"<ipython-input-85-f94b66b7f2c6>\"\u001b[0;36m, line \u001b[0;32m1\u001b[0m\n\u001b[0;31m    yüzde 10 lasso yüzde 90 ridge... Elastic model.\u001b[0m\n\u001b[0m           ^\u001b[0m\n\u001b[0;31mSyntaxError\u001b[0m\u001b[0;31m:\u001b[0m invalid syntax\n"
          ]
        }
      ]
    },
    {
      "cell_type": "code",
      "metadata": {
        "id": "13MspV0yZHtX"
      },
      "source": [
        ""
      ],
      "execution_count": null,
      "outputs": []
    }
  ]
}