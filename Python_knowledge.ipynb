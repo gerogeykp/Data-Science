{
  "nbformat": 4,
  "nbformat_minor": 5,
  "metadata": {
    "kernelspec": {
      "display_name": "Python 3",
      "language": "python",
      "name": "python3"
    },
    "language_info": {
      "codemirror_mode": {
        "name": "ipython",
        "version": 3
      },
      "file_extension": ".py",
      "mimetype": "text/x-python",
      "name": "python",
      "nbconvert_exporter": "python",
      "pygments_lexer": "ipython3",
      "version": "3.7.8"
    },
    "colab": {
      "name": "DS_KaanHoca_Python_knowledge.ipynb",
      "provenance": [],
      "include_colab_link": true
    }
  },
  "cells": [
    {
      "cell_type": "markdown",
      "metadata": {
        "id": "view-in-github",
        "colab_type": "text"
      },
      "source": [
        "<a href=\"https://colab.research.google.com/github/gerogeykp/Data-Science/blob/main/Python_knowledge.ipynb\" target=\"_parent\"><img src=\"https://colab.research.google.com/assets/colab-badge.svg\" alt=\"Open In Colab\"/></a>"
      ]
    },
    {
      "cell_type": "code",
      "metadata": {
        "id": "2036b0bc-e287-4ffb-86e1-2cd196f993b2"
      },
      "source": [
        "import numpy as np\n",
        "import pandas as pd"
      ],
      "id": "2036b0bc-e287-4ffb-86e1-2cd196f993b2",
      "execution_count": null,
      "outputs": []
    },
    {
      "cell_type": "code",
      "metadata": {
        "id": "caf87787-d6f4-4bdd-8d96-ffd03cca310e"
      },
      "source": [
        "df_language= pd.read_csv('Working_Language.csv')"
      ],
      "id": "caf87787-d6f4-4bdd-8d96-ffd03cca310e",
      "execution_count": null,
      "outputs": []
    },
    {
      "cell_type": "code",
      "metadata": {
        "id": "fdbf40d4-a001-4a53-ad65-0d86d5fe8db3",
        "outputId": "c8ecb7b7-8c48-4d0a-8318-e3f58a3fd9db"
      },
      "source": [
        "df_language.sample(3)"
      ],
      "id": "fdbf40d4-a001-4a53-ad65-0d86d5fe8db3",
      "execution_count": null,
      "outputs": [
        {
          "data": {
            "text/html": [
              "<div>\n",
              "<style scoped>\n",
              "    .dataframe tbody tr th:only-of-type {\n",
              "        vertical-align: middle;\n",
              "    }\n",
              "\n",
              "    .dataframe tbody tr th {\n",
              "        vertical-align: top;\n",
              "    }\n",
              "\n",
              "    .dataframe thead th {\n",
              "        text-align: right;\n",
              "    }\n",
              "</style>\n",
              "<table border=\"1\" class=\"dataframe\">\n",
              "  <thead>\n",
              "    <tr style=\"text-align: right;\">\n",
              "      <th></th>\n",
              "      <th>Respondent</th>\n",
              "      <th>Age</th>\n",
              "      <th>Country</th>\n",
              "      <th>DevType</th>\n",
              "      <th>LanguageWorkedWith</th>\n",
              "    </tr>\n",
              "  </thead>\n",
              "  <tbody>\n",
              "    <tr>\n",
              "      <th>53377</th>\n",
              "      <td>54469</td>\n",
              "      <td>38.0</td>\n",
              "      <td>Australia</td>\n",
              "      <td>Data or business analyst;Database administrato...</td>\n",
              "      <td>C#;HTML/CSS;JavaScript;SQL;TypeScript</td>\n",
              "    </tr>\n",
              "    <tr>\n",
              "      <th>45237</th>\n",
              "      <td>46177</td>\n",
              "      <td>27.0</td>\n",
              "      <td>United States</td>\n",
              "      <td>Developer, back-end;Developer, desktop or ente...</td>\n",
              "      <td>Bash/Shell/PowerShell;C;C#;C++;Go;HTML/CSS;Jav...</td>\n",
              "    </tr>\n",
              "    <tr>\n",
              "      <th>22761</th>\n",
              "      <td>22849</td>\n",
              "      <td>NaN</td>\n",
              "      <td>India</td>\n",
              "      <td>Data scientist or machine learning specialist;...</td>\n",
              "      <td>C++;Java;JavaScript;Python;R;SQL</td>\n",
              "    </tr>\n",
              "  </tbody>\n",
              "</table>\n",
              "</div>"
            ],
            "text/plain": [
              "       Respondent   Age        Country  \\\n",
              "53377       54469  38.0      Australia   \n",
              "45237       46177  27.0  United States   \n",
              "22761       22849   NaN          India   \n",
              "\n",
              "                                                 DevType  \\\n",
              "53377  Data or business analyst;Database administrato...   \n",
              "45237  Developer, back-end;Developer, desktop or ente...   \n",
              "22761  Data scientist or machine learning specialist;...   \n",
              "\n",
              "                                      LanguageWorkedWith  \n",
              "53377              C#;HTML/CSS;JavaScript;SQL;TypeScript  \n",
              "45237  Bash/Shell/PowerShell;C;C#;C++;Go;HTML/CSS;Jav...  \n",
              "22761                   C++;Java;JavaScript;Python;R;SQL  "
            ]
          },
          "execution_count": 8,
          "metadata": {},
          "output_type": "execute_result"
        }
      ]
    },
    {
      "cell_type": "code",
      "metadata": {
        "id": "7363d2b3-e07f-40da-91b6-0d3ea242d2e5"
      },
      "source": [
        "df_python= df_language['LanguageWorkedWith'].str.contains('Python',na= False, case=False)"
      ],
      "id": "7363d2b3-e07f-40da-91b6-0d3ea242d2e5",
      "execution_count": null,
      "outputs": []
    },
    {
      "cell_type": "code",
      "metadata": {
        "id": "3858f5d8-b0e9-4418-8c5a-a4bfbd56ca3f",
        "outputId": "f26d84a4-9bb2-43bd-b221-b7de0fa82531"
      },
      "source": [
        "df_python.value_counts()"
      ],
      "id": "3858f5d8-b0e9-4418-8c5a-a4bfbd56ca3f",
      "execution_count": null,
      "outputs": [
        {
          "data": {
            "text/plain": [
              "False    39174\n",
              "True     25287\n",
              "Name: LanguageWorkedWith, dtype: int64"
            ]
          },
          "execution_count": 14,
          "metadata": {},
          "output_type": "execute_result"
        }
      ]
    },
    {
      "cell_type": "code",
      "metadata": {
        "id": "67140cb4-3130-484c-bebb-55e343aaa479"
      },
      "source": [
        "python_country = df_language.loc[df_python,'Country']"
      ],
      "id": "67140cb4-3130-484c-bebb-55e343aaa479",
      "execution_count": null,
      "outputs": []
    },
    {
      "cell_type": "code",
      "metadata": {
        "id": "42b5ddf9-e360-480c-8c93-8d8b4bd2047a",
        "outputId": "96a9351b-6fc9-48e8-f340-adebfc51c6ea"
      },
      "source": [
        "python_country.value_counts()"
      ],
      "id": "42b5ddf9-e360-480c-8c93-8d8b4bd2047a",
      "execution_count": null,
      "outputs": [
        {
          "data": {
            "text/plain": [
              "United States                         5964\n",
              "India                                 2670\n",
              "Germany                               1712\n",
              "United Kingdom                        1621\n",
              "Canada                                1011\n",
              "                                      ... \n",
              "Micronesia, Federated States of...       1\n",
              "Angola                                   1\n",
              "Solomon Islands                          1\n",
              "Bahamas                                  1\n",
              "Yemen                                    1\n",
              "Name: Country, Length: 164, dtype: int64"
            ]
          },
          "execution_count": 12,
          "metadata": {},
          "output_type": "execute_result"
        }
      ]
    },
    {
      "cell_type": "code",
      "metadata": {
        "id": "324a8cc6-bd03-4c8d-aba4-809f9d712266",
        "outputId": "6b408386-a1c7-47f6-e8e3-78d96c6c226a"
      },
      "source": [
        "python_country.value_counts().loc['Germany']"
      ],
      "id": "324a8cc6-bd03-4c8d-aba4-809f9d712266",
      "execution_count": null,
      "outputs": [
        {
          "data": {
            "text/plain": [
              "1712"
            ]
          },
          "execution_count": 15,
          "metadata": {},
          "output_type": "execute_result"
        }
      ]
    },
    {
      "cell_type": "code",
      "metadata": {
        "id": "302ecb02-424e-4031-8266-75fd76ce2df8"
      },
      "source": [
        ""
      ],
      "id": "302ecb02-424e-4031-8266-75fd76ce2df8",
      "execution_count": null,
      "outputs": []
    },
    {
      "cell_type": "code",
      "metadata": {
        "id": "cca2b696-3d96-4001-a196-ee72d6dcf50d",
        "outputId": "c00b6e4f-a492-4f19-f747-59cb292f7daf"
      },
      "source": [
        "grp_country = df_language.groupby('Country')\n",
        "\n",
        "python_country = grp_country['LanguageWorkedWith'].apply (lambda x: x.str.contains('Python').sum()) "
      ],
      "id": "cca2b696-3d96-4001-a196-ee72d6dcf50d",
      "execution_count": null,
      "outputs": [
        {
          "data": {
            "text/plain": [
              "Country\n",
              "Afghanistan                              11\n",
              "Albania                                  13\n",
              "Algeria                                  40\n",
              "Andorra                                   3\n",
              "Angola                                    1\n",
              "                                       ... \n",
              "Venezuela, Bolivarian Republic of...     29\n",
              "Viet Nam                                102\n",
              "Yemen                                     1\n",
              "Zambia                                    4\n",
              "Zimbabwe                                 13\n",
              "Name: LanguageWorkedWith, Length: 183, dtype: int64"
            ]
          },
          "execution_count": 23,
          "metadata": {},
          "output_type": "execute_result"
        }
      ]
    },
    {
      "cell_type": "code",
      "metadata": {
        "id": "95bcc1bb-230d-476a-afa1-cf36b975306e",
        "outputId": "ce88bd8e-c436-4a73-e670-017d8bf3b7d2"
      },
      "source": [
        "python_country.loc['India']"
      ],
      "id": "95bcc1bb-230d-476a-afa1-cf36b975306e",
      "execution_count": null,
      "outputs": [
        {
          "data": {
            "text/plain": [
              "2670"
            ]
          },
          "execution_count": 36,
          "metadata": {},
          "output_type": "execute_result"
        }
      ]
    },
    {
      "cell_type": "code",
      "metadata": {
        "id": "2daf8044-6b12-4db0-a875-f740d42a0eeb"
      },
      "source": [
        "country_respondents = df_language['Country'].value_counts()"
      ],
      "id": "2daf8044-6b12-4db0-a875-f740d42a0eeb",
      "execution_count": null,
      "outputs": []
    },
    {
      "cell_type": "code",
      "metadata": {
        "id": "1f6a24bc-1127-48f7-a78d-b52764dc4e61",
        "outputId": "30ad2bcc-9277-4607-8141-3b4fe5e28c30"
      },
      "source": [
        "full_df = pd.concat([country_respondents,python_country],axis=1)\n",
        "full_df"
      ],
      "id": "1f6a24bc-1127-48f7-a78d-b52764dc4e61",
      "execution_count": null,
      "outputs": [
        {
          "data": {
            "text/html": [
              "<div>\n",
              "<style scoped>\n",
              "    .dataframe tbody tr th:only-of-type {\n",
              "        vertical-align: middle;\n",
              "    }\n",
              "\n",
              "    .dataframe tbody tr th {\n",
              "        vertical-align: top;\n",
              "    }\n",
              "\n",
              "    .dataframe thead th {\n",
              "        text-align: right;\n",
              "    }\n",
              "</style>\n",
              "<table border=\"1\" class=\"dataframe\">\n",
              "  <thead>\n",
              "    <tr style=\"text-align: right;\">\n",
              "      <th></th>\n",
              "      <th>Country</th>\n",
              "      <th>LanguageWorkedWith</th>\n",
              "    </tr>\n",
              "  </thead>\n",
              "  <tbody>\n",
              "    <tr>\n",
              "      <th>United States</th>\n",
              "      <td>12469</td>\n",
              "      <td>5964</td>\n",
              "    </tr>\n",
              "    <tr>\n",
              "      <th>India</th>\n",
              "      <td>8403</td>\n",
              "      <td>2670</td>\n",
              "    </tr>\n",
              "    <tr>\n",
              "      <th>United Kingdom</th>\n",
              "      <td>3896</td>\n",
              "      <td>1621</td>\n",
              "    </tr>\n",
              "    <tr>\n",
              "      <th>Germany</th>\n",
              "      <td>3890</td>\n",
              "      <td>1712</td>\n",
              "    </tr>\n",
              "    <tr>\n",
              "      <th>Canada</th>\n",
              "      <td>2191</td>\n",
              "      <td>1011</td>\n",
              "    </tr>\n",
              "    <tr>\n",
              "      <th>...</th>\n",
              "      <td>...</td>\n",
              "      <td>...</td>\n",
              "    </tr>\n",
              "    <tr>\n",
              "      <th>Grenada</th>\n",
              "      <td>1</td>\n",
              "      <td>0</td>\n",
              "    </tr>\n",
              "    <tr>\n",
              "      <th>Micronesia, Federated States of...</th>\n",
              "      <td>1</td>\n",
              "      <td>1</td>\n",
              "    </tr>\n",
              "    <tr>\n",
              "      <th>North Korea</th>\n",
              "      <td>1</td>\n",
              "      <td>0</td>\n",
              "    </tr>\n",
              "    <tr>\n",
              "      <th>Fiji</th>\n",
              "      <td>1</td>\n",
              "      <td>0</td>\n",
              "    </tr>\n",
              "    <tr>\n",
              "      <th>Mali</th>\n",
              "      <td>1</td>\n",
              "      <td>0</td>\n",
              "    </tr>\n",
              "  </tbody>\n",
              "</table>\n",
              "<p>183 rows × 2 columns</p>\n",
              "</div>"
            ],
            "text/plain": [
              "                                    Country  LanguageWorkedWith\n",
              "United States                         12469                5964\n",
              "India                                  8403                2670\n",
              "United Kingdom                         3896                1621\n",
              "Germany                                3890                1712\n",
              "Canada                                 2191                1011\n",
              "...                                     ...                 ...\n",
              "Grenada                                   1                   0\n",
              "Micronesia, Federated States of...        1                   1\n",
              "North Korea                               1                   0\n",
              "Fiji                                      1                   0\n",
              "Mali                                      1                   0\n",
              "\n",
              "[183 rows x 2 columns]"
            ]
          },
          "execution_count": 31,
          "metadata": {},
          "output_type": "execute_result"
        }
      ]
    },
    {
      "cell_type": "code",
      "metadata": {
        "id": "9ddae01b-ccf8-44c6-915d-262f4778547b"
      },
      "source": [
        ""
      ],
      "id": "9ddae01b-ccf8-44c6-915d-262f4778547b",
      "execution_count": null,
      "outputs": []
    }
  ]
}